{
  "cells": [
    {
      "cell_type": "code",
      "execution_count": null,
      "metadata": {
        "id": "8tPxVHsDwyFu"
      },
      "outputs": [],
      "source": [
        "import pandas as pd\n",
        "import numpy as np\n",
        "import matplotlib.pyplot as plt\n",
        "import seaborn as sns\n",
        "%matplotlib inline\n",
        "import warnings\n",
        "warnings.filterwarnings(\"ignore\")\n",
        "\n",
        "import nltk\n",
        "from nltk.corpus import stopwords\n",
        "import re\n",
        "\n",
        "from spacy.lang.en import English\n",
        "from spacy.lang.en.stop_words import STOP_WORDS\n",
        "from sklearn.preprocessing import StandardScaler\n",
        "\n",
        "stop_words = STOP_WORDS\n",
        "import string\n",
        "punctuations = string.punctuation\n",
        "from gensim.models import Word2Vec\n",
        "\n",
        "from sklearn.model_selection import GridSearchCV,TimeSeriesSplit\n",
        "from sklearn.metrics import confusion_matrix,f1_score,classification_report\n",
        "from sklearn.naive_bayes import MultinomialNB"
      ]
    },
    {
      "cell_type": "code",
      "execution_count": null,
      "metadata": {
        "id": "w2aagSuqxBLX"
      },
      "outputs": [],
      "source": [
        "real_news = pd.read_csv('/content/True.csv')"
      ]
    },
    {
      "cell_type": "code",
      "execution_count": null,
      "metadata": {
        "id": "cH1kXSh22-fu"
      },
      "outputs": [],
      "source": [
        "fake_news = pd.read_csv('/content/Fake.csv')"
      ]
    },
    {
      "cell_type": "code",
      "execution_count": null,
      "metadata": {
        "colab": {
          "base_uri": "https://localhost:8080/"
        },
        "id": "fYFmq-U33yCX",
        "outputId": "644892b9-37f0-4039-9dae-12b11ecfcd91"
      },
      "outputs": [
        {
          "output_type": "execute_result",
          "data": {
            "text/plain": [
              "(21417, 4)"
            ]
          },
          "metadata": {},
          "execution_count": 8
        }
      ],
      "source": [
        "real_news.shape"
      ]
    },
    {
      "cell_type": "code",
      "execution_count": null,
      "metadata": {
        "colab": {
          "base_uri": "https://localhost:8080/"
        },
        "id": "-4ZM2rnS38bU",
        "outputId": "63024eff-bc74-465b-8560-78fa6bca9509"
      },
      "outputs": [
        {
          "output_type": "execute_result",
          "data": {
            "text/plain": [
              "(23481, 4)"
            ]
          },
          "metadata": {},
          "execution_count": 9
        }
      ],
      "source": [
        "fake_news.shape"
      ]
    },
    {
      "cell_type": "code",
      "execution_count": null,
      "metadata": {
        "colab": {
          "base_uri": "https://localhost:8080/",
          "height": 337
        },
        "id": "voBnFws84HwO",
        "outputId": "fa04a3ec-0204-48ce-8d8d-b6975b8c2d36"
      },
      "outputs": [
        {
          "output_type": "execute_result",
          "data": {
            "text/plain": [
              "                                               title  \\\n",
              "0  As U.S. budget fight looms, Republicans flip t...   \n",
              "1  U.S. military to accept transgender recruits o...   \n",
              "2  Senior U.S. Republican senator: 'Let Mr. Muell...   \n",
              "3  FBI Russia probe helped by Australian diplomat...   \n",
              "4  Trump wants Postal Service to charge 'much mor...   \n",
              "\n",
              "                                                text       subject  \\\n",
              "0  WASHINGTON (Reuters) - The head of a conservat...  politicsNews   \n",
              "1  WASHINGTON (Reuters) - Transgender people will...  politicsNews   \n",
              "2  WASHINGTON (Reuters) - The special counsel inv...  politicsNews   \n",
              "3  WASHINGTON (Reuters) - Trump campaign adviser ...  politicsNews   \n",
              "4  SEATTLE/WASHINGTON (Reuters) - President Donal...  politicsNews   \n",
              "\n",
              "                 date  \n",
              "0  December 31, 2017   \n",
              "1  December 29, 2017   \n",
              "2  December 31, 2017   \n",
              "3  December 30, 2017   \n",
              "4  December 29, 2017   "
            ],
            "text/html": [
              "\n",
              "  <div id=\"df-e03a580e-d4ad-4f6e-8e67-277b091e6df7\">\n",
              "    <div class=\"colab-df-container\">\n",
              "      <div>\n",
              "<style scoped>\n",
              "    .dataframe tbody tr th:only-of-type {\n",
              "        vertical-align: middle;\n",
              "    }\n",
              "\n",
              "    .dataframe tbody tr th {\n",
              "        vertical-align: top;\n",
              "    }\n",
              "\n",
              "    .dataframe thead th {\n",
              "        text-align: right;\n",
              "    }\n",
              "</style>\n",
              "<table border=\"1\" class=\"dataframe\">\n",
              "  <thead>\n",
              "    <tr style=\"text-align: right;\">\n",
              "      <th></th>\n",
              "      <th>title</th>\n",
              "      <th>text</th>\n",
              "      <th>subject</th>\n",
              "      <th>date</th>\n",
              "    </tr>\n",
              "  </thead>\n",
              "  <tbody>\n",
              "    <tr>\n",
              "      <th>0</th>\n",
              "      <td>As U.S. budget fight looms, Republicans flip t...</td>\n",
              "      <td>WASHINGTON (Reuters) - The head of a conservat...</td>\n",
              "      <td>politicsNews</td>\n",
              "      <td>December 31, 2017</td>\n",
              "    </tr>\n",
              "    <tr>\n",
              "      <th>1</th>\n",
              "      <td>U.S. military to accept transgender recruits o...</td>\n",
              "      <td>WASHINGTON (Reuters) - Transgender people will...</td>\n",
              "      <td>politicsNews</td>\n",
              "      <td>December 29, 2017</td>\n",
              "    </tr>\n",
              "    <tr>\n",
              "      <th>2</th>\n",
              "      <td>Senior U.S. Republican senator: 'Let Mr. Muell...</td>\n",
              "      <td>WASHINGTON (Reuters) - The special counsel inv...</td>\n",
              "      <td>politicsNews</td>\n",
              "      <td>December 31, 2017</td>\n",
              "    </tr>\n",
              "    <tr>\n",
              "      <th>3</th>\n",
              "      <td>FBI Russia probe helped by Australian diplomat...</td>\n",
              "      <td>WASHINGTON (Reuters) - Trump campaign adviser ...</td>\n",
              "      <td>politicsNews</td>\n",
              "      <td>December 30, 2017</td>\n",
              "    </tr>\n",
              "    <tr>\n",
              "      <th>4</th>\n",
              "      <td>Trump wants Postal Service to charge 'much mor...</td>\n",
              "      <td>SEATTLE/WASHINGTON (Reuters) - President Donal...</td>\n",
              "      <td>politicsNews</td>\n",
              "      <td>December 29, 2017</td>\n",
              "    </tr>\n",
              "  </tbody>\n",
              "</table>\n",
              "</div>\n",
              "      <button class=\"colab-df-convert\" onclick=\"convertToInteractive('df-e03a580e-d4ad-4f6e-8e67-277b091e6df7')\"\n",
              "              title=\"Convert this dataframe to an interactive table.\"\n",
              "              style=\"display:none;\">\n",
              "        \n",
              "  <svg xmlns=\"http://www.w3.org/2000/svg\" height=\"24px\"viewBox=\"0 0 24 24\"\n",
              "       width=\"24px\">\n",
              "    <path d=\"M0 0h24v24H0V0z\" fill=\"none\"/>\n",
              "    <path d=\"M18.56 5.44l.94 2.06.94-2.06 2.06-.94-2.06-.94-.94-2.06-.94 2.06-2.06.94zm-11 1L8.5 8.5l.94-2.06 2.06-.94-2.06-.94L8.5 2.5l-.94 2.06-2.06.94zm10 10l.94 2.06.94-2.06 2.06-.94-2.06-.94-.94-2.06-.94 2.06-2.06.94z\"/><path d=\"M17.41 7.96l-1.37-1.37c-.4-.4-.92-.59-1.43-.59-.52 0-1.04.2-1.43.59L10.3 9.45l-7.72 7.72c-.78.78-.78 2.05 0 2.83L4 21.41c.39.39.9.59 1.41.59.51 0 1.02-.2 1.41-.59l7.78-7.78 2.81-2.81c.8-.78.8-2.07 0-2.86zM5.41 20L4 18.59l7.72-7.72 1.47 1.35L5.41 20z\"/>\n",
              "  </svg>\n",
              "      </button>\n",
              "      \n",
              "  <style>\n",
              "    .colab-df-container {\n",
              "      display:flex;\n",
              "      flex-wrap:wrap;\n",
              "      gap: 12px;\n",
              "    }\n",
              "\n",
              "    .colab-df-convert {\n",
              "      background-color: #E8F0FE;\n",
              "      border: none;\n",
              "      border-radius: 50%;\n",
              "      cursor: pointer;\n",
              "      display: none;\n",
              "      fill: #1967D2;\n",
              "      height: 32px;\n",
              "      padding: 0 0 0 0;\n",
              "      width: 32px;\n",
              "    }\n",
              "\n",
              "    .colab-df-convert:hover {\n",
              "      background-color: #E2EBFA;\n",
              "      box-shadow: 0px 1px 2px rgba(60, 64, 67, 0.3), 0px 1px 3px 1px rgba(60, 64, 67, 0.15);\n",
              "      fill: #174EA6;\n",
              "    }\n",
              "\n",
              "    [theme=dark] .colab-df-convert {\n",
              "      background-color: #3B4455;\n",
              "      fill: #D2E3FC;\n",
              "    }\n",
              "\n",
              "    [theme=dark] .colab-df-convert:hover {\n",
              "      background-color: #434B5C;\n",
              "      box-shadow: 0px 1px 3px 1px rgba(0, 0, 0, 0.15);\n",
              "      filter: drop-shadow(0px 1px 2px rgba(0, 0, 0, 0.3));\n",
              "      fill: #FFFFFF;\n",
              "    }\n",
              "  </style>\n",
              "\n",
              "      <script>\n",
              "        const buttonEl =\n",
              "          document.querySelector('#df-e03a580e-d4ad-4f6e-8e67-277b091e6df7 button.colab-df-convert');\n",
              "        buttonEl.style.display =\n",
              "          google.colab.kernel.accessAllowed ? 'block' : 'none';\n",
              "\n",
              "        async function convertToInteractive(key) {\n",
              "          const element = document.querySelector('#df-e03a580e-d4ad-4f6e-8e67-277b091e6df7');\n",
              "          const dataTable =\n",
              "            await google.colab.kernel.invokeFunction('convertToInteractive',\n",
              "                                                     [key], {});\n",
              "          if (!dataTable) return;\n",
              "\n",
              "          const docLinkHtml = 'Like what you see? Visit the ' +\n",
              "            '<a target=\"_blank\" href=https://colab.research.google.com/notebooks/data_table.ipynb>data table notebook</a>'\n",
              "            + ' to learn more about interactive tables.';\n",
              "          element.innerHTML = '';\n",
              "          dataTable['output_type'] = 'display_data';\n",
              "          await google.colab.output.renderOutput(dataTable, element);\n",
              "          const docLink = document.createElement('div');\n",
              "          docLink.innerHTML = docLinkHtml;\n",
              "          element.appendChild(docLink);\n",
              "        }\n",
              "      </script>\n",
              "    </div>\n",
              "  </div>\n",
              "  "
            ]
          },
          "metadata": {},
          "execution_count": 10
        }
      ],
      "source": [
        "real_news.head()"
      ]
    },
    {
      "cell_type": "code",
      "execution_count": null,
      "metadata": {
        "colab": {
          "base_uri": "https://localhost:8080/",
          "height": 337
        },
        "id": "f3n-fqfq4NSo",
        "outputId": "2ea07be4-c7ae-4689-927c-a4061b865996"
      },
      "outputs": [
        {
          "output_type": "execute_result",
          "data": {
            "text/plain": [
              "                                               title  \\\n",
              "0   Donald Trump Sends Out Embarrassing New Year’...   \n",
              "1   Drunk Bragging Trump Staffer Started Russian ...   \n",
              "2   Sheriff David Clarke Becomes An Internet Joke...   \n",
              "3   Trump Is So Obsessed He Even Has Obama’s Name...   \n",
              "4   Pope Francis Just Called Out Donald Trump Dur...   \n",
              "\n",
              "                                                text subject  \\\n",
              "0  Donald Trump just couldn t wish all Americans ...    News   \n",
              "1  House Intelligence Committee Chairman Devin Nu...    News   \n",
              "2  On Friday, it was revealed that former Milwauk...    News   \n",
              "3  On Christmas day, Donald Trump announced that ...    News   \n",
              "4  Pope Francis used his annual Christmas Day mes...    News   \n",
              "\n",
              "                date  \n",
              "0  December 31, 2017  \n",
              "1  December 31, 2017  \n",
              "2  December 30, 2017  \n",
              "3  December 29, 2017  \n",
              "4  December 25, 2017  "
            ],
            "text/html": [
              "\n",
              "  <div id=\"df-8f009cd9-acfa-45a4-a8b3-76f32c05dc1c\">\n",
              "    <div class=\"colab-df-container\">\n",
              "      <div>\n",
              "<style scoped>\n",
              "    .dataframe tbody tr th:only-of-type {\n",
              "        vertical-align: middle;\n",
              "    }\n",
              "\n",
              "    .dataframe tbody tr th {\n",
              "        vertical-align: top;\n",
              "    }\n",
              "\n",
              "    .dataframe thead th {\n",
              "        text-align: right;\n",
              "    }\n",
              "</style>\n",
              "<table border=\"1\" class=\"dataframe\">\n",
              "  <thead>\n",
              "    <tr style=\"text-align: right;\">\n",
              "      <th></th>\n",
              "      <th>title</th>\n",
              "      <th>text</th>\n",
              "      <th>subject</th>\n",
              "      <th>date</th>\n",
              "    </tr>\n",
              "  </thead>\n",
              "  <tbody>\n",
              "    <tr>\n",
              "      <th>0</th>\n",
              "      <td>Donald Trump Sends Out Embarrassing New Year’...</td>\n",
              "      <td>Donald Trump just couldn t wish all Americans ...</td>\n",
              "      <td>News</td>\n",
              "      <td>December 31, 2017</td>\n",
              "    </tr>\n",
              "    <tr>\n",
              "      <th>1</th>\n",
              "      <td>Drunk Bragging Trump Staffer Started Russian ...</td>\n",
              "      <td>House Intelligence Committee Chairman Devin Nu...</td>\n",
              "      <td>News</td>\n",
              "      <td>December 31, 2017</td>\n",
              "    </tr>\n",
              "    <tr>\n",
              "      <th>2</th>\n",
              "      <td>Sheriff David Clarke Becomes An Internet Joke...</td>\n",
              "      <td>On Friday, it was revealed that former Milwauk...</td>\n",
              "      <td>News</td>\n",
              "      <td>December 30, 2017</td>\n",
              "    </tr>\n",
              "    <tr>\n",
              "      <th>3</th>\n",
              "      <td>Trump Is So Obsessed He Even Has Obama’s Name...</td>\n",
              "      <td>On Christmas day, Donald Trump announced that ...</td>\n",
              "      <td>News</td>\n",
              "      <td>December 29, 2017</td>\n",
              "    </tr>\n",
              "    <tr>\n",
              "      <th>4</th>\n",
              "      <td>Pope Francis Just Called Out Donald Trump Dur...</td>\n",
              "      <td>Pope Francis used his annual Christmas Day mes...</td>\n",
              "      <td>News</td>\n",
              "      <td>December 25, 2017</td>\n",
              "    </tr>\n",
              "  </tbody>\n",
              "</table>\n",
              "</div>\n",
              "      <button class=\"colab-df-convert\" onclick=\"convertToInteractive('df-8f009cd9-acfa-45a4-a8b3-76f32c05dc1c')\"\n",
              "              title=\"Convert this dataframe to an interactive table.\"\n",
              "              style=\"display:none;\">\n",
              "        \n",
              "  <svg xmlns=\"http://www.w3.org/2000/svg\" height=\"24px\"viewBox=\"0 0 24 24\"\n",
              "       width=\"24px\">\n",
              "    <path d=\"M0 0h24v24H0V0z\" fill=\"none\"/>\n",
              "    <path d=\"M18.56 5.44l.94 2.06.94-2.06 2.06-.94-2.06-.94-.94-2.06-.94 2.06-2.06.94zm-11 1L8.5 8.5l.94-2.06 2.06-.94-2.06-.94L8.5 2.5l-.94 2.06-2.06.94zm10 10l.94 2.06.94-2.06 2.06-.94-2.06-.94-.94-2.06-.94 2.06-2.06.94z\"/><path d=\"M17.41 7.96l-1.37-1.37c-.4-.4-.92-.59-1.43-.59-.52 0-1.04.2-1.43.59L10.3 9.45l-7.72 7.72c-.78.78-.78 2.05 0 2.83L4 21.41c.39.39.9.59 1.41.59.51 0 1.02-.2 1.41-.59l7.78-7.78 2.81-2.81c.8-.78.8-2.07 0-2.86zM5.41 20L4 18.59l7.72-7.72 1.47 1.35L5.41 20z\"/>\n",
              "  </svg>\n",
              "      </button>\n",
              "      \n",
              "  <style>\n",
              "    .colab-df-container {\n",
              "      display:flex;\n",
              "      flex-wrap:wrap;\n",
              "      gap: 12px;\n",
              "    }\n",
              "\n",
              "    .colab-df-convert {\n",
              "      background-color: #E8F0FE;\n",
              "      border: none;\n",
              "      border-radius: 50%;\n",
              "      cursor: pointer;\n",
              "      display: none;\n",
              "      fill: #1967D2;\n",
              "      height: 32px;\n",
              "      padding: 0 0 0 0;\n",
              "      width: 32px;\n",
              "    }\n",
              "\n",
              "    .colab-df-convert:hover {\n",
              "      background-color: #E2EBFA;\n",
              "      box-shadow: 0px 1px 2px rgba(60, 64, 67, 0.3), 0px 1px 3px 1px rgba(60, 64, 67, 0.15);\n",
              "      fill: #174EA6;\n",
              "    }\n",
              "\n",
              "    [theme=dark] .colab-df-convert {\n",
              "      background-color: #3B4455;\n",
              "      fill: #D2E3FC;\n",
              "    }\n",
              "\n",
              "    [theme=dark] .colab-df-convert:hover {\n",
              "      background-color: #434B5C;\n",
              "      box-shadow: 0px 1px 3px 1px rgba(0, 0, 0, 0.15);\n",
              "      filter: drop-shadow(0px 1px 2px rgba(0, 0, 0, 0.3));\n",
              "      fill: #FFFFFF;\n",
              "    }\n",
              "  </style>\n",
              "\n",
              "      <script>\n",
              "        const buttonEl =\n",
              "          document.querySelector('#df-8f009cd9-acfa-45a4-a8b3-76f32c05dc1c button.colab-df-convert');\n",
              "        buttonEl.style.display =\n",
              "          google.colab.kernel.accessAllowed ? 'block' : 'none';\n",
              "\n",
              "        async function convertToInteractive(key) {\n",
              "          const element = document.querySelector('#df-8f009cd9-acfa-45a4-a8b3-76f32c05dc1c');\n",
              "          const dataTable =\n",
              "            await google.colab.kernel.invokeFunction('convertToInteractive',\n",
              "                                                     [key], {});\n",
              "          if (!dataTable) return;\n",
              "\n",
              "          const docLinkHtml = 'Like what you see? Visit the ' +\n",
              "            '<a target=\"_blank\" href=https://colab.research.google.com/notebooks/data_table.ipynb>data table notebook</a>'\n",
              "            + ' to learn more about interactive tables.';\n",
              "          element.innerHTML = '';\n",
              "          dataTable['output_type'] = 'display_data';\n",
              "          await google.colab.output.renderOutput(dataTable, element);\n",
              "          const docLink = document.createElement('div');\n",
              "          docLink.innerHTML = docLinkHtml;\n",
              "          element.appendChild(docLink);\n",
              "        }\n",
              "      </script>\n",
              "    </div>\n",
              "  </div>\n",
              "  "
            ]
          },
          "metadata": {},
          "execution_count": 11
        }
      ],
      "source": [
        "fake_news.head()"
      ]
    },
    {
      "cell_type": "code",
      "execution_count": null,
      "metadata": {
        "colab": {
          "base_uri": "https://localhost:8080/"
        },
        "id": "X0iaZmJPnoYx",
        "outputId": "c382731d-a2d3-4d64-9326-d45836ff295d"
      },
      "outputs": [
        {
          "output_type": "stream",
          "name": "stdout",
          "text": [
            "<class 'pandas.core.frame.DataFrame'>\n",
            "RangeIndex: 21417 entries, 0 to 21416\n",
            "Data columns (total 4 columns):\n",
            " #   Column   Non-Null Count  Dtype \n",
            "---  ------   --------------  ----- \n",
            " 0   title    21417 non-null  object\n",
            " 1   text     21417 non-null  object\n",
            " 2   subject  21417 non-null  object\n",
            " 3   date     21417 non-null  object\n",
            "dtypes: object(4)\n",
            "memory usage: 669.4+ KB\n"
          ]
        }
      ],
      "source": [
        "real_news.info()"
      ]
    },
    {
      "cell_type": "code",
      "execution_count": null,
      "metadata": {
        "colab": {
          "base_uri": "https://localhost:8080/"
        },
        "id": "9WFiPky6nyiD",
        "outputId": "fd3f0f17-b51d-4cf5-e37c-64601122f05c"
      },
      "outputs": [
        {
          "output_type": "stream",
          "name": "stdout",
          "text": [
            "<class 'pandas.core.frame.DataFrame'>\n",
            "RangeIndex: 23481 entries, 0 to 23480\n",
            "Data columns (total 4 columns):\n",
            " #   Column   Non-Null Count  Dtype \n",
            "---  ------   --------------  ----- \n",
            " 0   title    23481 non-null  object\n",
            " 1   text     23481 non-null  object\n",
            " 2   subject  23481 non-null  object\n",
            " 3   date     23481 non-null  object\n",
            "dtypes: object(4)\n",
            "memory usage: 733.9+ KB\n"
          ]
        }
      ],
      "source": [
        "fake_news.info()"
      ]
    },
    {
      "cell_type": "code",
      "execution_count": null,
      "metadata": {
        "colab": {
          "base_uri": "https://localhost:8080/",
          "height": 353
        },
        "id": "H9cx7Auhn3zs",
        "outputId": "d46ef24c-09c8-4388-8208-6725e93d4bb5"
      },
      "outputs": [
        {
          "output_type": "display_data",
          "data": {
            "text/plain": [
              "<Figure size 720x360 with 1 Axes>"
            ],
            "image/png": "[encoded data removed]"
          },
          "metadata": {
            "needs_background": "light"
          }
        }
      ],
      "source": [
        "real_subject_count=real_news['subject'].value_counts()\n",
        "plt.figure(figsize=(10,5))\n",
        "sns.barplot(real_subject_count.index, real_subject_count.values, alpha=0.8)\n",
        "plt.title('Subject of the Real News')\n",
        "plt.ylabel('Number of Occurrences', fontsize=12)\n",
        "plt.xlabel('Type of News', fontsize=12)\n",
        "plt.show()"
      ]
    },
    {
      "cell_type": "code",
      "execution_count": null,
      "metadata": {
        "colab": {
          "base_uri": "https://localhost:8080/",
          "height": 354
        },
        "id": "I4jHtkeTn760",
        "outputId": "7f737905-f0f2-4593-91c2-b7fb492baa24"
      },
      "outputs": [
        {
          "output_type": "display_data",
          "data": {
            "text/plain": [
              "<Figure size 720x360 with 1 Axes>"
            ],
            "image/png": "[encoded data removed]"
          },
          "metadata": {
            "needs_background": "light"
          }
        }
      ],
      "source": [
        "fake_subject_count=fake_news.subject.value_counts()\n",
        "plt.figure(figsize=(10,5))\n",
        "sns.barplot(fake_subject_count.index, fake_subject_count.values, alpha=0.8)\n",
        "plt.title('Subject of the Fake News')\n",
        "plt.ylabel('Number of Occurrences', fontsize=12)\n",
        "plt.xlabel('Type of News', fontsize=12)\n",
        "plt.show()"
      ]
    },
    {
      "cell_type": "code",
      "execution_count": null,
      "metadata": {
        "colab": {
          "base_uri": "https://localhost:8080/",
          "height": 514
        },
        "id": "0yHeMJwGoACY",
        "outputId": "3b4d4e2a-d9bc-420d-de7e-dcf80883d884"
      },
      "outputs": [
        {
          "output_type": "execute_result",
          "data": {
            "text/plain": [
              "<matplotlib.axes._subplots.AxesSubplot at 0x7f454b8b90a0>"
            ]
          },
          "metadata": {},
          "execution_count": 16
        },
        {
          "output_type": "display_data",
          "data": {
            "text/plain": [
              "<Figure size 576x576 with 1 Axes>"
            ],
            "image/png": "[encoded data removed]"
          },
          "metadata": {
            "needs_background": "light"
          }
        }
      ],
      "source": [
        "plt.figure(figsize=(8,8))\n",
        "sns.countplot(y='subject', data = fake_news)"
      ]
    },
    {
      "cell_type": "code",
      "execution_count": null,
      "metadata": {
        "colab": {
          "base_uri": "https://localhost:8080/",
          "height": 514
        },
        "id": "Vrd68petoEC4",
        "outputId": "4a195185-b70e-4979-d6b4-3ed8c081e31b"
      },
      "outputs": [
        {
          "output_type": "execute_result",
          "data": {
            "text/plain": [
              "<matplotlib.axes._subplots.AxesSubplot at 0x7f454b8b9a00>"
            ]
          },
          "metadata": {},
          "execution_count": 17
        },
        {
          "output_type": "display_data",
          "data": {
            "text/plain": [
              "<Figure size 576x576 with 1 Axes>"
            ],
            "image/png": "[encoded data removed]"
          },
          "metadata": {
            "needs_background": "light"
          }
        }
      ],
      "source": [
        "plt.figure(figsize=(8,8))\n",
        "sns.countplot(y='subject', data = real_news)"
      ]
    },
    {
      "cell_type": "code",
      "execution_count": null,
      "metadata": {
        "colab": {
          "base_uri": "https://localhost:8080/",
          "height": 215
        },
        "id": "pl_UxR7yoHqP",
        "outputId": "239915a5-6423-47d7-9535-0652454243e3"
      },
      "outputs": [
        {
          "output_type": "execute_result",
          "data": {
            "text/plain": [
              "(-0.5, 399.5, 199.5, -0.5)"
            ]
          },
          "metadata": {},
          "execution_count": 18
        },
        {
          "output_type": "display_data",
          "data": {
            "text/plain": [
              "<Figure size 432x288 with 1 Axes>"
            ],
            "image/png": "[encoded data removed]"
          },
          "metadata": {
            "needs_background": "light"
          }
        }
      ],
      "source": [
        "from wordcloud import WordCloud\n",
        "wc = WordCloud().generate('text'.join(real_news['text']))\n",
        "2\n",
        "plt.imshow(wc, interpolation=\"bilinear\")\n",
        "3\n",
        "plt.axis('off')"
      ]
    },
    {
      "cell_type": "code",
      "execution_count": null,
      "metadata": {
        "colab": {
          "base_uri": "https://localhost:8080/",
          "height": 215
        },
        "id": "i7DEoMmpoLKD",
        "outputId": "1ec1bd1e-9ae6-414f-89e8-ae3984d9fe70"
      },
      "outputs": [
        {
          "output_type": "execute_result",
          "data": {
            "text/plain": [
              "(-0.5, 399.5, 199.5, -0.5)"
            ]
          },
          "metadata": {},
          "execution_count": 19
        },
        {
          "output_type": "display_data",
          "data": {
            "text/plain": [
              "<Figure size 432x288 with 1 Axes>"
            ],
            "image/png": "[encoded data removed]"
          },
          "metadata": {
            "needs_background": "light"
          }
        }
      ],
      "source": [
        "from wordcloud import WordCloud\n",
        "wc = WordCloud().generate('text'.join(fake_news['text']))\n",
        "2\n",
        "plt.imshow(wc, interpolation=\"bilinear\")\n",
        "3\n",
        "plt.axis('off')"
      ]
    },
    {
      "cell_type": "code",
      "execution_count": null,
      "metadata": {
        "id": "2SrP0_kkoYgY"
      },
      "outputs": [],
      "source": [
        "real_news1=real_news[real_news['subject']=='politicsNews']\n",
        "fake_news1=fake_news[fake_news['subject'].isin(['politics','Government News', 'US_News'])].reset_index(drop=True)"
      ]
    },
    {
      "cell_type": "code",
      "execution_count": null,
      "metadata": {
        "colab": {
          "base_uri": "https://localhost:8080/"
        },
        "id": "-1fhFvxRomA_",
        "outputId": "adaa71c8-67b7-45cb-e703-60b7ea1e0380"
      },
      "outputs": [
        {
          "output_type": "execute_result",
          "data": {
            "text/plain": [
              "(politics           6841\n",
              " Government News    1570\n",
              " US_News             783\n",
              " Name: subject, dtype: int64, politicsNews    11272\n",
              " Name: subject, dtype: int64)"
            ]
          },
          "metadata": {},
          "execution_count": 21
        }
      ],
      "source": [
        "fake_news1.subject.value_counts(), real_news1.subject.value_counts()"
      ]
    },
    {
      "cell_type": "code",
      "execution_count": null,
      "metadata": {
        "colab": {
          "base_uri": "https://localhost:8080/",
          "height": 98
        },
        "id": "9r8WadvToonq",
        "outputId": "3340e37e-14ce-4172-be34-256d43dfc716"
      },
      "outputs": [
        {
          "output_type": "stream",
          "name": "stdout",
          "text": [
            "No of empty rows: 1\n"
          ]
        },
        {
          "output_type": "execute_result",
          "data": {
            "text/plain": [
              "                               title text       subject            date\n",
              "8970  Graphic: Supreme Court roundup       politicsNews  June 16, 2016 "
            ],
            "text/html": [
              "\n",
              "  <div id=\"df-f328fb06-3400-457e-9afc-34d6ae33e8ed\">\n",
              "    <div class=\"colab-df-container\">\n",
              "      <div>\n",
              "<style scoped>\n",
              "    .dataframe tbody tr th:only-of-type {\n",
              "        vertical-align: middle;\n",
              "    }\n",
              "\n",
              "    .dataframe tbody tr th {\n",
              "        vertical-align: top;\n",
              "    }\n",
              "\n",
              "    .dataframe thead th {\n",
              "        text-align: right;\n",
              "    }\n",
              "</style>\n",
              "<table border=\"1\" class=\"dataframe\">\n",
              "  <thead>\n",
              "    <tr style=\"text-align: right;\">\n",
              "      <th></th>\n",
              "      <th>title</th>\n",
              "      <th>text</th>\n",
              "      <th>subject</th>\n",
              "      <th>date</th>\n",
              "    </tr>\n",
              "  </thead>\n",
              "  <tbody>\n",
              "    <tr>\n",
              "      <th>8970</th>\n",
              "      <td>Graphic: Supreme Court roundup</td>\n",
              "      <td></td>\n",
              "      <td>politicsNews</td>\n",
              "      <td>June 16, 2016</td>\n",
              "    </tr>\n",
              "  </tbody>\n",
              "</table>\n",
              "</div>\n",
              "      <button class=\"colab-df-convert\" onclick=\"convertToInteractive('df-f328fb06-3400-457e-9afc-34d6ae33e8ed')\"\n",
              "              title=\"Convert this dataframe to an interactive table.\"\n",
              "              style=\"display:none;\">\n",
              "        \n",
              "  <svg xmlns=\"http://www.w3.org/2000/svg\" height=\"24px\"viewBox=\"0 0 24 24\"\n",
              "       width=\"24px\">\n",
              "    <path d=\"M0 0h24v24H0V0z\" fill=\"none\"/>\n",
              "    <path d=\"M18.56 5.44l.94 2.06.94-2.06 2.06-.94-2.06-.94-.94-2.06-.94 2.06-2.06.94zm-11 1L8.5 8.5l.94-2.06 2.06-.94-2.06-.94L8.5 2.5l-.94 2.06-2.06.94zm10 10l.94 2.06.94-2.06 2.06-.94-2.06-.94-.94-2.06-.94 2.06-2.06.94z\"/><path d=\"M17.41 7.96l-1.37-1.37c-.4-.4-.92-.59-1.43-.59-.52 0-1.04.2-1.43.59L10.3 9.45l-7.72 7.72c-.78.78-.78 2.05 0 2.83L4 21.41c.39.39.9.59 1.41.59.51 0 1.02-.2 1.41-.59l7.78-7.78 2.81-2.81c.8-.78.8-2.07 0-2.86zM5.41 20L4 18.59l7.72-7.72 1.47 1.35L5.41 20z\"/>\n",
              "  </svg>\n",
              "      </button>\n",
              "      \n",
              "  <style>\n",
              "    .colab-df-container {\n",
              "      display:flex;\n",
              "      flex-wrap:wrap;\n",
              "      gap: 12px;\n",
              "    }\n",
              "\n",
              "    .colab-df-convert {\n",
              "      background-color: #E8F0FE;\n",
              "      border: none;\n",
              "      border-radius: 50%;\n",
              "      cursor: pointer;\n",
              "      display: none;\n",
              "      fill: #1967D2;\n",
              "      height: 32px;\n",
              "      padding: 0 0 0 0;\n",
              "      width: 32px;\n",
              "    }\n",
              "\n",
              "    .colab-df-convert:hover {\n",
              "      background-color: #E2EBFA;\n",
              "      box-shadow: 0px 1px 2px rgba(60, 64, 67, 0.3), 0px 1px 3px 1px rgba(60, 64, 67, 0.15);\n",
              "      fill: #174EA6;\n",
              "    }\n",
              "\n",
              "    [theme=dark] .colab-df-convert {\n",
              "      background-color: #3B4455;\n",
              "      fill: #D2E3FC;\n",
              "    }\n",
              "\n",
              "    [theme=dark] .colab-df-convert:hover {\n",
              "      background-color: #434B5C;\n",
              "      box-shadow: 0px 1px 3px 1px rgba(0, 0, 0, 0.15);\n",
              "      filter: drop-shadow(0px 1px 2px rgba(0, 0, 0, 0.3));\n",
              "      fill: #FFFFFF;\n",
              "    }\n",
              "  </style>\n",
              "\n",
              "      <script>\n",
              "        const buttonEl =\n",
              "          document.querySelector('#df-f328fb06-3400-457e-9afc-34d6ae33e8ed button.colab-df-convert');\n",
              "        buttonEl.style.display =\n",
              "          google.colab.kernel.accessAllowed ? 'block' : 'none';\n",
              "\n",
              "        async function convertToInteractive(key) {\n",
              "          const element = document.querySelector('#df-f328fb06-3400-457e-9afc-34d6ae33e8ed');\n",
              "          const dataTable =\n",
              "            await google.colab.kernel.invokeFunction('convertToInteractive',\n",
              "                                                     [key], {});\n",
              "          if (!dataTable) return;\n",
              "\n",
              "          const docLinkHtml = 'Like what you see? Visit the ' +\n",
              "            '<a target=\"_blank\" href=https://colab.research.google.com/notebooks/data_table.ipynb>data table notebook</a>'\n",
              "            + ' to learn more about interactive tables.';\n",
              "          element.innerHTML = '';\n",
              "          dataTable['output_type'] = 'display_data';\n",
              "          await google.colab.output.renderOutput(dataTable, element);\n",
              "          const docLink = document.createElement('div');\n",
              "          docLink.innerHTML = docLinkHtml;\n",
              "          element.appendChild(docLink);\n",
              "        }\n",
              "      </script>\n",
              "    </div>\n",
              "  </div>\n",
              "  "
            ]
          },
          "metadata": {},
          "execution_count": 22
        }
      ],
      "source": [
        "empty_real_index = [index for index,text in enumerate(real_news1.text.values) if str(text).strip() == '']\n",
        "print(f\"No of empty rows: {len(empty_real_index)}\")\n",
        "real_news1.iloc[empty_real_index].tail()"
      ]
    },
    {
      "cell_type": "code",
      "execution_count": null,
      "metadata": {
        "colab": {
          "base_uri": "https://localhost:8080/",
          "height": 223
        },
        "id": "WcVTG4mUo09C",
        "outputId": "6e913737-aa8c-457b-c369-2126aac2f261"
      },
      "outputs": [
        {
          "output_type": "stream",
          "name": "stdout",
          "text": [
            "No of empty rows: 480\n"
          ]
        },
        {
          "output_type": "execute_result",
          "data": {
            "text/plain": [
              "                                                  title text          subject  \\\n",
              "8312  (VIDEO)MILWAUKEE SHERIFF DAVID CLARKE HAMMERS ...       Government News   \n",
              "8323  BLACK REPUBLICAN AND BRILLIANT NEUROSURGEON AN...       Government News   \n",
              "8325  (VIDEO)INCREDIBLE ACCOUNT FROM SHERIFF MICHAEL...       Government News   \n",
              "8337  (VIDEO) RIOTERS TAKE SELFIES WITH TORCHED POLI...       Government News   \n",
              "8368  TREY GOWDY TO DEA CHIEF ON MISCONDUCT: “WHAT T...       Government News   \n",
              "\n",
              "              date  \n",
              "8312   May 8, 2015  \n",
              "8323   May 5, 2015  \n",
              "8325   May 4, 2015  \n",
              "8337  Apr 27, 2015  \n",
              "8368  Apr 14, 2015  "
            ],
            "text/html": [
              "\n",
              "  <div id=\"df-27bd2087-1829-47e0-bd00-96d3c2725fe1\">\n",
              "    <div class=\"colab-df-container\">\n",
              "      <div>\n",
              "<style scoped>\n",
              "    .dataframe tbody tr th:only-of-type {\n",
              "        vertical-align: middle;\n",
              "    }\n",
              "\n",
              "    .dataframe tbody tr th {\n",
              "        vertical-align: top;\n",
              "    }\n",
              "\n",
              "    .dataframe thead th {\n",
              "        text-align: right;\n",
              "    }\n",
              "</style>\n",
              "<table border=\"1\" class=\"dataframe\">\n",
              "  <thead>\n",
              "    <tr style=\"text-align: right;\">\n",
              "      <th></th>\n",
              "      <th>title</th>\n",
              "      <th>text</th>\n",
              "      <th>subject</th>\n",
              "      <th>date</th>\n",
              "    </tr>\n",
              "  </thead>\n",
              "  <tbody>\n",
              "    <tr>\n",
              "      <th>8312</th>\n",
              "      <td>(VIDEO)MILWAUKEE SHERIFF DAVID CLARKE HAMMERS ...</td>\n",
              "      <td></td>\n",
              "      <td>Government News</td>\n",
              "      <td>May 8, 2015</td>\n",
              "    </tr>\n",
              "    <tr>\n",
              "      <th>8323</th>\n",
              "      <td>BLACK REPUBLICAN AND BRILLIANT NEUROSURGEON AN...</td>\n",
              "      <td></td>\n",
              "      <td>Government News</td>\n",
              "      <td>May 5, 2015</td>\n",
              "    </tr>\n",
              "    <tr>\n",
              "      <th>8325</th>\n",
              "      <td>(VIDEO)INCREDIBLE ACCOUNT FROM SHERIFF MICHAEL...</td>\n",
              "      <td></td>\n",
              "      <td>Government News</td>\n",
              "      <td>May 4, 2015</td>\n",
              "    </tr>\n",
              "    <tr>\n",
              "      <th>8337</th>\n",
              "      <td>(VIDEO) RIOTERS TAKE SELFIES WITH TORCHED POLI...</td>\n",
              "      <td></td>\n",
              "      <td>Government News</td>\n",
              "      <td>Apr 27, 2015</td>\n",
              "    </tr>\n",
              "    <tr>\n",
              "      <th>8368</th>\n",
              "      <td>TREY GOWDY TO DEA CHIEF ON MISCONDUCT: “WHAT T...</td>\n",
              "      <td></td>\n",
              "      <td>Government News</td>\n",
              "      <td>Apr 14, 2015</td>\n",
              "    </tr>\n",
              "  </tbody>\n",
              "</table>\n",
              "</div>\n",
              "      <button class=\"colab-df-convert\" onclick=\"convertToInteractive('df-27bd2087-1829-47e0-bd00-96d3c2725fe1')\"\n",
              "              title=\"Convert this dataframe to an interactive table.\"\n",
              "              style=\"display:none;\">\n",
              "        \n",
              "  <svg xmlns=\"http://www.w3.org/2000/svg\" height=\"24px\"viewBox=\"0 0 24 24\"\n",
              "       width=\"24px\">\n",
              "    <path d=\"M0 0h24v24H0V0z\" fill=\"none\"/>\n",
              "    <path d=\"M18.56 5.44l.94 2.06.94-2.06 2.06-.94-2.06-.94-.94-2.06-.94 2.06-2.06.94zm-11 1L8.5 8.5l.94-2.06 2.06-.94-2.06-.94L8.5 2.5l-.94 2.06-2.06.94zm10 10l.94 2.06.94-2.06 2.06-.94-2.06-.94-.94-2.06-.94 2.06-2.06.94z\"/><path d=\"M17.41 7.96l-1.37-1.37c-.4-.4-.92-.59-1.43-.59-.52 0-1.04.2-1.43.59L10.3 9.45l-7.72 7.72c-.78.78-.78 2.05 0 2.83L4 21.41c.39.39.9.59 1.41.59.51 0 1.02-.2 1.41-.59l7.78-7.78 2.81-2.81c.8-.78.8-2.07 0-2.86zM5.41 20L4 18.59l7.72-7.72 1.47 1.35L5.41 20z\"/>\n",
              "  </svg>\n",
              "      </button>\n",
              "      \n",
              "  <style>\n",
              "    .colab-df-container {\n",
              "      display:flex;\n",
              "      flex-wrap:wrap;\n",
              "      gap: 12px;\n",
              "    }\n",
              "\n",
              "    .colab-df-convert {\n",
              "      background-color: #E8F0FE;\n",
              "      border: none;\n",
              "      border-radius: 50%;\n",
              "      cursor: pointer;\n",
              "      display: none;\n",
              "      fill: #1967D2;\n",
              "      height: 32px;\n",
              "      padding: 0 0 0 0;\n",
              "      width: 32px;\n",
              "    }\n",
              "\n",
              "    .colab-df-convert:hover {\n",
              "      background-color: #E2EBFA;\n",
              "      box-shadow: 0px 1px 2px rgba(60, 64, 67, 0.3), 0px 1px 3px 1px rgba(60, 64, 67, 0.15);\n",
              "      fill: #174EA6;\n",
              "    }\n",
              "\n",
              "    [theme=dark] .colab-df-convert {\n",
              "      background-color: #3B4455;\n",
              "      fill: #D2E3FC;\n",
              "    }\n",
              "\n",
              "    [theme=dark] .colab-df-convert:hover {\n",
              "      background-color: #434B5C;\n",
              "      box-shadow: 0px 1px 3px 1px rgba(0, 0, 0, 0.15);\n",
              "      filter: drop-shadow(0px 1px 2px rgba(0, 0, 0, 0.3));\n",
              "      fill: #FFFFFF;\n",
              "    }\n",
              "  </style>\n",
              "\n",
              "      <script>\n",
              "        const buttonEl =\n",
              "          document.querySelector('#df-27bd2087-1829-47e0-bd00-96d3c2725fe1 button.colab-df-convert');\n",
              "        buttonEl.style.display =\n",
              "          google.colab.kernel.accessAllowed ? 'block' : 'none';\n",
              "\n",
              "        async function convertToInteractive(key) {\n",
              "          const element = document.querySelector('#df-27bd2087-1829-47e0-bd00-96d3c2725fe1');\n",
              "          const dataTable =\n",
              "            await google.colab.kernel.invokeFunction('convertToInteractive',\n",
              "                                                     [key], {});\n",
              "          if (!dataTable) return;\n",
              "\n",
              "          const docLinkHtml = 'Like what you see? Visit the ' +\n",
              "            '<a target=\"_blank\" href=https://colab.research.google.com/notebooks/data_table.ipynb>data table notebook</a>'\n",
              "            + ' to learn more about interactive tables.';\n",
              "          element.innerHTML = '';\n",
              "          dataTable['output_type'] = 'display_data';\n",
              "          await google.colab.output.renderOutput(dataTable, element);\n",
              "          const docLink = document.createElement('div');\n",
              "          docLink.innerHTML = docLinkHtml;\n",
              "          element.appendChild(docLink);\n",
              "        }\n",
              "      </script>\n",
              "    </div>\n",
              "  </div>\n",
              "  "
            ]
          },
          "metadata": {},
          "execution_count": 23
        }
      ],
      "source": [
        "empty_fake_index = [index for index,text in enumerate(fake_news1.text.values) if str(text).strip() == '']\n",
        "print(f\"No of empty rows: {len(empty_fake_index)}\")\n",
        "fake_news1.iloc[empty_fake_index].tail()"
      ]
    },
    {
      "cell_type": "code",
      "execution_count": null,
      "metadata": {
        "id": "W4_QZUFzo5Qx"
      },
      "outputs": [],
      "source": [
        "real_news1 = real_news1.drop(8970, axis=0)"
      ]
    },
    {
      "cell_type": "code",
      "execution_count": null,
      "metadata": {
        "colab": {
          "base_uri": "https://localhost:8080/",
          "height": 67
        },
        "id": "Hu0KLKeto9cb",
        "outputId": "8fd50d2c-6361-4ff3-e7dc-45e2dca388cb"
      },
      "outputs": [
        {
          "output_type": "stream",
          "name": "stdout",
          "text": [
            "No of empty rows: 0\n"
          ]
        },
        {
          "output_type": "execute_result",
          "data": {
            "text/plain": [
              "Empty DataFrame\n",
              "Columns: [title, text, subject, date]\n",
              "Index: []"
            ],
            "text/html": [
              "\n",
              "  <div id=\"df-56bfd57a-3f33-49ae-9541-dd22eb90f408\">\n",
              "    <div class=\"colab-df-container\">\n",
              "      <div>\n",
              "<style scoped>\n",
              "    .dataframe tbody tr th:only-of-type {\n",
              "        vertical-align: middle;\n",
              "    }\n",
              "\n",
              "    .dataframe tbody tr th {\n",
              "        vertical-align: top;\n",
              "    }\n",
              "\n",
              "    .dataframe thead th {\n",
              "        text-align: right;\n",
              "    }\n",
              "</style>\n",
              "<table border=\"1\" class=\"dataframe\">\n",
              "  <thead>\n",
              "    <tr style=\"text-align: right;\">\n",
              "      <th></th>\n",
              "      <th>title</th>\n",
              "      <th>text</th>\n",
              "      <th>subject</th>\n",
              "      <th>date</th>\n",
              "    </tr>\n",
              "  </thead>\n",
              "  <tbody>\n",
              "  </tbody>\n",
              "</table>\n",
              "</div>\n",
              "      <button class=\"colab-df-convert\" onclick=\"convertToInteractive('df-56bfd57a-3f33-49ae-9541-dd22eb90f408')\"\n",
              "              title=\"Convert this dataframe to an interactive table.\"\n",
              "              style=\"display:none;\">\n",
              "        \n",
              "  <svg xmlns=\"http://www.w3.org/2000/svg\" height=\"24px\"viewBox=\"0 0 24 24\"\n",
              "       width=\"24px\">\n",
              "    <path d=\"M0 0h24v24H0V0z\" fill=\"none\"/>\n",
              "    <path d=\"M18.56 5.44l.94 2.06.94-2.06 2.06-.94-2.06-.94-.94-2.06-.94 2.06-2.06.94zm-11 1L8.5 8.5l.94-2.06 2.06-.94-2.06-.94L8.5 2.5l-.94 2.06-2.06.94zm10 10l.94 2.06.94-2.06 2.06-.94-2.06-.94-.94-2.06-.94 2.06-2.06.94z\"/><path d=\"M17.41 7.96l-1.37-1.37c-.4-.4-.92-.59-1.43-.59-.52 0-1.04.2-1.43.59L10.3 9.45l-7.72 7.72c-.78.78-.78 2.05 0 2.83L4 21.41c.39.39.9.59 1.41.59.51 0 1.02-.2 1.41-.59l7.78-7.78 2.81-2.81c.8-.78.8-2.07 0-2.86zM5.41 20L4 18.59l7.72-7.72 1.47 1.35L5.41 20z\"/>\n",
              "  </svg>\n",
              "      </button>\n",
              "      \n",
              "  <style>\n",
              "    .colab-df-container {\n",
              "      display:flex;\n",
              "      flex-wrap:wrap;\n",
              "      gap: 12px;\n",
              "    }\n",
              "\n",
              "    .colab-df-convert {\n",
              "      background-color: #E8F0FE;\n",
              "      border: none;\n",
              "      border-radius: 50%;\n",
              "      cursor: pointer;\n",
              "      display: none;\n",
              "      fill: #1967D2;\n",
              "      height: 32px;\n",
              "      padding: 0 0 0 0;\n",
              "      width: 32px;\n",
              "    }\n",
              "\n",
              "    .colab-df-convert:hover {\n",
              "      background-color: #E2EBFA;\n",
              "      box-shadow: 0px 1px 2px rgba(60, 64, 67, 0.3), 0px 1px 3px 1px rgba(60, 64, 67, 0.15);\n",
              "      fill: #174EA6;\n",
              "    }\n",
              "\n",
              "    [theme=dark] .colab-df-convert {\n",
              "      background-color: #3B4455;\n",
              "      fill: #D2E3FC;\n",
              "    }\n",
              "\n",
              "    [theme=dark] .colab-df-convert:hover {\n",
              "      background-color: #434B5C;\n",
              "      box-shadow: 0px 1px 3px 1px rgba(0, 0, 0, 0.15);\n",
              "      filter: drop-shadow(0px 1px 2px rgba(0, 0, 0, 0.3));\n",
              "      fill: #FFFFFF;\n",
              "    }\n",
              "  </style>\n",
              "\n",
              "      <script>\n",
              "        const buttonEl =\n",
              "          document.querySelector('#df-56bfd57a-3f33-49ae-9541-dd22eb90f408 button.colab-df-convert');\n",
              "        buttonEl.style.display =\n",
              "          google.colab.kernel.accessAllowed ? 'block' : 'none';\n",
              "\n",
              "        async function convertToInteractive(key) {\n",
              "          const element = document.querySelector('#df-56bfd57a-3f33-49ae-9541-dd22eb90f408');\n",
              "          const dataTable =\n",
              "            await google.colab.kernel.invokeFunction('convertToInteractive',\n",
              "                                                     [key], {});\n",
              "          if (!dataTable) return;\n",
              "\n",
              "          const docLinkHtml = 'Like what you see? Visit the ' +\n",
              "            '<a target=\"_blank\" href=https://colab.research.google.com/notebooks/data_table.ipynb>data table notebook</a>'\n",
              "            + ' to learn more about interactive tables.';\n",
              "          element.innerHTML = '';\n",
              "          dataTable['output_type'] = 'display_data';\n",
              "          await google.colab.output.renderOutput(dataTable, element);\n",
              "          const docLink = document.createElement('div');\n",
              "          docLink.innerHTML = docLinkHtml;\n",
              "          element.appendChild(docLink);\n",
              "        }\n",
              "      </script>\n",
              "    </div>\n",
              "  </div>\n",
              "  "
            ]
          },
          "metadata": {},
          "execution_count": 25
        }
      ],
      "source": [
        "empty_real_index = [index for index,text in enumerate(real_news1.text.values) if str(text).strip() == '']\n",
        "print(f\"No of empty rows: {len(empty_real_index)}\")\n",
        "real_news1.iloc[empty_real_index].tail()"
      ]
    },
    {
      "cell_type": "code",
      "execution_count": null,
      "metadata": {
        "colab": {
          "base_uri": "https://localhost:8080/"
        },
        "id": "SHIjs6EtpABh",
        "outputId": "c29f2160-2c62-4cec-c971-26305f3f391c"
      },
      "outputs": [
        {
          "output_type": "stream",
          "name": "stdout",
          "text": [
            "                                                   title  \\\n",
            "0      As U.S. budget fight looms, Republicans flip t...   \n",
            "1      U.S. military to accept transgender recruits o...   \n",
            "2      Senior U.S. Republican senator: 'Let Mr. Muell...   \n",
            "3      FBI Russia probe helped by Australian diplomat...   \n",
            "4      Trump wants Postal Service to charge 'much mor...   \n",
            "...                                                  ...   \n",
            "11267  Obama says willing to work with Republican Spe...   \n",
            "11268  Obama says Islamic State fight far from 'World...   \n",
            "11269  Chelsea Clinton stands her mother's ground in ...   \n",
            "11270  Obama jokes about a Trump State of the Union a...   \n",
            "11271  Clinton expands on plan to tax wealthy as Sand...   \n",
            "\n",
            "                                                    text       subject  \\\n",
            "0      WASHINGTON (Reuters) - The head of a conservat...  politicsNews   \n",
            "1      WASHINGTON (Reuters) - Transgender people will...  politicsNews   \n",
            "2      WASHINGTON (Reuters) - The special counsel inv...  politicsNews   \n",
            "3      WASHINGTON (Reuters) - Trump campaign adviser ...  politicsNews   \n",
            "4      SEATTLE/WASHINGTON (Reuters) - President Donal...  politicsNews   \n",
            "...                                                  ...           ...   \n",
            "11267  WASHINGTON (Reuters) - President Barack Obama ...  politicsNews   \n",
            "11268  WASHINGTON (Reuters) - President Barack Obama ...  politicsNews   \n",
            "11269  MANCHESTER, N.H. (Reuters) - U.S. Democratic p...  politicsNews   \n",
            "11270  WASHINGTON (Reuters) - President Barack Obama ...  politicsNews   \n",
            "11271  AMES, Iowa (Reuters) - U.S. Democratic preside...  politicsNews   \n",
            "\n",
            "                     date      source  \n",
            "0      December 31, 2017    (Reuters)  \n",
            "1      December 29, 2017    (Reuters)  \n",
            "2      December 31, 2017    (Reuters)  \n",
            "3      December 30, 2017    (Reuters)  \n",
            "4      December 29, 2017   SHINGTON (  \n",
            "...                   ...         ...  \n",
            "11267   January 13, 2016    (Reuters)  \n",
            "11268   January 13, 2016    (Reuters)  \n",
            "11269   January 13, 2016   , N.H. (Re  \n",
            "11270   January 13, 2016    (Reuters)  \n",
            "11271   January 13, 2016    (Reuters)  \n",
            "\n",
            "[11271 rows x 5 columns]\n"
          ]
        }
      ],
      "source": [
        "real_news1['source'] =real_news1.text.str.slice(10, 20)\n",
        "print(real_news1)"
      ]
    },
    {
      "cell_type": "code",
      "execution_count": null,
      "metadata": {
        "colab": {
          "base_uri": "https://localhost:8080/"
        },
        "id": "qf88iIWUpDeR",
        "outputId": "97430d12-050b-446c-f1f3-0954ad40980e"
      },
      "outputs": [
        {
          "output_type": "execute_result",
          "data": {
            "text/plain": [
              " (Reuters)    5939\n",
              "Reuters) -     768\n",
              "euters) -      388\n",
              "(Reuters)      206\n",
              "uters) - T     129\n",
              "              ... \n",
              "- The FBI        1\n",
              "- A Virgin       1\n",
              "- Burlingt       1\n",
              "/MARIETTA,       1\n",
              "ters) - If       1\n",
              "Name: source, Length: 1217, dtype: int64"
            ]
          },
          "metadata": {},
          "execution_count": 27
        }
      ],
      "source": [
        "real_news1.source.value_counts()"
      ]
    },
    {
      "cell_type": "code",
      "execution_count": null,
      "metadata": {
        "colab": {
          "base_uri": "https://localhost:8080/"
        },
        "id": "RSNWwslDpG9K",
        "outputId": "48cfe932-22d0-4784-95db-81e5dd92af27"
      },
      "outputs": [
        {
          "output_type": "execute_result",
          "data": {
            "text/plain": [
              "politicsNews    11271\n",
              "Name: subject, dtype: int64"
            ]
          },
          "metadata": {},
          "execution_count": 28
        }
      ],
      "source": [
        "real_news1.subject.value_counts()"
      ]
    },
    {
      "cell_type": "code",
      "execution_count": null,
      "metadata": {
        "id": "663nAsjUpKum"
      },
      "outputs": [],
      "source": [
        "real_news1['label']=1\n",
        "fake_news1['label']=0"
      ]
    },
    {
      "cell_type": "code",
      "execution_count": null,
      "metadata": {
        "colab": {
          "base_uri": "https://localhost:8080/",
          "height": 337
        },
        "id": "rkyKA2XnpNmx",
        "outputId": "a2d7d896-7416-4814-8be5-6bb73ab9db6c"
      },
      "outputs": [
        {
          "output_type": "execute_result",
          "data": {
            "text/plain": [
              "                                               title  \\\n",
              "0  As U.S. budget fight looms, Republicans flip t...   \n",
              "1  U.S. military to accept transgender recruits o...   \n",
              "2  Senior U.S. Republican senator: 'Let Mr. Muell...   \n",
              "3  FBI Russia probe helped by Australian diplomat...   \n",
              "4  Trump wants Postal Service to charge 'much mor...   \n",
              "\n",
              "                                                text       subject  \\\n",
              "0  WASHINGTON (Reuters) - The head of a conservat...  politicsNews   \n",
              "1  WASHINGTON (Reuters) - Transgender people will...  politicsNews   \n",
              "2  WASHINGTON (Reuters) - The special counsel inv...  politicsNews   \n",
              "3  WASHINGTON (Reuters) - Trump campaign adviser ...  politicsNews   \n",
              "4  SEATTLE/WASHINGTON (Reuters) - President Donal...  politicsNews   \n",
              "\n",
              "                 date      source  label  \n",
              "0  December 31, 2017    (Reuters)      1  \n",
              "1  December 29, 2017    (Reuters)      1  \n",
              "2  December 31, 2017    (Reuters)      1  \n",
              "3  December 30, 2017    (Reuters)      1  \n",
              "4  December 29, 2017   SHINGTON (      1  "
            ],
            "text/html": [
              "\n",
              "  <div id=\"df-7cd05d70-115a-4498-94e0-73e66e3b1e35\">\n",
              "    <div class=\"colab-df-container\">\n",
              "      <div>\n",
              "<style scoped>\n",
              "    .dataframe tbody tr th:only-of-type {\n",
              "        vertical-align: middle;\n",
              "    }\n",
              "\n",
              "    .dataframe tbody tr th {\n",
              "        vertical-align: top;\n",
              "    }\n",
              "\n",
              "    .dataframe thead th {\n",
              "        text-align: right;\n",
              "    }\n",
              "</style>\n",
              "<table border=\"1\" class=\"dataframe\">\n",
              "  <thead>\n",
              "    <tr style=\"text-align: right;\">\n",
              "      <th></th>\n",
              "      <th>title</th>\n",
              "      <th>text</th>\n",
              "      <th>subject</th>\n",
              "      <th>date</th>\n",
              "      <th>source</th>\n",
              "      <th>label</th>\n",
              "    </tr>\n",
              "  </thead>\n",
              "  <tbody>\n",
              "    <tr>\n",
              "      <th>0</th>\n",
              "      <td>As U.S. budget fight looms, Republicans flip t...</td>\n",
              "      <td>WASHINGTON (Reuters) - The head of a conservat...</td>\n",
              "      <td>politicsNews</td>\n",
              "      <td>December 31, 2017</td>\n",
              "      <td>(Reuters)</td>\n",
              "      <td>1</td>\n",
              "    </tr>\n",
              "    <tr>\n",
              "      <th>1</th>\n",
              "      <td>U.S. military to accept transgender recruits o...</td>\n",
              "      <td>WASHINGTON (Reuters) - Transgender people will...</td>\n",
              "      <td>politicsNews</td>\n",
              "      <td>December 29, 2017</td>\n",
              "      <td>(Reuters)</td>\n",
              "      <td>1</td>\n",
              "    </tr>\n",
              "    <tr>\n",
              "      <th>2</th>\n",
              "      <td>Senior U.S. Republican senator: 'Let Mr. Muell...</td>\n",
              "      <td>WASHINGTON (Reuters) - The special counsel inv...</td>\n",
              "      <td>politicsNews</td>\n",
              "      <td>December 31, 2017</td>\n",
              "      <td>(Reuters)</td>\n",
              "      <td>1</td>\n",
              "    </tr>\n",
              "    <tr>\n",
              "      <th>3</th>\n",
              "      <td>FBI Russia probe helped by Australian diplomat...</td>\n",
              "      <td>WASHINGTON (Reuters) - Trump campaign adviser ...</td>\n",
              "      <td>politicsNews</td>\n",
              "      <td>December 30, 2017</td>\n",
              "      <td>(Reuters)</td>\n",
              "      <td>1</td>\n",
              "    </tr>\n",
              "    <tr>\n",
              "      <th>4</th>\n",
              "      <td>Trump wants Postal Service to charge 'much mor...</td>\n",
              "      <td>SEATTLE/WASHINGTON (Reuters) - President Donal...</td>\n",
              "      <td>politicsNews</td>\n",
              "      <td>December 29, 2017</td>\n",
              "      <td>SHINGTON (</td>\n",
              "      <td>1</td>\n",
              "    </tr>\n",
              "  </tbody>\n",
              "</table>\n",
              "</div>\n",
              "      <button class=\"colab-df-convert\" onclick=\"convertToInteractive('df-7cd05d70-115a-4498-94e0-73e66e3b1e35')\"\n",
              "              title=\"Convert this dataframe to an interactive table.\"\n",
              "              style=\"display:none;\">\n",
              "        \n",
              "  <svg xmlns=\"http://www.w3.org/2000/svg\" height=\"24px\"viewBox=\"0 0 24 24\"\n",
              "       width=\"24px\">\n",
              "    <path d=\"M0 0h24v24H0V0z\" fill=\"none\"/>\n",
              "    <path d=\"M18.56 5.44l.94 2.06.94-2.06 2.06-.94-2.06-.94-.94-2.06-.94 2.06-2.06.94zm-11 1L8.5 8.5l.94-2.06 2.06-.94-2.06-.94L8.5 2.5l-.94 2.06-2.06.94zm10 10l.94 2.06.94-2.06 2.06-.94-2.06-.94-.94-2.06-.94 2.06-2.06.94z\"/><path d=\"M17.41 7.96l-1.37-1.37c-.4-.4-.92-.59-1.43-.59-.52 0-1.04.2-1.43.59L10.3 9.45l-7.72 7.72c-.78.78-.78 2.05 0 2.83L4 21.41c.39.39.9.59 1.41.59.51 0 1.02-.2 1.41-.59l7.78-7.78 2.81-2.81c.8-.78.8-2.07 0-2.86zM5.41 20L4 18.59l7.72-7.72 1.47 1.35L5.41 20z\"/>\n",
              "  </svg>\n",
              "      </button>\n",
              "      \n",
              "  <style>\n",
              "    .colab-df-container {\n",
              "      display:flex;\n",
              "      flex-wrap:wrap;\n",
              "      gap: 12px;\n",
              "    }\n",
              "\n",
              "    .colab-df-convert {\n",
              "      background-color: #E8F0FE;\n",
              "      border: none;\n",
              "      border-radius: 50%;\n",
              "      cursor: pointer;\n",
              "      display: none;\n",
              "      fill: #1967D2;\n",
              "      height: 32px;\n",
              "      padding: 0 0 0 0;\n",
              "      width: 32px;\n",
              "    }\n",
              "\n",
              "    .colab-df-convert:hover {\n",
              "      background-color: #E2EBFA;\n",
              "      box-shadow: 0px 1px 2px rgba(60, 64, 67, 0.3), 0px 1px 3px 1px rgba(60, 64, 67, 0.15);\n",
              "      fill: #174EA6;\n",
              "    }\n",
              "\n",
              "    [theme=dark] .colab-df-convert {\n",
              "      background-color: #3B4455;\n",
              "      fill: #D2E3FC;\n",
              "    }\n",
              "\n",
              "    [theme=dark] .colab-df-convert:hover {\n",
              "      background-color: #434B5C;\n",
              "      box-shadow: 0px 1px 3px 1px rgba(0, 0, 0, 0.15);\n",
              "      filter: drop-shadow(0px 1px 2px rgba(0, 0, 0, 0.3));\n",
              "      fill: #FFFFFF;\n",
              "    }\n",
              "  </style>\n",
              "\n",
              "      <script>\n",
              "        const buttonEl =\n",
              "          document.querySelector('#df-7cd05d70-115a-4498-94e0-73e66e3b1e35 button.colab-df-convert');\n",
              "        buttonEl.style.display =\n",
              "          google.colab.kernel.accessAllowed ? 'block' : 'none';\n",
              "\n",
              "        async function convertToInteractive(key) {\n",
              "          const element = document.querySelector('#df-7cd05d70-115a-4498-94e0-73e66e3b1e35');\n",
              "          const dataTable =\n",
              "            await google.colab.kernel.invokeFunction('convertToInteractive',\n",
              "                                                     [key], {});\n",
              "          if (!dataTable) return;\n",
              "\n",
              "          const docLinkHtml = 'Like what you see? Visit the ' +\n",
              "            '<a target=\"_blank\" href=https://colab.research.google.com/notebooks/data_table.ipynb>data table notebook</a>'\n",
              "            + ' to learn more about interactive tables.';\n",
              "          element.innerHTML = '';\n",
              "          dataTable['output_type'] = 'display_data';\n",
              "          await google.colab.output.renderOutput(dataTable, element);\n",
              "          const docLink = document.createElement('div');\n",
              "          docLink.innerHTML = docLinkHtml;\n",
              "          element.appendChild(docLink);\n",
              "        }\n",
              "      </script>\n",
              "    </div>\n",
              "  </div>\n",
              "  "
            ]
          },
          "metadata": {},
          "execution_count": 30
        }
      ],
      "source": [
        "real_news1.head()"
      ]
    },
    {
      "cell_type": "code",
      "execution_count": null,
      "metadata": {
        "colab": {
          "base_uri": "https://localhost:8080/",
          "height": 337
        },
        "id": "dZOkeROBpP1a",
        "outputId": "4a5ad9c2-87b4-4e41-d061-c870e9a89f24"
      },
      "outputs": [
        {
          "output_type": "execute_result",
          "data": {
            "text/plain": [
              "                                               title  \\\n",
              "0  Democrat Senator Warns Mueller Not To Release ...   \n",
              "1  MSNBC ANCHOR Flabbergasted at What Texas Teach...   \n",
              "2  WATCH: SNOWFLAKES ASKED Communist Party Platfo...   \n",
              "3  JUST IN: BADASS GENERAL JOHN KELLY Shoved Chin...   \n",
              "4  DOJ’s JEFF SESSIONS Opens Investigation Into W...   \n",
              "\n",
              "                                                text   subject       date  \\\n",
              "0  According to The Hill, Democrat Senator Bob Ca...  politics  19-Feb-18   \n",
              "1  If we protect every other government building ...  politics  19-Feb-18   \n",
              "2  Ami Horowitz is fantastic! Check out this man ...  politics  19-Feb-18   \n",
              "3  Just one more reminder of why President Trump ...  politics  18-Feb-18   \n",
              "4  Thank goodnesss Jeff Sessions is moving on fin...  politics  18-Feb-18   \n",
              "\n",
              "   label  \n",
              "0      0  \n",
              "1      0  \n",
              "2      0  \n",
              "3      0  \n",
              "4      0  "
            ],
            "text/html": [
              "\n",
              "  <div id=\"df-9ce44b93-9f4e-4cee-a7a7-e00c632e58e6\">\n",
              "    <div class=\"colab-df-container\">\n",
              "      <div>\n",
              "<style scoped>\n",
              "    .dataframe tbody tr th:only-of-type {\n",
              "        vertical-align: middle;\n",
              "    }\n",
              "\n",
              "    .dataframe tbody tr th {\n",
              "        vertical-align: top;\n",
              "    }\n",
              "\n",
              "    .dataframe thead th {\n",
              "        text-align: right;\n",
              "    }\n",
              "</style>\n",
              "<table border=\"1\" class=\"dataframe\">\n",
              "  <thead>\n",
              "    <tr style=\"text-align: right;\">\n",
              "      <th></th>\n",
              "      <th>title</th>\n",
              "      <th>text</th>\n",
              "      <th>subject</th>\n",
              "      <th>date</th>\n",
              "      <th>label</th>\n",
              "    </tr>\n",
              "  </thead>\n",
              "  <tbody>\n",
              "    <tr>\n",
              "      <th>0</th>\n",
              "      <td>Democrat Senator Warns Mueller Not To Release ...</td>\n",
              "      <td>According to The Hill, Democrat Senator Bob Ca...</td>\n",
              "      <td>politics</td>\n",
              "      <td>19-Feb-18</td>\n",
              "      <td>0</td>\n",
              "    </tr>\n",
              "    <tr>\n",
              "      <th>1</th>\n",
              "      <td>MSNBC ANCHOR Flabbergasted at What Texas Teach...</td>\n",
              "      <td>If we protect every other government building ...</td>\n",
              "      <td>politics</td>\n",
              "      <td>19-Feb-18</td>\n",
              "      <td>0</td>\n",
              "    </tr>\n",
              "    <tr>\n",
              "      <th>2</th>\n",
              "      <td>WATCH: SNOWFLAKES ASKED Communist Party Platfo...</td>\n",
              "      <td>Ami Horowitz is fantastic! Check out this man ...</td>\n",
              "      <td>politics</td>\n",
              "      <td>19-Feb-18</td>\n",
              "      <td>0</td>\n",
              "    </tr>\n",
              "    <tr>\n",
              "      <th>3</th>\n",
              "      <td>JUST IN: BADASS GENERAL JOHN KELLY Shoved Chin...</td>\n",
              "      <td>Just one more reminder of why President Trump ...</td>\n",
              "      <td>politics</td>\n",
              "      <td>18-Feb-18</td>\n",
              "      <td>0</td>\n",
              "    </tr>\n",
              "    <tr>\n",
              "      <th>4</th>\n",
              "      <td>DOJ’s JEFF SESSIONS Opens Investigation Into W...</td>\n",
              "      <td>Thank goodnesss Jeff Sessions is moving on fin...</td>\n",
              "      <td>politics</td>\n",
              "      <td>18-Feb-18</td>\n",
              "      <td>0</td>\n",
              "    </tr>\n",
              "  </tbody>\n",
              "</table>\n",
              "</div>\n",
              "      <button class=\"colab-df-convert\" onclick=\"convertToInteractive('df-9ce44b93-9f4e-4cee-a7a7-e00c632e58e6')\"\n",
              "              title=\"Convert this dataframe to an interactive table.\"\n",
              "              style=\"display:none;\">\n",
              "        \n",
              "  <svg xmlns=\"http://www.w3.org/2000/svg\" height=\"24px\"viewBox=\"0 0 24 24\"\n",
              "       width=\"24px\">\n",
              "    <path d=\"M0 0h24v24H0V0z\" fill=\"none\"/>\n",
              "    <path d=\"M18.56 5.44l.94 2.06.94-2.06 2.06-.94-2.06-.94-.94-2.06-.94 2.06-2.06.94zm-11 1L8.5 8.5l.94-2.06 2.06-.94-2.06-.94L8.5 2.5l-.94 2.06-2.06.94zm10 10l.94 2.06.94-2.06 2.06-.94-2.06-.94-.94-2.06-.94 2.06-2.06.94z\"/><path d=\"M17.41 7.96l-1.37-1.37c-.4-.4-.92-.59-1.43-.59-.52 0-1.04.2-1.43.59L10.3 9.45l-7.72 7.72c-.78.78-.78 2.05 0 2.83L4 21.41c.39.39.9.59 1.41.59.51 0 1.02-.2 1.41-.59l7.78-7.78 2.81-2.81c.8-.78.8-2.07 0-2.86zM5.41 20L4 18.59l7.72-7.72 1.47 1.35L5.41 20z\"/>\n",
              "  </svg>\n",
              "      </button>\n",
              "      \n",
              "  <style>\n",
              "    .colab-df-container {\n",
              "      display:flex;\n",
              "      flex-wrap:wrap;\n",
              "      gap: 12px;\n",
              "    }\n",
              "\n",
              "    .colab-df-convert {\n",
              "      background-color: #E8F0FE;\n",
              "      border: none;\n",
              "      border-radius: 50%;\n",
              "      cursor: pointer;\n",
              "      display: none;\n",
              "      fill: #1967D2;\n",
              "      height: 32px;\n",
              "      padding: 0 0 0 0;\n",
              "      width: 32px;\n",
              "    }\n",
              "\n",
              "    .colab-df-convert:hover {\n",
              "      background-color: #E2EBFA;\n",
              "      box-shadow: 0px 1px 2px rgba(60, 64, 67, 0.3), 0px 1px 3px 1px rgba(60, 64, 67, 0.15);\n",
              "      fill: #174EA6;\n",
              "    }\n",
              "\n",
              "    [theme=dark] .colab-df-convert {\n",
              "      background-color: #3B4455;\n",
              "      fill: #D2E3FC;\n",
              "    }\n",
              "\n",
              "    [theme=dark] .colab-df-convert:hover {\n",
              "      background-color: #434B5C;\n",
              "      box-shadow: 0px 1px 3px 1px rgba(0, 0, 0, 0.15);\n",
              "      filter: drop-shadow(0px 1px 2px rgba(0, 0, 0, 0.3));\n",
              "      fill: #FFFFFF;\n",
              "    }\n",
              "  </style>\n",
              "\n",
              "      <script>\n",
              "        const buttonEl =\n",
              "          document.querySelector('#df-9ce44b93-9f4e-4cee-a7a7-e00c632e58e6 button.colab-df-convert');\n",
              "        buttonEl.style.display =\n",
              "          google.colab.kernel.accessAllowed ? 'block' : 'none';\n",
              "\n",
              "        async function convertToInteractive(key) {\n",
              "          const element = document.querySelector('#df-9ce44b93-9f4e-4cee-a7a7-e00c632e58e6');\n",
              "          const dataTable =\n",
              "            await google.colab.kernel.invokeFunction('convertToInteractive',\n",
              "                                                     [key], {});\n",
              "          if (!dataTable) return;\n",
              "\n",
              "          const docLinkHtml = 'Like what you see? Visit the ' +\n",
              "            '<a target=\"_blank\" href=https://colab.research.google.com/notebooks/data_table.ipynb>data table notebook</a>'\n",
              "            + ' to learn more about interactive tables.';\n",
              "          element.innerHTML = '';\n",
              "          dataTable['output_type'] = 'display_data';\n",
              "          await google.colab.output.renderOutput(dataTable, element);\n",
              "          const docLink = document.createElement('div');\n",
              "          docLink.innerHTML = docLinkHtml;\n",
              "          element.appendChild(docLink);\n",
              "        }\n",
              "      </script>\n",
              "    </div>\n",
              "  </div>\n",
              "  "
            ]
          },
          "metadata": {},
          "execution_count": 31
        }
      ],
      "source": [
        "fake_news1.head()"
      ]
    },
    {
      "cell_type": "code",
      "execution_count": null,
      "metadata": {
        "colab": {
          "base_uri": "https://localhost:8080/",
          "height": 35
        },
        "id": "9zHpBpbhpSfG",
        "outputId": "2aeeea1d-cfe0-44b7-f9d4-e699e2f9220f"
      },
      "outputs": [
        {
          "output_type": "execute_result",
          "data": {
            "text/plain": [
              "'MSNBC ANCHOR Flabbergasted at What Texas Teachers Do to Protect Their Students [Video]'"
            ],
            "application/vnd.google.colaboratory.intrinsic+json": {
              "type": "string"
            }
          },
          "metadata": {},
          "execution_count": 32
        }
      ],
      "source": [
        "fake_news1['title'][1]"
      ]
    },
    {
      "cell_type": "code",
      "execution_count": null,
      "metadata": {
        "colab": {
          "base_uri": "https://localhost:8080/",
          "height": 192
        },
        "id": "9lE1t-USpVbu",
        "outputId": "d235fc71-d081-4fb9-ab16-24b762cd0a02"
      },
      "outputs": [
        {
          "output_type": "execute_result",
          "data": {
            "text/plain": [
              "'If we protect every other government building or public venue with armed guards, why shouldn t our schools be protected with armed teachers? A Texas Sheriff shocked an MSNBC host when he discussed how he prepares local teachers to be armed in the classroom. common sense solution? You betcha!Sheriff Paul Cairney of Argyle, Texas, described the process by which staff members can carry firearms in the school district. The Sheriff said that the staff at the school who choose to carry a firearm go through an intense round of interviews and training before they are allowed to carry on campus. The MSNBC host was flabbergasted at the practice and asked the Sheriff about concerns for the safety of the students in the school when there are firearms around.Sheriff Cairney:  The time to do nothing is over THE PROCESS TO BECOME A SCHOOL MARSHALL:To become a school marshal, those employees must undergo extensive active shooter and firearms training with the state. They must also undergo a mental health evaluation. They receive a school marshal designation by the Texas Commission on Law Enforcement and must renew their license every two years by undergoing the same training and evaluation. Outside of campuses in Keene and Argyle, signs warn visitors that there are staff members who are armed and are prepared to protect children.'"
            ],
            "application/vnd.google.colaboratory.intrinsic+json": {
              "type": "string"
            }
          },
          "metadata": {},
          "execution_count": 33
        }
      ],
      "source": [
        "fake_news1['text'][1]"
      ]
    },
    {
      "cell_type": "code",
      "execution_count": null,
      "metadata": {
        "id": "ajqsm0FRpXjL"
      },
      "outputs": [],
      "source": [
        "news_df = real_news1.append(fake_news1, ignore_index=True)"
      ]
    },
    {
      "cell_type": "code",
      "execution_count": null,
      "metadata": {
        "colab": {
          "base_uri": "https://localhost:8080/"
        },
        "id": "TYI09rj0pa-b",
        "outputId": "cd67c181-83d7-467a-9fa7-57a7c03fafc7"
      },
      "outputs": [
        {
          "output_type": "execute_result",
          "data": {
            "text/plain": [
              "(20465, 6)"
            ]
          },
          "metadata": {},
          "execution_count": 35
        }
      ],
      "source": [
        "news_df.shape"
      ]
    },
    {
      "cell_type": "code",
      "execution_count": null,
      "metadata": {
        "colab": {
          "base_uri": "https://localhost:8080/",
          "height": 337
        },
        "id": "OnAk8C2UpdAg",
        "outputId": "ce6aab89-c3dc-4bd8-b6c2-7adc5df0423c"
      },
      "outputs": [
        {
          "output_type": "execute_result",
          "data": {
            "text/plain": [
              "                                               title  \\\n",
              "0  As U.S. budget fight looms, Republicans flip t...   \n",
              "1  U.S. military to accept transgender recruits o...   \n",
              "2  Senior U.S. Republican senator: 'Let Mr. Muell...   \n",
              "3  FBI Russia probe helped by Australian diplomat...   \n",
              "4  Trump wants Postal Service to charge 'much mor...   \n",
              "\n",
              "                                                text       subject  \\\n",
              "0  WASHINGTON (Reuters) - The head of a conservat...  politicsNews   \n",
              "1  WASHINGTON (Reuters) - Transgender people will...  politicsNews   \n",
              "2  WASHINGTON (Reuters) - The special counsel inv...  politicsNews   \n",
              "3  WASHINGTON (Reuters) - Trump campaign adviser ...  politicsNews   \n",
              "4  SEATTLE/WASHINGTON (Reuters) - President Donal...  politicsNews   \n",
              "\n",
              "                 date      source  label  \n",
              "0  December 31, 2017    (Reuters)      1  \n",
              "1  December 29, 2017    (Reuters)      1  \n",
              "2  December 31, 2017    (Reuters)      1  \n",
              "3  December 30, 2017    (Reuters)      1  \n",
              "4  December 29, 2017   SHINGTON (      1  "
            ],
            "text/html": [
              "\n",
              "  <div id=\"df-17809076-e756-4e65-ab45-ec4179c65a66\">\n",
              "    <div class=\"colab-df-container\">\n",
              "      <div>\n",
              "<style scoped>\n",
              "    .dataframe tbody tr th:only-of-type {\n",
              "        vertical-align: middle;\n",
              "    }\n",
              "\n",
              "    .dataframe tbody tr th {\n",
              "        vertical-align: top;\n",
              "    }\n",
              "\n",
              "    .dataframe thead th {\n",
              "        text-align: right;\n",
              "    }\n",
              "</style>\n",
              "<table border=\"1\" class=\"dataframe\">\n",
              "  <thead>\n",
              "    <tr style=\"text-align: right;\">\n",
              "      <th></th>\n",
              "      <th>title</th>\n",
              "      <th>text</th>\n",
              "      <th>subject</th>\n",
              "      <th>date</th>\n",
              "      <th>source</th>\n",
              "      <th>label</th>\n",
              "    </tr>\n",
              "  </thead>\n",
              "  <tbody>\n",
              "    <tr>\n",
              "      <th>0</th>\n",
              "      <td>As U.S. budget fight looms, Republicans flip t...</td>\n",
              "      <td>WASHINGTON (Reuters) - The head of a conservat...</td>\n",
              "      <td>politicsNews</td>\n",
              "      <td>December 31, 2017</td>\n",
              "      <td>(Reuters)</td>\n",
              "      <td>1</td>\n",
              "    </tr>\n",
              "    <tr>\n",
              "      <th>1</th>\n",
              "      <td>U.S. military to accept transgender recruits o...</td>\n",
              "      <td>WASHINGTON (Reuters) - Transgender people will...</td>\n",
              "      <td>politicsNews</td>\n",
              "      <td>December 29, 2017</td>\n",
              "      <td>(Reuters)</td>\n",
              "      <td>1</td>\n",
              "    </tr>\n",
              "    <tr>\n",
              "      <th>2</th>\n",
              "      <td>Senior U.S. Republican senator: 'Let Mr. Muell...</td>\n",
              "      <td>WASHINGTON (Reuters) - The special counsel inv...</td>\n",
              "      <td>politicsNews</td>\n",
              "      <td>December 31, 2017</td>\n",
              "      <td>(Reuters)</td>\n",
              "      <td>1</td>\n",
              "    </tr>\n",
              "    <tr>\n",
              "      <th>3</th>\n",
              "      <td>FBI Russia probe helped by Australian diplomat...</td>\n",
              "      <td>WASHINGTON (Reuters) - Trump campaign adviser ...</td>\n",
              "      <td>politicsNews</td>\n",
              "      <td>December 30, 2017</td>\n",
              "      <td>(Reuters)</td>\n",
              "      <td>1</td>\n",
              "    </tr>\n",
              "    <tr>\n",
              "      <th>4</th>\n",
              "      <td>Trump wants Postal Service to charge 'much mor...</td>\n",
              "      <td>SEATTLE/WASHINGTON (Reuters) - President Donal...</td>\n",
              "      <td>politicsNews</td>\n",
              "      <td>December 29, 2017</td>\n",
              "      <td>SHINGTON (</td>\n",
              "      <td>1</td>\n",
              "    </tr>\n",
              "  </tbody>\n",
              "</table>\n",
              "</div>\n",
              "      <button class=\"colab-df-convert\" onclick=\"convertToInteractive('df-17809076-e756-4e65-ab45-ec4179c65a66')\"\n",
              "              title=\"Convert this dataframe to an interactive table.\"\n",
              "              style=\"display:none;\">\n",
              "        \n",
              "  <svg xmlns=\"http://www.w3.org/2000/svg\" height=\"24px\"viewBox=\"0 0 24 24\"\n",
              "       width=\"24px\">\n",
              "    <path d=\"M0 0h24v24H0V0z\" fill=\"none\"/>\n",
              "    <path d=\"M18.56 5.44l.94 2.06.94-2.06 2.06-.94-2.06-.94-.94-2.06-.94 2.06-2.06.94zm-11 1L8.5 8.5l.94-2.06 2.06-.94-2.06-.94L8.5 2.5l-.94 2.06-2.06.94zm10 10l.94 2.06.94-2.06 2.06-.94-2.06-.94-.94-2.06-.94 2.06-2.06.94z\"/><path d=\"M17.41 7.96l-1.37-1.37c-.4-.4-.92-.59-1.43-.59-.52 0-1.04.2-1.43.59L10.3 9.45l-7.72 7.72c-.78.78-.78 2.05 0 2.83L4 21.41c.39.39.9.59 1.41.59.51 0 1.02-.2 1.41-.59l7.78-7.78 2.81-2.81c.8-.78.8-2.07 0-2.86zM5.41 20L4 18.59l7.72-7.72 1.47 1.35L5.41 20z\"/>\n",
              "  </svg>\n",
              "      </button>\n",
              "      \n",
              "  <style>\n",
              "    .colab-df-container {\n",
              "      display:flex;\n",
              "      flex-wrap:wrap;\n",
              "      gap: 12px;\n",
              "    }\n",
              "\n",
              "    .colab-df-convert {\n",
              "      background-color: #E8F0FE;\n",
              "      border: none;\n",
              "      border-radius: 50%;\n",
              "      cursor: pointer;\n",
              "      display: none;\n",
              "      fill: #1967D2;\n",
              "      height: 32px;\n",
              "      padding: 0 0 0 0;\n",
              "      width: 32px;\n",
              "    }\n",
              "\n",
              "    .colab-df-convert:hover {\n",
              "      background-color: #E2EBFA;\n",
              "      box-shadow: 0px 1px 2px rgba(60, 64, 67, 0.3), 0px 1px 3px 1px rgba(60, 64, 67, 0.15);\n",
              "      fill: #174EA6;\n",
              "    }\n",
              "\n",
              "    [theme=dark] .colab-df-convert {\n",
              "      background-color: #3B4455;\n",
              "      fill: #D2E3FC;\n",
              "    }\n",
              "\n",
              "    [theme=dark] .colab-df-convert:hover {\n",
              "      background-color: #434B5C;\n",
              "      box-shadow: 0px 1px 3px 1px rgba(0, 0, 0, 0.15);\n",
              "      filter: drop-shadow(0px 1px 2px rgba(0, 0, 0, 0.3));\n",
              "      fill: #FFFFFF;\n",
              "    }\n",
              "  </style>\n",
              "\n",
              "      <script>\n",
              "        const buttonEl =\n",
              "          document.querySelector('#df-17809076-e756-4e65-ab45-ec4179c65a66 button.colab-df-convert');\n",
              "        buttonEl.style.display =\n",
              "          google.colab.kernel.accessAllowed ? 'block' : 'none';\n",
              "\n",
              "        async function convertToInteractive(key) {\n",
              "          const element = document.querySelector('#df-17809076-e756-4e65-ab45-ec4179c65a66');\n",
              "          const dataTable =\n",
              "            await google.colab.kernel.invokeFunction('convertToInteractive',\n",
              "                                                     [key], {});\n",
              "          if (!dataTable) return;\n",
              "\n",
              "          const docLinkHtml = 'Like what you see? Visit the ' +\n",
              "            '<a target=\"_blank\" href=https://colab.research.google.com/notebooks/data_table.ipynb>data table notebook</a>'\n",
              "            + ' to learn more about interactive tables.';\n",
              "          element.innerHTML = '';\n",
              "          dataTable['output_type'] = 'display_data';\n",
              "          await google.colab.output.renderOutput(dataTable, element);\n",
              "          const docLink = document.createElement('div');\n",
              "          docLink.innerHTML = docLinkHtml;\n",
              "          element.appendChild(docLink);\n",
              "        }\n",
              "      </script>\n",
              "    </div>\n",
              "  </div>\n",
              "  "
            ]
          },
          "metadata": {},
          "execution_count": 36
        }
      ],
      "source": [
        "news_df.head()"
      ]
    },
    {
      "cell_type": "code",
      "execution_count": null,
      "metadata": {
        "colab": {
          "base_uri": "https://localhost:8080/",
          "height": 466
        },
        "id": "dBSf7rItpfOV",
        "outputId": "ddf681b6-f399-4ed0-fdc5-75181167cdf5"
      },
      "outputs": [
        {
          "output_type": "stream",
          "name": "stdout",
          "text": [
            "subject\n",
            "Government News     1570\n",
            "US_News              783\n",
            "politics            6841\n",
            "politicsNews       11271\n",
            "Name: text, dtype: int64\n"
          ]
        },
        {
          "output_type": "display_data",
          "data": {
            "text/plain": [
              "<Figure size 432x288 with 1 Axes>"
            ],
            "image/png": "[encoded data removed]"
          },
          "metadata": {
            "needs_background": "light"
          }
        }
      ],
      "source": [
        "print(news_df.groupby(['subject'])['text'].count())\n",
        "news_df.groupby(['subject'])['text'].count().plot(kind=\"bar\")\n",
        "plt.show()"
      ]
    },
    {
      "cell_type": "code",
      "execution_count": null,
      "metadata": {
        "colab": {
          "base_uri": "https://localhost:8080/",
          "height": 345
        },
        "id": "ZPgF6yQKpjD5",
        "outputId": "e199b8e9-6d0b-48b5-b4a7-c94286cc3108"
      },
      "outputs": [
        {
          "output_type": "stream",
          "name": "stdout",
          "text": [
            "label\n",
            "0     9194\n",
            "1    11271\n",
            "Name: text, dtype: int64\n"
          ]
        },
        {
          "output_type": "display_data",
          "data": {
            "text/plain": [
              "<Figure size 432x288 with 1 Axes>"
            ],
            "image/png": "[encoded data removed]"
          },
          "metadata": {
            "needs_background": "light"
          }
        }
      ],
      "source": [
        "print(news_df.groupby(['label'])['text'].count())\n",
        "news_df.groupby(['label'])['text'].count().plot(kind=\"bar\")\n",
        "plt.show()"
      ]
    },
    {
      "cell_type": "code",
      "execution_count": null,
      "metadata": {
        "colab": {
          "base_uri": "https://localhost:8080/",
          "height": 349
        },
        "id": "2EdJxS8mplz-",
        "outputId": "d3d3897e-a81b-4c2b-a1f9-1bdc8d82719c"
      },
      "outputs": [
        {
          "output_type": "stream",
          "name": "stdout",
          "text": [
            "1    11271\n",
            "0     9194\n",
            "Name: label, dtype: int64\n"
          ]
        },
        {
          "output_type": "display_data",
          "data": {
            "text/plain": [
              "<Figure size 1368x360 with 2 Axes>"
            ],
            "image/png": "[encoded data removed]"
          },
          "metadata": {
            "needs_background": "light"
          }
        }
      ],
      "source": [
        "print(news_df[\"label\"].value_counts())\n",
        "fig, ax = plt.subplots(1,2, figsize=(19, 5))\n",
        "g1 = sns.countplot(news_df.label,ax=ax[0],palette=\"pastel\");\n",
        "g1.set_title(\"Count of real and fake data\")\n",
        "g1.set_ylabel(\"Count\")\n",
        "g1.set_xlabel(\"label\")\n",
        "g2 = plt.pie(news_df[\"label\"].value_counts().values,explode=[0,0],labels=news_df.label.value_counts().index, autopct='%1.1f%%',colors=['SkyBlue','PeachPuff'])\n",
        "fig.show()"
      ]
    },
    {
      "cell_type": "code",
      "execution_count": null,
      "metadata": {
        "colab": {
          "base_uri": "https://localhost:8080/",
          "height": 455
        },
        "id": "GafUu6vxpoQv",
        "outputId": "ada2139f-4807-4483-f229-830d19bd478e"
      },
      "outputs": [
        {
          "output_type": "stream",
          "name": "stdout",
          "text": [
            "politicsNews       11271\n",
            "politics            6841\n",
            "Government News     1570\n",
            "US_News              783\n",
            "Name: subject, dtype: int64\n"
          ]
        },
        {
          "output_type": "execute_result",
          "data": {
            "text/plain": [
              "Text(0.5, 1.0, 'Distribution of The Subject According to Real and Fake Data')"
            ]
          },
          "metadata": {},
          "execution_count": 40
        },
        {
          "output_type": "display_data",
          "data": {
            "text/plain": [
              "<Figure size 720x360 with 1 Axes>"
            ],
            "image/png": "[encoded data removed]"
          },
          "metadata": {
            "needs_background": "light"
          }
        }
      ],
      "source": [
        "print(news_df.subject.value_counts())\n",
        "plt.figure(figsize=(10, 5))\n",
        "\n",
        "ax = sns.countplot(x=\"subject\",  hue='label', data=news_df, palette=\"pastel\")\n",
        "plt.title(\"Distribution of The Subject According to Real and Fake Data\")"
      ]
    },
    {
      "cell_type": "code",
      "execution_count": null,
      "metadata": {
        "colab": {
          "base_uri": "https://localhost:8080/"
        },
        "id": "67wNhIHPptcq",
        "outputId": "73ecdf30-8fab-4b56-c898-10be0e810fef"
      },
      "outputs": [
        {
          "output_type": "execute_result",
          "data": {
            "text/plain": [
              "[('the', 416034),\n",
              " ('to', 242728),\n",
              " ('of', 197256),\n",
              " ('a', 177580),\n",
              " ('and', 176935),\n",
              " ('in', 146464),\n",
              " ('that', 95061),\n",
              " ('on', 87739),\n",
              " ('for', 78649),\n",
              " ('is', 64871)]"
            ]
          },
          "metadata": {},
          "execution_count": 41
        }
      ],
      "source": [
        "import nltk\n",
        "# let's see the 10 most words used in text:\n",
        "freq = nltk.FreqDist(' '.join(news_df['text']).split())\n",
        "\n",
        "freq.most_common(10)"
      ]
    },
    {
      "cell_type": "code",
      "execution_count": null,
      "metadata": {
        "colab": {
          "base_uri": "https://localhost:8080/",
          "height": 307
        },
        "id": "WjdrVE2xp0fR",
        "outputId": "ac2ddbe9-f0fa-4167-87b2-38306361c820"
      },
      "outputs": [
        {
          "output_type": "display_data",
          "data": {
            "text/plain": [
              "<Figure size 432x288 with 1 Axes>"
            ],
            "image/png": "[encoded data removed]"
          },
          "metadata": {
            "needs_background": "light"
          }
        },
        {
          "output_type": "execute_result",
          "data": {
            "text/plain": [
              "<matplotlib.axes._subplots.AxesSubplot at 0x7f454b333a00>"
            ]
          },
          "metadata": {},
          "execution_count": 42
        }
      ],
      "source": [
        "freq.plot(10)"
      ]
    },
    {
      "cell_type": "code",
      "execution_count": null,
      "metadata": {
        "colab": {
          "base_uri": "https://localhost:8080/"
        },
        "id": "dEVtb7l8p3OH",
        "outputId": "bbe97939-dea0-43c9-df6f-638c8b338e7c"
      },
      "outputs": [
        {
          "output_type": "execute_result",
          "data": {
            "text/plain": [
              "[('Trump', 5233),\n",
              " ('to', 4953),\n",
              " ('U.S.', 3111),\n",
              " ('To', 2594),\n",
              " ('on', 2215),\n",
              " ('in', 2091),\n",
              " ('[Video]', 2065),\n",
              " ('of', 1962),\n",
              " ('for', 1715),\n",
              " ('says', 1457)]"
            ]
          },
          "metadata": {},
          "execution_count": 43
        }
      ],
      "source": [
        "import nltk\n",
        "# let's see the 10 most words used in title:\n",
        "freq1 = nltk.FreqDist(' '.join(news_df['title']).split())\n",
        "\n",
        "freq1.most_common(10)"
      ]
    },
    {
      "cell_type": "code",
      "execution_count": null,
      "metadata": {
        "colab": {
          "base_uri": "https://localhost:8080/"
        },
        "id": "89B8FLsyp7Qo",
        "outputId": "ae7779a8-0114-433c-dfa7-d86f53a55cfd"
      },
      "outputs": [
        {
          "output_type": "execute_result",
          "data": {
            "text/plain": [
              "FreqDist({'Die,': 1, 'die!': 1, '(regardless,': 1, 'scary).': 1, 'DUAL': 1, 'LOYALTIES:': 1, 'Mondoweiss,': 1, 'IDF.': 1, 'towards,': 1, 'overdrive.READ': 1})"
            ]
          },
          "metadata": {},
          "execution_count": 44
        }
      ],
      "source": [
        "from nltk import FreqDist\n",
        "# 10 least used words:\n",
        "last_ten = FreqDist(dict(freq.most_common()[-10:]))\n",
        "last_ten"
      ]
    },
    {
      "cell_type": "code",
      "execution_count": null,
      "metadata": {
        "colab": {
          "base_uri": "https://localhost:8080/"
        },
        "id": "uyT8jbMsp-DF",
        "outputId": "039624e2-3d61-4a66-cf89-9611df65e7cf"
      },
      "outputs": [
        {
          "output_type": "execute_result",
          "data": {
            "text/plain": [
              "FreqDist({'Narrative’': 1, 'Burns,': 1, 'Retreat,': 1, '#38': 1, 'Showdown': 1, 'Looms': 1, 'Ranching': 1, 'Bundys': 1, 'Troubled': 1, 'King:': 1})"
            ]
          },
          "metadata": {},
          "execution_count": 45
        }
      ],
      "source": [
        "from nltk import FreqDist\n",
        "# 10 least used words:\n",
        "last_ten1 = FreqDist(dict(freq1.most_common()[-10:]))\n",
        "last_ten1"
      ]
    },
    {
      "cell_type": "code",
      "execution_count": null,
      "metadata": {
        "colab": {
          "base_uri": "https://localhost:8080/",
          "height": 337
        },
        "id": "MHMpfPfzqAWA",
        "outputId": "c71df517-a811-4f82-bf92-89286c7e8fb2"
      },
      "outputs": [
        {
          "output_type": "execute_result",
          "data": {
            "text/plain": [
              "                                               title  \\\n",
              "0  As U.S. budget fight looms, Republicans flip t...   \n",
              "1  U.S. military to accept transgender recruits o...   \n",
              "2  Senior U.S. Republican senator: 'Let Mr. Muell...   \n",
              "3  FBI Russia probe helped by Australian diplomat...   \n",
              "4  Trump wants Postal Service to charge 'much mor...   \n",
              "\n",
              "                                                text       subject  \\\n",
              "0  WASHINGTON (Reuters) - The head of a conservat...  politicsNews   \n",
              "1  WASHINGTON (Reuters) - Transgender people will...  politicsNews   \n",
              "2  WASHINGTON (Reuters) - The special counsel inv...  politicsNews   \n",
              "3  WASHINGTON (Reuters) - Trump campaign adviser ...  politicsNews   \n",
              "4  SEATTLE/WASHINGTON (Reuters) - President Donal...  politicsNews   \n",
              "\n",
              "                 date      source  label  \n",
              "0  December 31, 2017    (Reuters)      1  \n",
              "1  December 29, 2017    (Reuters)      1  \n",
              "2  December 31, 2017    (Reuters)      1  \n",
              "3  December 30, 2017    (Reuters)      1  \n",
              "4  December 29, 2017   SHINGTON (      1  "
            ],
            "text/html": [
              "\n",
              "  <div id=\"df-3b1dc4e9-c361-4439-b5d0-4fd9bd9fbb5c\">\n",
              "    <div class=\"colab-df-container\">\n",
              "      <div>\n",
              "<style scoped>\n",
              "    .dataframe tbody tr th:only-of-type {\n",
              "        vertical-align: middle;\n",
              "    }\n",
              "\n",
              "    .dataframe tbody tr th {\n",
              "        vertical-align: top;\n",
              "    }\n",
              "\n",
              "    .dataframe thead th {\n",
              "        text-align: right;\n",
              "    }\n",
              "</style>\n",
              "<table border=\"1\" class=\"dataframe\">\n",
              "  <thead>\n",
              "    <tr style=\"text-align: right;\">\n",
              "      <th></th>\n",
              "      <th>title</th>\n",
              "      <th>text</th>\n",
              "      <th>subject</th>\n",
              "      <th>date</th>\n",
              "      <th>source</th>\n",
              "      <th>label</th>\n",
              "    </tr>\n",
              "  </thead>\n",
              "  <tbody>\n",
              "    <tr>\n",
              "      <th>0</th>\n",
              "      <td>As U.S. budget fight looms, Republicans flip t...</td>\n",
              "      <td>WASHINGTON (Reuters) - The head of a conservat...</td>\n",
              "      <td>politicsNews</td>\n",
              "      <td>December 31, 2017</td>\n",
              "      <td>(Reuters)</td>\n",
              "      <td>1</td>\n",
              "    </tr>\n",
              "    <tr>\n",
              "      <th>1</th>\n",
              "      <td>U.S. military to accept transgender recruits o...</td>\n",
              "      <td>WASHINGTON (Reuters) - Transgender people will...</td>\n",
              "      <td>politicsNews</td>\n",
              "      <td>December 29, 2017</td>\n",
              "      <td>(Reuters)</td>\n",
              "      <td>1</td>\n",
              "    </tr>\n",
              "    <tr>\n",
              "      <th>2</th>\n",
              "      <td>Senior U.S. Republican senator: 'Let Mr. Muell...</td>\n",
              "      <td>WASHINGTON (Reuters) - The special counsel inv...</td>\n",
              "      <td>politicsNews</td>\n",
              "      <td>December 31, 2017</td>\n",
              "      <td>(Reuters)</td>\n",
              "      <td>1</td>\n",
              "    </tr>\n",
              "    <tr>\n",
              "      <th>3</th>\n",
              "      <td>FBI Russia probe helped by Australian diplomat...</td>\n",
              "      <td>WASHINGTON (Reuters) - Trump campaign adviser ...</td>\n",
              "      <td>politicsNews</td>\n",
              "      <td>December 30, 2017</td>\n",
              "      <td>(Reuters)</td>\n",
              "      <td>1</td>\n",
              "    </tr>\n",
              "    <tr>\n",
              "      <th>4</th>\n",
              "      <td>Trump wants Postal Service to charge 'much mor...</td>\n",
              "      <td>SEATTLE/WASHINGTON (Reuters) - President Donal...</td>\n",
              "      <td>politicsNews</td>\n",
              "      <td>December 29, 2017</td>\n",
              "      <td>SHINGTON (</td>\n",
              "      <td>1</td>\n",
              "    </tr>\n",
              "  </tbody>\n",
              "</table>\n",
              "</div>\n",
              "      <button class=\"colab-df-convert\" onclick=\"convertToInteractive('df-3b1dc4e9-c361-4439-b5d0-4fd9bd9fbb5c')\"\n",
              "              title=\"Convert this dataframe to an interactive table.\"\n",
              "              style=\"display:none;\">\n",
              "        \n",
              "  <svg xmlns=\"http://www.w3.org/2000/svg\" height=\"24px\"viewBox=\"0 0 24 24\"\n",
              "       width=\"24px\">\n",
              "    <path d=\"M0 0h24v24H0V0z\" fill=\"none\"/>\n",
              "    <path d=\"M18.56 5.44l.94 2.06.94-2.06 2.06-.94-2.06-.94-.94-2.06-.94 2.06-2.06.94zm-11 1L8.5 8.5l.94-2.06 2.06-.94-2.06-.94L8.5 2.5l-.94 2.06-2.06.94zm10 10l.94 2.06.94-2.06 2.06-.94-2.06-.94-.94-2.06-.94 2.06-2.06.94z\"/><path d=\"M17.41 7.96l-1.37-1.37c-.4-.4-.92-.59-1.43-.59-.52 0-1.04.2-1.43.59L10.3 9.45l-7.72 7.72c-.78.78-.78 2.05 0 2.83L4 21.41c.39.39.9.59 1.41.59.51 0 1.02-.2 1.41-.59l7.78-7.78 2.81-2.81c.8-.78.8-2.07 0-2.86zM5.41 20L4 18.59l7.72-7.72 1.47 1.35L5.41 20z\"/>\n",
              "  </svg>\n",
              "      </button>\n",
              "      \n",
              "  <style>\n",
              "    .colab-df-container {\n",
              "      display:flex;\n",
              "      flex-wrap:wrap;\n",
              "      gap: 12px;\n",
              "    }\n",
              "\n",
              "    .colab-df-convert {\n",
              "      background-color: #E8F0FE;\n",
              "      border: none;\n",
              "      border-radius: 50%;\n",
              "      cursor: pointer;\n",
              "      display: none;\n",
              "      fill: #1967D2;\n",
              "      height: 32px;\n",
              "      padding: 0 0 0 0;\n",
              "      width: 32px;\n",
              "    }\n",
              "\n",
              "    .colab-df-convert:hover {\n",
              "      background-color: #E2EBFA;\n",
              "      box-shadow: 0px 1px 2px rgba(60, 64, 67, 0.3), 0px 1px 3px 1px rgba(60, 64, 67, 0.15);\n",
              "      fill: #174EA6;\n",
              "    }\n",
              "\n",
              "    [theme=dark] .colab-df-convert {\n",
              "      background-color: #3B4455;\n",
              "      fill: #D2E3FC;\n",
              "    }\n",
              "\n",
              "    [theme=dark] .colab-df-convert:hover {\n",
              "      background-color: #434B5C;\n",
              "      box-shadow: 0px 1px 3px 1px rgba(0, 0, 0, 0.15);\n",
              "      filter: drop-shadow(0px 1px 2px rgba(0, 0, 0, 0.3));\n",
              "      fill: #FFFFFF;\n",
              "    }\n",
              "  </style>\n",
              "\n",
              "      <script>\n",
              "        const buttonEl =\n",
              "          document.querySelector('#df-3b1dc4e9-c361-4439-b5d0-4fd9bd9fbb5c button.colab-df-convert');\n",
              "        buttonEl.style.display =\n",
              "          google.colab.kernel.accessAllowed ? 'block' : 'none';\n",
              "\n",
              "        async function convertToInteractive(key) {\n",
              "          const element = document.querySelector('#df-3b1dc4e9-c361-4439-b5d0-4fd9bd9fbb5c');\n",
              "          const dataTable =\n",
              "            await google.colab.kernel.invokeFunction('convertToInteractive',\n",
              "                                                     [key], {});\n",
              "          if (!dataTable) return;\n",
              "\n",
              "          const docLinkHtml = 'Like what you see? Visit the ' +\n",
              "            '<a target=\"_blank\" href=https://colab.research.google.com/notebooks/data_table.ipynb>data table notebook</a>'\n",
              "            + ' to learn more about interactive tables.';\n",
              "          element.innerHTML = '';\n",
              "          dataTable['output_type'] = 'display_data';\n",
              "          await google.colab.output.renderOutput(dataTable, element);\n",
              "          const docLink = document.createElement('div');\n",
              "          docLink.innerHTML = docLinkHtml;\n",
              "          element.appendChild(docLink);\n",
              "        }\n",
              "      </script>\n",
              "    </div>\n",
              "  </div>\n",
              "  "
            ]
          },
          "metadata": {},
          "execution_count": 46
        }
      ],
      "source": [
        "news_df.head()"
      ]
    },
    {
      "cell_type": "code",
      "execution_count": null,
      "metadata": {
        "id": "bvGlNxIPqCn6"
      },
      "outputs": [],
      "source": [
        "# Removing the un-important columns\n",
        "\n",
        "news_df=news_df[['title','text','label']]"
      ]
    },
    {
      "cell_type": "code",
      "execution_count": null,
      "metadata": {
        "colab": {
          "base_uri": "https://localhost:8080/",
          "height": 206
        },
        "id": "NNRK7jmJqGGG",
        "outputId": "b7b6cf9d-d2b3-4779-d81f-1b63c8141649"
      },
      "outputs": [
        {
          "output_type": "execute_result",
          "data": {
            "text/plain": [
              "                                               title  \\\n",
              "0  As U.S. budget fight looms, Republicans flip t...   \n",
              "1  U.S. military to accept transgender recruits o...   \n",
              "2  Senior U.S. Republican senator: 'Let Mr. Muell...   \n",
              "3  FBI Russia probe helped by Australian diplomat...   \n",
              "4  Trump wants Postal Service to charge 'much mor...   \n",
              "\n",
              "                                                text  label  \n",
              "0  WASHINGTON (Reuters) - The head of a conservat...      1  \n",
              "1  WASHINGTON (Reuters) - Transgender people will...      1  \n",
              "2  WASHINGTON (Reuters) - The special counsel inv...      1  \n",
              "3  WASHINGTON (Reuters) - Trump campaign adviser ...      1  \n",
              "4  SEATTLE/WASHINGTON (Reuters) - President Donal...      1  "
            ],
            "text/html": [
              "\n",
              "  <div id=\"df-c0a607f7-bda1-4f6a-a0dc-8d842256512e\">\n",
              "    <div class=\"colab-df-container\">\n",
              "      <div>\n",
              "<style scoped>\n",
              "    .dataframe tbody tr th:only-of-type {\n",
              "        vertical-align: middle;\n",
              "    }\n",
              "\n",
              "    .dataframe tbody tr th {\n",
              "        vertical-align: top;\n",
              "    }\n",
              "\n",
              "    .dataframe thead th {\n",
              "        text-align: right;\n",
              "    }\n",
              "</style>\n",
              "<table border=\"1\" class=\"dataframe\">\n",
              "  <thead>\n",
              "    <tr style=\"text-align: right;\">\n",
              "      <th></th>\n",
              "      <th>title</th>\n",
              "      <th>text</th>\n",
              "      <th>label</th>\n",
              "    </tr>\n",
              "  </thead>\n",
              "  <tbody>\n",
              "    <tr>\n",
              "      <th>0</th>\n",
              "      <td>As U.S. budget fight looms, Republicans flip t...</td>\n",
              "      <td>WASHINGTON (Reuters) - The head of a conservat...</td>\n",
              "      <td>1</td>\n",
              "    </tr>\n",
              "    <tr>\n",
              "      <th>1</th>\n",
              "      <td>U.S. military to accept transgender recruits o...</td>\n",
              "      <td>WASHINGTON (Reuters) - Transgender people will...</td>\n",
              "      <td>1</td>\n",
              "    </tr>\n",
              "    <tr>\n",
              "      <th>2</th>\n",
              "      <td>Senior U.S. Republican senator: 'Let Mr. Muell...</td>\n",
              "      <td>WASHINGTON (Reuters) - The special counsel inv...</td>\n",
              "      <td>1</td>\n",
              "    </tr>\n",
              "    <tr>\n",
              "      <th>3</th>\n",
              "      <td>FBI Russia probe helped by Australian diplomat...</td>\n",
              "      <td>WASHINGTON (Reuters) - Trump campaign adviser ...</td>\n",
              "      <td>1</td>\n",
              "    </tr>\n",
              "    <tr>\n",
              "      <th>4</th>\n",
              "      <td>Trump wants Postal Service to charge 'much mor...</td>\n",
              "      <td>SEATTLE/WASHINGTON (Reuters) - President Donal...</td>\n",
              "      <td>1</td>\n",
              "    </tr>\n",
              "  </tbody>\n",
              "</table>\n",
              "</div>\n",
              "      <button class=\"colab-df-convert\" onclick=\"convertToInteractive('df-c0a607f7-bda1-4f6a-a0dc-8d842256512e')\"\n",
              "              title=\"Convert this dataframe to an interactive table.\"\n",
              "              style=\"display:none;\">\n",
              "        \n",
              "  <svg xmlns=\"http://www.w3.org/2000/svg\" height=\"24px\"viewBox=\"0 0 24 24\"\n",
              "       width=\"24px\">\n",
              "    <path d=\"M0 0h24v24H0V0z\" fill=\"none\"/>\n",
              "    <path d=\"M18.56 5.44l.94 2.06.94-2.06 2.06-.94-2.06-.94-.94-2.06-.94 2.06-2.06.94zm-11 1L8.5 8.5l.94-2.06 2.06-.94-2.06-.94L8.5 2.5l-.94 2.06-2.06.94zm10 10l.94 2.06.94-2.06 2.06-.94-2.06-.94-.94-2.06-.94 2.06-2.06.94z\"/><path d=\"M17.41 7.96l-1.37-1.37c-.4-.4-.92-.59-1.43-.59-.52 0-1.04.2-1.43.59L10.3 9.45l-7.72 7.72c-.78.78-.78 2.05 0 2.83L4 21.41c.39.39.9.59 1.41.59.51 0 1.02-.2 1.41-.59l7.78-7.78 2.81-2.81c.8-.78.8-2.07 0-2.86zM5.41 20L4 18.59l7.72-7.72 1.47 1.35L5.41 20z\"/>\n",
              "  </svg>\n",
              "      </button>\n",
              "      \n",
              "  <style>\n",
              "    .colab-df-container {\n",
              "      display:flex;\n",
              "      flex-wrap:wrap;\n",
              "      gap: 12px;\n",
              "    }\n",
              "\n",
              "    .colab-df-convert {\n",
              "      background-color: #E8F0FE;\n",
              "      border: none;\n",
              "      border-radius: 50%;\n",
              "      cursor: pointer;\n",
              "      display: none;\n",
              "      fill: #1967D2;\n",
              "      height: 32px;\n",
              "      padding: 0 0 0 0;\n",
              "      width: 32px;\n",
              "    }\n",
              "\n",
              "    .colab-df-convert:hover {\n",
              "      background-color: #E2EBFA;\n",
              "      box-shadow: 0px 1px 2px rgba(60, 64, 67, 0.3), 0px 1px 3px 1px rgba(60, 64, 67, 0.15);\n",
              "      fill: #174EA6;\n",
              "    }\n",
              "\n",
              "    [theme=dark] .colab-df-convert {\n",
              "      background-color: #3B4455;\n",
              "      fill: #D2E3FC;\n",
              "    }\n",
              "\n",
              "    [theme=dark] .colab-df-convert:hover {\n",
              "      background-color: #434B5C;\n",
              "      box-shadow: 0px 1px 3px 1px rgba(0, 0, 0, 0.15);\n",
              "      filter: drop-shadow(0px 1px 2px rgba(0, 0, 0, 0.3));\n",
              "      fill: #FFFFFF;\n",
              "    }\n",
              "  </style>\n",
              "\n",
              "      <script>\n",
              "        const buttonEl =\n",
              "          document.querySelector('#df-c0a607f7-bda1-4f6a-a0dc-8d842256512e button.colab-df-convert');\n",
              "        buttonEl.style.display =\n",
              "          google.colab.kernel.accessAllowed ? 'block' : 'none';\n",
              "\n",
              "        async function convertToInteractive(key) {\n",
              "          const element = document.querySelector('#df-c0a607f7-bda1-4f6a-a0dc-8d842256512e');\n",
              "          const dataTable =\n",
              "            await google.colab.kernel.invokeFunction('convertToInteractive',\n",
              "                                                     [key], {});\n",
              "          if (!dataTable) return;\n",
              "\n",
              "          const docLinkHtml = 'Like what you see? Visit the ' +\n",
              "            '<a target=\"_blank\" href=https://colab.research.google.com/notebooks/data_table.ipynb>data table notebook</a>'\n",
              "            + ' to learn more about interactive tables.';\n",
              "          element.innerHTML = '';\n",
              "          dataTable['output_type'] = 'display_data';\n",
              "          await google.colab.output.renderOutput(dataTable, element);\n",
              "          const docLink = document.createElement('div');\n",
              "          docLink.innerHTML = docLinkHtml;\n",
              "          element.appendChild(docLink);\n",
              "        }\n",
              "      </script>\n",
              "    </div>\n",
              "  </div>\n",
              "  "
            ]
          },
          "metadata": {},
          "execution_count": 48
        }
      ],
      "source": [
        "news_df.head()"
      ]
    },
    {
      "cell_type": "code",
      "execution_count": null,
      "metadata": {
        "colab": {
          "base_uri": "https://localhost:8080/",
          "height": 468
        },
        "id": "3QUyIa9tqI8J",
        "outputId": "43abaec0-cd85-42ef-e141-a39db8a7fe19"
      },
      "outputs": [
        {
          "output_type": "execute_result",
          "data": {
            "text/plain": [
              "                                                   title  \\\n",
              "0      Nordstrom says decision to drop Ivanka Trump's...   \n",
              "1      France, Germany concerned about Trump's moves ...   \n",
              "2      Israel PM Netanyahu to meet with Trump on Feb ...   \n",
              "3      Trump administration switches sides, backs Ohi...   \n",
              "4      WHO urges Trump to expand Obamacare, ensure he...   \n",
              "...                                                  ...   \n",
              "20460  ALARMING! THIS STATE’S SCHOOL SYSTEM TO TAKE O...   \n",
              "20461  White House says Trump to sign spending bill T...   \n",
              "20462  Gun shops eye busy Black Friday despite Hillar...   \n",
              "20463  Factbox: Political risk outlook calendar for T...   \n",
              "20464  TAKE THIS SHORT QUIZ: Which Radical Said It? W...   \n",
              "\n",
              "                                                    text  label  \n",
              "0      CHICAGO (Reuters) - Nordstrom Inc said on Wedn...      1  \n",
              "1      PARIS (Reuters) - France, Germany and Luxembou...      1  \n",
              "2      WASHINGTON (Reuters) - Israeli Prime Minister ...      1  \n",
              "3      (Reuters) - The Trump administration has rever...      1  \n",
              "4      GENEVA (Reuters) - The World Health Organizati...      1  \n",
              "...                                                  ...    ...  \n",
              "20460  The ultimate nanny state move in this liberal ...      0  \n",
              "20461  WASHINGTON (Reuters) - White House budget dire...      1  \n",
              "20462  SAN FRANCISCO (Reuters) - Christmas came early...      1  \n",
              "20463  (Reuters) - Financial market concerns are risi...      1  \n",
              "20464   Here are six trivia questions to see how much...      0  \n",
              "\n",
              "[20465 rows x 3 columns]"
            ],
            "text/html": [
              "\n",
              "  <div id=\"df-f1ce30de-7587-4e75-8c7b-438375581aee\">\n",
              "    <div class=\"colab-df-container\">\n",
              "      <div>\n",
              "<style scoped>\n",
              "    .dataframe tbody tr th:only-of-type {\n",
              "        vertical-align: middle;\n",
              "    }\n",
              "\n",
              "    .dataframe tbody tr th {\n",
              "        vertical-align: top;\n",
              "    }\n",
              "\n",
              "    .dataframe thead th {\n",
              "        text-align: right;\n",
              "    }\n",
              "</style>\n",
              "<table border=\"1\" class=\"dataframe\">\n",
              "  <thead>\n",
              "    <tr style=\"text-align: right;\">\n",
              "      <th></th>\n",
              "      <th>title</th>\n",
              "      <th>text</th>\n",
              "      <th>label</th>\n",
              "    </tr>\n",
              "  </thead>\n",
              "  <tbody>\n",
              "    <tr>\n",
              "      <th>0</th>\n",
              "      <td>Nordstrom says decision to drop Ivanka Trump's...</td>\n",
              "      <td>CHICAGO (Reuters) - Nordstrom Inc said on Wedn...</td>\n",
              "      <td>1</td>\n",
              "    </tr>\n",
              "    <tr>\n",
              "      <th>1</th>\n",
              "      <td>France, Germany concerned about Trump's moves ...</td>\n",
              "      <td>PARIS (Reuters) - France, Germany and Luxembou...</td>\n",
              "      <td>1</td>\n",
              "    </tr>\n",
              "    <tr>\n",
              "      <th>2</th>\n",
              "      <td>Israel PM Netanyahu to meet with Trump on Feb ...</td>\n",
              "      <td>WASHINGTON (Reuters) - Israeli Prime Minister ...</td>\n",
              "      <td>1</td>\n",
              "    </tr>\n",
              "    <tr>\n",
              "      <th>3</th>\n",
              "      <td>Trump administration switches sides, backs Ohi...</td>\n",
              "      <td>(Reuters) - The Trump administration has rever...</td>\n",
              "      <td>1</td>\n",
              "    </tr>\n",
              "    <tr>\n",
              "      <th>4</th>\n",
              "      <td>WHO urges Trump to expand Obamacare, ensure he...</td>\n",
              "      <td>GENEVA (Reuters) - The World Health Organizati...</td>\n",
              "      <td>1</td>\n",
              "    </tr>\n",
              "    <tr>\n",
              "      <th>...</th>\n",
              "      <td>...</td>\n",
              "      <td>...</td>\n",
              "      <td>...</td>\n",
              "    </tr>\n",
              "    <tr>\n",
              "      <th>20460</th>\n",
              "      <td>ALARMING! THIS STATE’S SCHOOL SYSTEM TO TAKE O...</td>\n",
              "      <td>The ultimate nanny state move in this liberal ...</td>\n",
              "      <td>0</td>\n",
              "    </tr>\n",
              "    <tr>\n",
              "      <th>20461</th>\n",
              "      <td>White House says Trump to sign spending bill T...</td>\n",
              "      <td>WASHINGTON (Reuters) - White House budget dire...</td>\n",
              "      <td>1</td>\n",
              "    </tr>\n",
              "    <tr>\n",
              "      <th>20462</th>\n",
              "      <td>Gun shops eye busy Black Friday despite Hillar...</td>\n",
              "      <td>SAN FRANCISCO (Reuters) - Christmas came early...</td>\n",
              "      <td>1</td>\n",
              "    </tr>\n",
              "    <tr>\n",
              "      <th>20463</th>\n",
              "      <td>Factbox: Political risk outlook calendar for T...</td>\n",
              "      <td>(Reuters) - Financial market concerns are risi...</td>\n",
              "      <td>1</td>\n",
              "    </tr>\n",
              "    <tr>\n",
              "      <th>20464</th>\n",
              "      <td>TAKE THIS SHORT QUIZ: Which Radical Said It? W...</td>\n",
              "      <td>Here are six trivia questions to see how much...</td>\n",
              "      <td>0</td>\n",
              "    </tr>\n",
              "  </tbody>\n",
              "</table>\n",
              "<p>20465 rows × 3 columns</p>\n",
              "</div>\n",
              "      <button class=\"colab-df-convert\" onclick=\"convertToInteractive('df-f1ce30de-7587-4e75-8c7b-438375581aee')\"\n",
              "              title=\"Convert this dataframe to an interactive table.\"\n",
              "              style=\"display:none;\">\n",
              "        \n",
              "  <svg xmlns=\"http://www.w3.org/2000/svg\" height=\"24px\"viewBox=\"0 0 24 24\"\n",
              "       width=\"24px\">\n",
              "    <path d=\"M0 0h24v24H0V0z\" fill=\"none\"/>\n",
              "    <path d=\"M18.56 5.44l.94 2.06.94-2.06 2.06-.94-2.06-.94-.94-2.06-.94 2.06-2.06.94zm-11 1L8.5 8.5l.94-2.06 2.06-.94-2.06-.94L8.5 2.5l-.94 2.06-2.06.94zm10 10l.94 2.06.94-2.06 2.06-.94-2.06-.94-.94-2.06-.94 2.06-2.06.94z\"/><path d=\"M17.41 7.96l-1.37-1.37c-.4-.4-.92-.59-1.43-.59-.52 0-1.04.2-1.43.59L10.3 9.45l-7.72 7.72c-.78.78-.78 2.05 0 2.83L4 21.41c.39.39.9.59 1.41.59.51 0 1.02-.2 1.41-.59l7.78-7.78 2.81-2.81c.8-.78.8-2.07 0-2.86zM5.41 20L4 18.59l7.72-7.72 1.47 1.35L5.41 20z\"/>\n",
              "  </svg>\n",
              "      </button>\n",
              "      \n",
              "  <style>\n",
              "    .colab-df-container {\n",
              "      display:flex;\n",
              "      flex-wrap:wrap;\n",
              "      gap: 12px;\n",
              "    }\n",
              "\n",
              "    .colab-df-convert {\n",
              "      background-color: #E8F0FE;\n",
              "      border: none;\n",
              "      border-radius: 50%;\n",
              "      cursor: pointer;\n",
              "      display: none;\n",
              "      fill: #1967D2;\n",
              "      height: 32px;\n",
              "      padding: 0 0 0 0;\n",
              "      width: 32px;\n",
              "    }\n",
              "\n",
              "    .colab-df-convert:hover {\n",
              "      background-color: #E2EBFA;\n",
              "      box-shadow: 0px 1px 2px rgba(60, 64, 67, 0.3), 0px 1px 3px 1px rgba(60, 64, 67, 0.15);\n",
              "      fill: #174EA6;\n",
              "    }\n",
              "\n",
              "    [theme=dark] .colab-df-convert {\n",
              "      background-color: #3B4455;\n",
              "      fill: #D2E3FC;\n",
              "    }\n",
              "\n",
              "    [theme=dark] .colab-df-convert:hover {\n",
              "      background-color: #434B5C;\n",
              "      box-shadow: 0px 1px 3px 1px rgba(0, 0, 0, 0.15);\n",
              "      filter: drop-shadow(0px 1px 2px rgba(0, 0, 0, 0.3));\n",
              "      fill: #FFFFFF;\n",
              "    }\n",
              "  </style>\n",
              "\n",
              "      <script>\n",
              "        const buttonEl =\n",
              "          document.querySelector('#df-f1ce30de-7587-4e75-8c7b-438375581aee button.colab-df-convert');\n",
              "        buttonEl.style.display =\n",
              "          google.colab.kernel.accessAllowed ? 'block' : 'none';\n",
              "\n",
              "        async function convertToInteractive(key) {\n",
              "          const element = document.querySelector('#df-f1ce30de-7587-4e75-8c7b-438375581aee');\n",
              "          const dataTable =\n",
              "            await google.colab.kernel.invokeFunction('convertToInteractive',\n",
              "                                                     [key], {});\n",
              "          if (!dataTable) return;\n",
              "\n",
              "          const docLinkHtml = 'Like what you see? Visit the ' +\n",
              "            '<a target=\"_blank\" href=https://colab.research.google.com/notebooks/data_table.ipynb>data table notebook</a>'\n",
              "            + ' to learn more about interactive tables.';\n",
              "          element.innerHTML = '';\n",
              "          dataTable['output_type'] = 'display_data';\n",
              "          await google.colab.output.renderOutput(dataTable, element);\n",
              "          const docLink = document.createElement('div');\n",
              "          docLink.innerHTML = docLinkHtml;\n",
              "          element.appendChild(docLink);\n",
              "        }\n",
              "      </script>\n",
              "    </div>\n",
              "  </div>\n",
              "  "
            ]
          },
          "metadata": {},
          "execution_count": 49
        }
      ],
      "source": [
        "# in order to remove bias I will shuffle the data\n",
        "from sklearn.utils import shuffle\n",
        "news_df = shuffle(news_df)\n",
        "news_df = news_df.reset_index(drop=True)\n",
        "news_df"
      ]
    },
    {
      "cell_type": "code",
      "execution_count": null,
      "metadata": {
        "id": "HKd8vUo0qMfM"
      },
      "outputs": [],
      "source": [
        "news_df['text'] = news_df['text'].apply(lambda x: x.lower())\n",
        "news_df['title'] = news_df['title'].apply(lambda x: x.lower())\n",
        "# Remove punctuation:\n",
        "import string\n",
        "def punctuation_removal(text):\n",
        "    all_list = [char for char in text if char not in string.punctuation]\n",
        "    clean_str = ''.join(all_list)\n",
        "    return clean_str\n",
        "news_df['text'] = news_df['text'].apply(punctuation_removal)"
      ]
    },
    {
      "cell_type": "code",
      "execution_count": null,
      "metadata": {
        "id": "lnvQId3aqRzc"
      },
      "outputs": [],
      "source": [
        "def punctuation_removal(title):\n",
        "    all_list = [char for char in title if char not in string.punctuation]\n",
        "    clean_str = ''.join(all_list)\n",
        "    return clean_str\n",
        "news_df['title'] = news_df['title'].apply(punctuation_removal)"
      ]
    },
    {
      "cell_type": "code",
      "execution_count": null,
      "metadata": {
        "colab": {
          "base_uri": "https://localhost:8080/",
          "height": 424
        },
        "id": "d_qcXv75qUaS",
        "outputId": "dbed4b5a-7a5b-493a-e794-2a81d05e7b35"
      },
      "outputs": [
        {
          "output_type": "execute_result",
          "data": {
            "text/plain": [
              "                                                   title  \\\n",
              "0      nordstrom says decision to drop ivanka trumps ...   \n",
              "1      france germany concerned about trumps moves to...   \n",
              "2      israel pm netanyahu to meet with trump on feb ...   \n",
              "3      trump administration switches sides backs ohio...   \n",
              "4      who urges trump to expand obamacare ensure hea...   \n",
              "...                                                  ...   \n",
              "20460  alarming this state’s school system to take ov...   \n",
              "20461  white house says trump to sign spending bill t...   \n",
              "20462  gun shops eye busy black friday despite hillar...   \n",
              "20463  factbox political risk outlook calendar for tr...   \n",
              "20464  take this short quiz which radical said it we ...   \n",
              "\n",
              "                                                    text  label  \n",
              "0      chicago reuters  nordstrom inc said on wednesd...      1  \n",
              "1      paris reuters  france germany and luxembourg v...      1  \n",
              "2      washington reuters  israeli prime minister ben...      1  \n",
              "3      reuters  the trump administration has reversed...      1  \n",
              "4      geneva reuters  the world health organization ...      1  \n",
              "...                                                  ...    ...  \n",
              "20460  the ultimate nanny state move in this liberal ...      0  \n",
              "20461  washington reuters  white house budget directo...      1  \n",
              "20462  san francisco reuters  christmas came early fo...      1  \n",
              "20463  reuters  financial market concerns are rising ...      1  \n",
              "20464   here are six trivia questions to see how much...      0  \n",
              "\n",
              "[20465 rows x 3 columns]"
            ],
            "text/html": [
              "\n",
              "  <div id=\"df-f85d3fae-a258-47c7-a4ff-756a345a7516\">\n",
              "    <div class=\"colab-df-container\">\n",
              "      <div>\n",
              "<style scoped>\n",
              "    .dataframe tbody tr th:only-of-type {\n",
              "        vertical-align: middle;\n",
              "    }\n",
              "\n",
              "    .dataframe tbody tr th {\n",
              "        vertical-align: top;\n",
              "    }\n",
              "\n",
              "    .dataframe thead th {\n",
              "        text-align: right;\n",
              "    }\n",
              "</style>\n",
              "<table border=\"1\" class=\"dataframe\">\n",
              "  <thead>\n",
              "    <tr style=\"text-align: right;\">\n",
              "      <th></th>\n",
              "      <th>title</th>\n",
              "      <th>text</th>\n",
              "      <th>label</th>\n",
              "    </tr>\n",
              "  </thead>\n",
              "  <tbody>\n",
              "    <tr>\n",
              "      <th>0</th>\n",
              "      <td>nordstrom says decision to drop ivanka trumps ...</td>\n",
              "      <td>chicago reuters  nordstrom inc said on wednesd...</td>\n",
              "      <td>1</td>\n",
              "    </tr>\n",
              "    <tr>\n",
              "      <th>1</th>\n",
              "      <td>france germany concerned about trumps moves to...</td>\n",
              "      <td>paris reuters  france germany and luxembourg v...</td>\n",
              "      <td>1</td>\n",
              "    </tr>\n",
              "    <tr>\n",
              "      <th>2</th>\n",
              "      <td>israel pm netanyahu to meet with trump on feb ...</td>\n",
              "      <td>washington reuters  israeli prime minister ben...</td>\n",
              "      <td>1</td>\n",
              "    </tr>\n",
              "    <tr>\n",
              "      <th>3</th>\n",
              "      <td>trump administration switches sides backs ohio...</td>\n",
              "      <td>reuters  the trump administration has reversed...</td>\n",
              "      <td>1</td>\n",
              "    </tr>\n",
              "    <tr>\n",
              "      <th>4</th>\n",
              "      <td>who urges trump to expand obamacare ensure hea...</td>\n",
              "      <td>geneva reuters  the world health organization ...</td>\n",
              "      <td>1</td>\n",
              "    </tr>\n",
              "    <tr>\n",
              "      <th>...</th>\n",
              "      <td>...</td>\n",
              "      <td>...</td>\n",
              "      <td>...</td>\n",
              "    </tr>\n",
              "    <tr>\n",
              "      <th>20460</th>\n",
              "      <td>alarming this state’s school system to take ov...</td>\n",
              "      <td>the ultimate nanny state move in this liberal ...</td>\n",
              "      <td>0</td>\n",
              "    </tr>\n",
              "    <tr>\n",
              "      <th>20461</th>\n",
              "      <td>white house says trump to sign spending bill t...</td>\n",
              "      <td>washington reuters  white house budget directo...</td>\n",
              "      <td>1</td>\n",
              "    </tr>\n",
              "    <tr>\n",
              "      <th>20462</th>\n",
              "      <td>gun shops eye busy black friday despite hillar...</td>\n",
              "      <td>san francisco reuters  christmas came early fo...</td>\n",
              "      <td>1</td>\n",
              "    </tr>\n",
              "    <tr>\n",
              "      <th>20463</th>\n",
              "      <td>factbox political risk outlook calendar for tr...</td>\n",
              "      <td>reuters  financial market concerns are rising ...</td>\n",
              "      <td>1</td>\n",
              "    </tr>\n",
              "    <tr>\n",
              "      <th>20464</th>\n",
              "      <td>take this short quiz which radical said it we ...</td>\n",
              "      <td>here are six trivia questions to see how much...</td>\n",
              "      <td>0</td>\n",
              "    </tr>\n",
              "  </tbody>\n",
              "</table>\n",
              "<p>20465 rows × 3 columns</p>\n",
              "</div>\n",
              "      <button class=\"colab-df-convert\" onclick=\"convertToInteractive('df-f85d3fae-a258-47c7-a4ff-756a345a7516')\"\n",
              "              title=\"Convert this dataframe to an interactive table.\"\n",
              "              style=\"display:none;\">\n",
              "        \n",
              "  <svg xmlns=\"http://www.w3.org/2000/svg\" height=\"24px\"viewBox=\"0 0 24 24\"\n",
              "       width=\"24px\">\n",
              "    <path d=\"M0 0h24v24H0V0z\" fill=\"none\"/>\n",
              "    <path d=\"M18.56 5.44l.94 2.06.94-2.06 2.06-.94-2.06-.94-.94-2.06-.94 2.06-2.06.94zm-11 1L8.5 8.5l.94-2.06 2.06-.94-2.06-.94L8.5 2.5l-.94 2.06-2.06.94zm10 10l.94 2.06.94-2.06 2.06-.94-2.06-.94-.94-2.06-.94 2.06-2.06.94z\"/><path d=\"M17.41 7.96l-1.37-1.37c-.4-.4-.92-.59-1.43-.59-.52 0-1.04.2-1.43.59L10.3 9.45l-7.72 7.72c-.78.78-.78 2.05 0 2.83L4 21.41c.39.39.9.59 1.41.59.51 0 1.02-.2 1.41-.59l7.78-7.78 2.81-2.81c.8-.78.8-2.07 0-2.86zM5.41 20L4 18.59l7.72-7.72 1.47 1.35L5.41 20z\"/>\n",
              "  </svg>\n",
              "      </button>\n",
              "      \n",
              "  <style>\n",
              "    .colab-df-container {\n",
              "      display:flex;\n",
              "      flex-wrap:wrap;\n",
              "      gap: 12px;\n",
              "    }\n",
              "\n",
              "    .colab-df-convert {\n",
              "      background-color: #E8F0FE;\n",
              "      border: none;\n",
              "      border-radius: 50%;\n",
              "      cursor: pointer;\n",
              "      display: none;\n",
              "      fill: #1967D2;\n",
              "      height: 32px;\n",
              "      padding: 0 0 0 0;\n",
              "      width: 32px;\n",
              "    }\n",
              "\n",
              "    .colab-df-convert:hover {\n",
              "      background-color: #E2EBFA;\n",
              "      box-shadow: 0px 1px 2px rgba(60, 64, 67, 0.3), 0px 1px 3px 1px rgba(60, 64, 67, 0.15);\n",
              "      fill: #174EA6;\n",
              "    }\n",
              "\n",
              "    [theme=dark] .colab-df-convert {\n",
              "      background-color: #3B4455;\n",
              "      fill: #D2E3FC;\n",
              "    }\n",
              "\n",
              "    [theme=dark] .colab-df-convert:hover {\n",
              "      background-color: #434B5C;\n",
              "      box-shadow: 0px 1px 3px 1px rgba(0, 0, 0, 0.15);\n",
              "      filter: drop-shadow(0px 1px 2px rgba(0, 0, 0, 0.3));\n",
              "      fill: #FFFFFF;\n",
              "    }\n",
              "  </style>\n",
              "\n",
              "      <script>\n",
              "        const buttonEl =\n",
              "          document.querySelector('#df-f85d3fae-a258-47c7-a4ff-756a345a7516 button.colab-df-convert');\n",
              "        buttonEl.style.display =\n",
              "          google.colab.kernel.accessAllowed ? 'block' : 'none';\n",
              "\n",
              "        async function convertToInteractive(key) {\n",
              "          const element = document.querySelector('#df-f85d3fae-a258-47c7-a4ff-756a345a7516');\n",
              "          const dataTable =\n",
              "            await google.colab.kernel.invokeFunction('convertToInteractive',\n",
              "                                                     [key], {});\n",
              "          if (!dataTable) return;\n",
              "\n",
              "          const docLinkHtml = 'Like what you see? Visit the ' +\n",
              "            '<a target=\"_blank\" href=https://colab.research.google.com/notebooks/data_table.ipynb>data table notebook</a>'\n",
              "            + ' to learn more about interactive tables.';\n",
              "          element.innerHTML = '';\n",
              "          dataTable['output_type'] = 'display_data';\n",
              "          await google.colab.output.renderOutput(dataTable, element);\n",
              "          const docLink = document.createElement('div');\n",
              "          docLink.innerHTML = docLinkHtml;\n",
              "          element.appendChild(docLink);\n",
              "        }\n",
              "      </script>\n",
              "    </div>\n",
              "  </div>\n",
              "  "
            ]
          },
          "metadata": {},
          "execution_count": 52
        }
      ],
      "source": [
        "news_df"
      ]
    },
    {
      "cell_type": "code",
      "execution_count": null,
      "metadata": {
        "colab": {
          "base_uri": "https://localhost:8080/",
          "height": 1000
        },
        "id": "qut_fHFkqWTZ",
        "outputId": "c9514b02-0561-4502-ca8a-f21314bb6a70"
      },
      "outputs": [
        {
          "output_type": "stream",
          "name": "stderr",
          "text": [
            "[nltk_data] Downloading collection 'all'\n",
            "[nltk_data]    | \n",
            "[nltk_data]    | Downloading package abc to /root/nltk_data...\n",
            "[nltk_data]    |   Unzipping corpora/abc.zip.\n",
            "[nltk_data]    | Downloading package alpino to /root/nltk_data...\n",
            "[nltk_data]    |   Unzipping corpora/alpino.zip.\n",
            "[nltk_data]    | Downloading package averaged_perceptron_tagger to\n",
            "[nltk_data]    |     /root/nltk_data...\n",
            "[nltk_data]    |   Unzipping taggers/averaged_perceptron_tagger.zip.\n",
            "[nltk_data]    | Downloading package averaged_perceptron_tagger_ru to\n",
            "[nltk_data]    |     /root/nltk_data...\n",
            "[nltk_data]    |   Unzipping\n",
            "[nltk_data]    |       taggers/averaged_perceptron_tagger_ru.zip.\n",
            "[nltk_data]    | Downloading package basque_grammars to\n",
            "[nltk_data]    |     /root/nltk_data...\n",
            "[nltk_data]    |   Unzipping grammars/basque_grammars.zip.\n",
            "[nltk_data]    | Downloading package bcp47 to /root/nltk_data...\n",
            "[nltk_data]    | Downloading package biocreative_ppi to\n",
            "[nltk_data]    |     /root/nltk_data...\n",
            "[nltk_data]    |   Unzipping corpora/biocreative_ppi.zip.\n",
            "[nltk_data]    | Downloading package bllip_wsj_no_aux to\n",
            "[nltk_data]    |     /root/nltk_data...\n",
            "[nltk_data]    |   Unzipping models/bllip_wsj_no_aux.zip.\n",
            "[nltk_data]    | Downloading package book_grammars to\n",
            "[nltk_data]    |     /root/nltk_data...\n",
            "[nltk_data]    |   Unzipping grammars/book_grammars.zip.\n",
            "[nltk_data]    | Downloading package brown to /root/nltk_data...\n",
            "[nltk_data]    |   Unzipping corpora/brown.zip.\n",
            "[nltk_data]    | Downloading package brown_tei to /root/nltk_data...\n",
            "[nltk_data]    |   Unzipping corpora/brown_tei.zip.\n",
            "[nltk_data]    | Downloading package cess_cat to /root/nltk_data...\n",
            "[nltk_data]    |   Unzipping corpora/cess_cat.zip.\n",
            "[nltk_data]    | Downloading package cess_esp to /root/nltk_data...\n",
            "[nltk_data]    |   Unzipping corpora/cess_esp.zip.\n",
            "[nltk_data]    | Downloading package chat80 to /root/nltk_data...\n",
            "[nltk_data]    |   Unzipping corpora/chat80.zip.\n",
            "[nltk_data]    | Downloading package city_database to\n",
            "[nltk_data]    |     /root/nltk_data...\n",
            "[nltk_data]    |   Unzipping corpora/city_database.zip.\n",
            "[nltk_data]    | Downloading package cmudict to /root/nltk_data...\n",
            "[nltk_data]    |   Unzipping corpora/cmudict.zip.\n",
            "[nltk_data]    | Downloading package comparative_sentences to\n",
            "[nltk_data]    |     /root/nltk_data...\n",
            "[nltk_data]    |   Unzipping corpora/comparative_sentences.zip.\n",
            "[nltk_data]    | Downloading package comtrans to /root/nltk_data...\n",
            "[nltk_data]    | Downloading package conll2000 to /root/nltk_data...\n",
            "[nltk_data]    |   Unzipping corpora/conll2000.zip.\n",
            "[nltk_data]    | Downloading package conll2002 to /root/nltk_data...\n",
            "[nltk_data]    |   Unzipping corpora/conll2002.zip.\n",
            "[nltk_data]    | Downloading package conll2007 to /root/nltk_data...\n",
            "[nltk_data]    | Downloading package crubadan to /root/nltk_data...\n",
            "[nltk_data]    |   Unzipping corpora/crubadan.zip.\n",
            "[nltk_data]    | Downloading package dependency_treebank to\n",
            "[nltk_data]    |     /root/nltk_data...\n",
            "[nltk_data]    |   Unzipping corpora/dependency_treebank.zip.\n",
            "[nltk_data]    | Downloading package dolch to /root/nltk_data...\n",
            "[nltk_data]    |   Unzipping corpora/dolch.zip.\n",
            "[nltk_data]    | Downloading package europarl_raw to\n",
            "[nltk_data]    |     /root/nltk_data...\n",
            "[nltk_data]    |   Unzipping corpora/europarl_raw.zip.\n",
            "[nltk_data]    | Downloading package extended_omw to\n",
            "[nltk_data]    |     /root/nltk_data...\n",
            "[nltk_data]    | Downloading package floresta to /root/nltk_data...\n",
            "[nltk_data]    |   Unzipping corpora/floresta.zip.\n",
            "[nltk_data]    | Downloading package framenet_v15 to\n",
            "[nltk_data]    |     /root/nltk_data...\n",
            "[nltk_data]    |   Unzipping corpora/framenet_v15.zip.\n",
            "[nltk_data]    | Downloading package framenet_v17 to\n",
            "[nltk_data]    |     /root/nltk_data...\n",
            "[nltk_data]    |   Unzipping corpora/framenet_v17.zip.\n",
            "[nltk_data]    | Downloading package gazetteers to /root/nltk_data...\n",
            "[nltk_data]    |   Unzipping corpora/gazetteers.zip.\n",
            "[nltk_data]    | Downloading package genesis to /root/nltk_data...\n",
            "[nltk_data]    |   Unzipping corpora/genesis.zip.\n",
            "[nltk_data]    | Downloading package gutenberg to /root/nltk_data...\n",
            "[nltk_data]    |   Unzipping corpora/gutenberg.zip.\n",
            "[nltk_data]    | Downloading package ieer to /root/nltk_data...\n",
            "[nltk_data]    |   Unzipping corpora/ieer.zip.\n",
            "[nltk_data]    | Downloading package inaugural to /root/nltk_data...\n",
            "[nltk_data]    |   Unzipping corpora/inaugural.zip.\n",
            "[nltk_data]    | Downloading package indian to /root/nltk_data...\n",
            "[nltk_data]    |   Unzipping corpora/indian.zip.\n",
            "[nltk_data]    | Downloading package jeita to /root/nltk_data...\n",
            "[nltk_data]    | Downloading package kimmo to /root/nltk_data...\n",
            "[nltk_data]    |   Unzipping corpora/kimmo.zip.\n",
            "[nltk_data]    | Downloading package knbc to /root/nltk_data...\n",
            "[nltk_data]    | Downloading package large_grammars to\n",
            "[nltk_data]    |     /root/nltk_data...\n",
            "[nltk_data]    |   Unzipping grammars/large_grammars.zip.\n",
            "[nltk_data]    | Downloading package lin_thesaurus to\n",
            "[nltk_data]    |     /root/nltk_data...\n",
            "[nltk_data]    |   Unzipping corpora/lin_thesaurus.zip.\n",
            "[nltk_data]    | Downloading package mac_morpho to /root/nltk_data...\n",
            "[nltk_data]    |   Unzipping corpora/mac_morpho.zip.\n",
            "[nltk_data]    | Downloading package machado to /root/nltk_data...\n",
            "[nltk_data]    | Downloading package masc_tagged to /root/nltk_data...\n",
            "[nltk_data]    | Downloading package maxent_ne_chunker to\n",
            "[nltk_data]    |     /root/nltk_data...\n",
            "[nltk_data]    |   Unzipping chunkers/maxent_ne_chunker.zip.\n",
            "[nltk_data]    | Downloading package maxent_treebank_pos_tagger to\n",
            "[nltk_data]    |     /root/nltk_data...\n",
            "[nltk_data]    |   Unzipping taggers/maxent_treebank_pos_tagger.zip.\n",
            "[nltk_data]    | Downloading package moses_sample to\n",
            "[nltk_data]    |     /root/nltk_data...\n",
            "[nltk_data]    |   Unzipping models/moses_sample.zip.\n",
            "[nltk_data]    | Downloading package movie_reviews to\n",
            "[nltk_data]    |     /root/nltk_data...\n",
            "[nltk_data]    |   Unzipping corpora/movie_reviews.zip.\n",
            "[nltk_data]    | Downloading package mte_teip5 to /root/nltk_data...\n",
            "[nltk_data]    |   Unzipping corpora/mte_teip5.zip.\n",
            "[nltk_data]    | Downloading package mwa_ppdb to /root/nltk_data...\n",
            "[nltk_data]    |   Unzipping misc/mwa_ppdb.zip.\n",
            "[nltk_data]    | Downloading package names to /root/nltk_data...\n",
            "[nltk_data]    |   Unzipping corpora/names.zip.\n",
            "[nltk_data]    | Downloading package nombank.1.0 to /root/nltk_data...\n",
            "[nltk_data]    | Downloading package nonbreaking_prefixes to\n",
            "[nltk_data]    |     /root/nltk_data...\n",
            "[nltk_data]    |   Unzipping corpora/nonbreaking_prefixes.zip.\n",
            "[nltk_data]    | Downloading package nps_chat to /root/nltk_data...\n",
            "[nltk_data]    |   Unzipping corpora/nps_chat.zip.\n",
            "[nltk_data]    | Downloading package omw to /root/nltk_data...\n",
            "[nltk_data]    | Downloading package omw-1.4 to /root/nltk_data...\n",
            "[nltk_data]    | Downloading package opinion_lexicon to\n",
            "[nltk_data]    |     /root/nltk_data...\n",
            "[nltk_data]    |   Unzipping corpora/opinion_lexicon.zip.\n",
            "[nltk_data]    | Downloading package panlex_swadesh to\n",
            "[nltk_data]    |     /root/nltk_data...\n",
            "[nltk_data]    | Downloading package paradigms to /root/nltk_data...\n",
            "[nltk_data]    |   Unzipping corpora/paradigms.zip.\n",
            "[nltk_data]    | Downloading package pe08 to /root/nltk_data...\n",
            "[nltk_data]    |   Unzipping corpora/pe08.zip.\n",
            "[nltk_data]    | Downloading package perluniprops to\n",
            "[nltk_data]    |     /root/nltk_data...\n",
            "[nltk_data]    |   Unzipping misc/perluniprops.zip.\n",
            "[nltk_data]    | Downloading package pil to /root/nltk_data...\n",
            "[nltk_data]    |   Unzipping corpora/pil.zip.\n",
            "[nltk_data]    | Downloading package pl196x to /root/nltk_data...\n",
            "[nltk_data]    |   Unzipping corpora/pl196x.zip.\n",
            "[nltk_data]    | Downloading package porter_test to /root/nltk_data...\n",
            "[nltk_data]    |   Unzipping stemmers/porter_test.zip.\n",
            "[nltk_data]    | Downloading package ppattach to /root/nltk_data...\n",
            "[nltk_data]    |   Unzipping corpora/ppattach.zip.\n",
            "[nltk_data]    | Downloading package problem_reports to\n",
            "[nltk_data]    |     /root/nltk_data...\n",
            "[nltk_data]    |   Unzipping corpora/problem_reports.zip.\n",
            "[nltk_data]    | Downloading package product_reviews_1 to\n",
            "[nltk_data]    |     /root/nltk_data...\n",
            "[nltk_data]    |   Unzipping corpora/product_reviews_1.zip.\n",
            "[nltk_data]    | Downloading package product_reviews_2 to\n",
            "[nltk_data]    |     /root/nltk_data...\n",
            "[nltk_data]    |   Unzipping corpora/product_reviews_2.zip.\n",
            "[nltk_data]    | Downloading package propbank to /root/nltk_data...\n",
            "[nltk_data]    | Downloading package pros_cons to /root/nltk_data...\n",
            "[nltk_data]    |   Unzipping corpora/pros_cons.zip.\n",
            "[nltk_data]    | Downloading package ptb to /root/nltk_data...\n",
            "[nltk_data]    |   Unzipping corpora/ptb.zip.\n",
            "[nltk_data]    | Downloading package punkt to /root/nltk_data...\n",
            "[nltk_data]    |   Unzipping tokenizers/punkt.zip.\n",
            "[nltk_data]    | Downloading package qc to /root/nltk_data...\n",
            "[nltk_data]    |   Unzipping corpora/qc.zip.\n",
            "[nltk_data]    | Downloading package reuters to /root/nltk_data...\n",
            "[nltk_data]    | Downloading package rslp to /root/nltk_data...\n",
            "[nltk_data]    |   Unzipping stemmers/rslp.zip.\n",
            "[nltk_data]    | Downloading package rte to /root/nltk_data...\n",
            "[nltk_data]    |   Unzipping corpora/rte.zip.\n",
            "[nltk_data]    | Downloading package sample_grammars to\n",
            "[nltk_data]    |     /root/nltk_data...\n",
            "[nltk_data]    |   Unzipping grammars/sample_grammars.zip.\n",
            "[nltk_data]    | Downloading package semcor to /root/nltk_data...\n",
            "[nltk_data]    | Downloading package senseval to /root/nltk_data...\n",
            "[nltk_data]    |   Unzipping corpora/senseval.zip.\n",
            "[nltk_data]    | Downloading package sentence_polarity to\n",
            "[nltk_data]    |     /root/nltk_data...\n",
            "[nltk_data]    |   Unzipping corpora/sentence_polarity.zip.\n",
            "[nltk_data]    | Downloading package sentiwordnet to\n",
            "[nltk_data]    |     /root/nltk_data...\n",
            "[nltk_data]    |   Unzipping corpora/sentiwordnet.zip.\n",
            "[nltk_data]    | Downloading package shakespeare to /root/nltk_data...\n",
            "[nltk_data]    |   Unzipping corpora/shakespeare.zip.\n",
            "[nltk_data]    | Downloading package sinica_treebank to\n",
            "[nltk_data]    |     /root/nltk_data...\n",
            "[nltk_data]    |   Unzipping corpora/sinica_treebank.zip.\n",
            "[nltk_data]    | Downloading package smultron to /root/nltk_data...\n",
            "[nltk_data]    |   Unzipping corpora/smultron.zip.\n",
            "[nltk_data]    | Downloading package snowball_data to\n",
            "[nltk_data]    |     /root/nltk_data...\n",
            "[nltk_data]    | Downloading package spanish_grammars to\n",
            "[nltk_data]    |     /root/nltk_data...\n",
            "[nltk_data]    |   Unzipping grammars/spanish_grammars.zip.\n",
            "[nltk_data]    | Downloading package state_union to /root/nltk_data...\n",
            "[nltk_data]    |   Unzipping corpora/state_union.zip.\n",
            "[nltk_data]    | Downloading package stopwords to /root/nltk_data...\n",
            "[nltk_data]    |   Unzipping corpora/stopwords.zip.\n",
            "[nltk_data]    | Downloading package subjectivity to\n",
            "[nltk_data]    |     /root/nltk_data...\n",
            "[nltk_data]    |   Unzipping corpora/subjectivity.zip.\n",
            "[nltk_data]    | Downloading package swadesh to /root/nltk_data...\n",
            "[nltk_data]    |   Unzipping corpora/swadesh.zip.\n",
            "[nltk_data]    | Downloading package switchboard to /root/nltk_data...\n",
            "[nltk_data]    |   Unzipping corpora/switchboard.zip.\n",
            "[nltk_data]    | Downloading package tagsets to /root/nltk_data...\n",
            "[nltk_data]    |   Unzipping help/tagsets.zip.\n",
            "[nltk_data]    | Downloading package timit to /root/nltk_data...\n",
            "[nltk_data]    |   Unzipping corpora/timit.zip.\n",
            "[nltk_data]    | Downloading package toolbox to /root/nltk_data...\n",
            "[nltk_data]    |   Unzipping corpora/toolbox.zip.\n",
            "[nltk_data]    | Downloading package treebank to /root/nltk_data...\n",
            "[nltk_data]    |   Unzipping corpora/treebank.zip.\n",
            "[nltk_data]    | Downloading package twitter_samples to\n",
            "[nltk_data]    |     /root/nltk_data...\n",
            "[nltk_data]    |   Unzipping corpora/twitter_samples.zip.\n",
            "[nltk_data]    | Downloading package udhr to /root/nltk_data...\n",
            "[nltk_data]    |   Unzipping corpora/udhr.zip.\n",
            "[nltk_data]    | Downloading package udhr2 to /root/nltk_data...\n",
            "[nltk_data]    |   Unzipping corpora/udhr2.zip.\n",
            "[nltk_data]    | Downloading package unicode_samples to\n",
            "[nltk_data]    |     /root/nltk_data...\n",
            "[nltk_data]    |   Unzipping corpora/unicode_samples.zip.\n",
            "[nltk_data]    | Downloading package universal_tagset to\n",
            "[nltk_data]    |     /root/nltk_data...\n",
            "[nltk_data]    |   Unzipping taggers/universal_tagset.zip.\n",
            "[nltk_data]    | Downloading package universal_treebanks_v20 to\n",
            "[nltk_data]    |     /root/nltk_data...\n",
            "[nltk_data]    | Downloading package vader_lexicon to\n",
            "[nltk_data]    |     /root/nltk_data...\n",
            "[nltk_data]    | Downloading package verbnet to /root/nltk_data...\n",
            "[nltk_data]    |   Unzipping corpora/verbnet.zip.\n",
            "[nltk_data]    | Downloading package verbnet3 to /root/nltk_data...\n",
            "[nltk_data]    |   Unzipping corpora/verbnet3.zip.\n",
            "[nltk_data]    | Downloading package webtext to /root/nltk_data...\n",
            "[nltk_data]    |   Unzipping corpora/webtext.zip.\n",
            "[nltk_data]    | Downloading package wmt15_eval to /root/nltk_data...\n",
            "[nltk_data]    |   Unzipping models/wmt15_eval.zip.\n",
            "[nltk_data]    | Downloading package word2vec_sample to\n",
            "[nltk_data]    |     /root/nltk_data...\n",
            "[nltk_data]    |   Unzipping models/word2vec_sample.zip.\n",
            "[nltk_data]    | Downloading package wordnet to /root/nltk_data...\n",
            "[nltk_data]    | Downloading package wordnet2021 to /root/nltk_data...\n",
            "[nltk_data]    | Downloading package wordnet31 to /root/nltk_data...\n",
            "[nltk_data]    | Downloading package wordnet_ic to /root/nltk_data...\n",
            "[nltk_data]    |   Unzipping corpora/wordnet_ic.zip.\n",
            "[nltk_data]    | Downloading package words to /root/nltk_data...\n",
            "[nltk_data]    |   Unzipping corpora/words.zip.\n",
            "[nltk_data]    | Downloading package ycoe to /root/nltk_data...\n",
            "[nltk_data]    |   Unzipping corpora/ycoe.zip.\n",
            "[nltk_data]    | \n",
            "[nltk_data]  Done downloading collection all\n"
          ]
        },
        {
          "output_type": "execute_result",
          "data": {
            "text/plain": [
              "                                               title  \\\n",
              "0  nordstrom says decision to drop ivanka trumps ...   \n",
              "1  france germany concerned about trumps moves to...   \n",
              "2  israel pm netanyahu to meet with trump on feb ...   \n",
              "3  trump administration switches sides backs ohio...   \n",
              "4  who urges trump to expand obamacare ensure hea...   \n",
              "5  anonymous video of bill clinton raping 13 yr o...   \n",
              "6  obama tells 60 minutes he could win a third te...   \n",
              "7  progun university president calls hillary clin...   \n",
              "8  as clock ticks republicans try to move ahead o...   \n",
              "9  watch black conservative destroys mexican flag...   \n",
              "\n",
              "                                                text  label  \n",
              "0  chicago reuters nordstrom inc said on wednesda...      1  \n",
              "1  paris reuters france germany and luxembourg vo...      1  \n",
              "2  washington reuters israeli prime minister benj...      1  \n",
              "3  reuters the trump administration ha reversed a...      1  \n",
              "4  geneva reuters the world health organization w...      1  \n",
              "5  anonymous is a loosely associated internationa...      0  \n",
              "6  no obama won t run again but he ll use every d...      0  \n",
              "7  liberty university president jerry falwell jr ...      0  \n",
              "8  washington reuters the trump administration an...      1  \n",
              "9  language warning why is it acceptable for peop...      0  "
            ],
            "text/html": [
              "\n",
              "  <div id=\"df-85909020-8548-460e-93b4-6024698a5eba\">\n",
              "    <div class=\"colab-df-container\">\n",
              "      <div>\n",
              "<style scoped>\n",
              "    .dataframe tbody tr th:only-of-type {\n",
              "        vertical-align: middle;\n",
              "    }\n",
              "\n",
              "    .dataframe tbody tr th {\n",
              "        vertical-align: top;\n",
              "    }\n",
              "\n",
              "    .dataframe thead th {\n",
              "        text-align: right;\n",
              "    }\n",
              "</style>\n",
              "<table border=\"1\" class=\"dataframe\">\n",
              "  <thead>\n",
              "    <tr style=\"text-align: right;\">\n",
              "      <th></th>\n",
              "      <th>title</th>\n",
              "      <th>text</th>\n",
              "      <th>label</th>\n",
              "    </tr>\n",
              "  </thead>\n",
              "  <tbody>\n",
              "    <tr>\n",
              "      <th>0</th>\n",
              "      <td>nordstrom says decision to drop ivanka trumps ...</td>\n",
              "      <td>chicago reuters nordstrom inc said on wednesda...</td>\n",
              "      <td>1</td>\n",
              "    </tr>\n",
              "    <tr>\n",
              "      <th>1</th>\n",
              "      <td>france germany concerned about trumps moves to...</td>\n",
              "      <td>paris reuters france germany and luxembourg vo...</td>\n",
              "      <td>1</td>\n",
              "    </tr>\n",
              "    <tr>\n",
              "      <th>2</th>\n",
              "      <td>israel pm netanyahu to meet with trump on feb ...</td>\n",
              "      <td>washington reuters israeli prime minister benj...</td>\n",
              "      <td>1</td>\n",
              "    </tr>\n",
              "    <tr>\n",
              "      <th>3</th>\n",
              "      <td>trump administration switches sides backs ohio...</td>\n",
              "      <td>reuters the trump administration ha reversed a...</td>\n",
              "      <td>1</td>\n",
              "    </tr>\n",
              "    <tr>\n",
              "      <th>4</th>\n",
              "      <td>who urges trump to expand obamacare ensure hea...</td>\n",
              "      <td>geneva reuters the world health organization w...</td>\n",
              "      <td>1</td>\n",
              "    </tr>\n",
              "    <tr>\n",
              "      <th>5</th>\n",
              "      <td>anonymous video of bill clinton raping 13 yr o...</td>\n",
              "      <td>anonymous is a loosely associated internationa...</td>\n",
              "      <td>0</td>\n",
              "    </tr>\n",
              "    <tr>\n",
              "      <th>6</th>\n",
              "      <td>obama tells 60 minutes he could win a third te...</td>\n",
              "      <td>no obama won t run again but he ll use every d...</td>\n",
              "      <td>0</td>\n",
              "    </tr>\n",
              "    <tr>\n",
              "      <th>7</th>\n",
              "      <td>progun university president calls hillary clin...</td>\n",
              "      <td>liberty university president jerry falwell jr ...</td>\n",
              "      <td>0</td>\n",
              "    </tr>\n",
              "    <tr>\n",
              "      <th>8</th>\n",
              "      <td>as clock ticks republicans try to move ahead o...</td>\n",
              "      <td>washington reuters the trump administration an...</td>\n",
              "      <td>1</td>\n",
              "    </tr>\n",
              "    <tr>\n",
              "      <th>9</th>\n",
              "      <td>watch black conservative destroys mexican flag...</td>\n",
              "      <td>language warning why is it acceptable for peop...</td>\n",
              "      <td>0</td>\n",
              "    </tr>\n",
              "  </tbody>\n",
              "</table>\n",
              "</div>\n",
              "      <button class=\"colab-df-convert\" onclick=\"convertToInteractive('df-85909020-8548-460e-93b4-6024698a5eba')\"\n",
              "              title=\"Convert this dataframe to an interactive table.\"\n",
              "              style=\"display:none;\">\n",
              "        \n",
              "  <svg xmlns=\"http://www.w3.org/2000/svg\" height=\"24px\"viewBox=\"0 0 24 24\"\n",
              "       width=\"24px\">\n",
              "    <path d=\"M0 0h24v24H0V0z\" fill=\"none\"/>\n",
              "    <path d=\"M18.56 5.44l.94 2.06.94-2.06 2.06-.94-2.06-.94-.94-2.06-.94 2.06-2.06.94zm-11 1L8.5 8.5l.94-2.06 2.06-.94-2.06-.94L8.5 2.5l-.94 2.06-2.06.94zm10 10l.94 2.06.94-2.06 2.06-.94-2.06-.94-.94-2.06-.94 2.06-2.06.94z\"/><path d=\"M17.41 7.96l-1.37-1.37c-.4-.4-.92-.59-1.43-.59-.52 0-1.04.2-1.43.59L10.3 9.45l-7.72 7.72c-.78.78-.78 2.05 0 2.83L4 21.41c.39.39.9.59 1.41.59.51 0 1.02-.2 1.41-.59l7.78-7.78 2.81-2.81c.8-.78.8-2.07 0-2.86zM5.41 20L4 18.59l7.72-7.72 1.47 1.35L5.41 20z\"/>\n",
              "  </svg>\n",
              "      </button>\n",
              "      \n",
              "  <style>\n",
              "    .colab-df-container {\n",
              "      display:flex;\n",
              "      flex-wrap:wrap;\n",
              "      gap: 12px;\n",
              "    }\n",
              "\n",
              "    .colab-df-convert {\n",
              "      background-color: #E8F0FE;\n",
              "      border: none;\n",
              "      border-radius: 50%;\n",
              "      cursor: pointer;\n",
              "      display: none;\n",
              "      fill: #1967D2;\n",
              "      height: 32px;\n",
              "      padding: 0 0 0 0;\n",
              "      width: 32px;\n",
              "    }\n",
              "\n",
              "    .colab-df-convert:hover {\n",
              "      background-color: #E2EBFA;\n",
              "      box-shadow: 0px 1px 2px rgba(60, 64, 67, 0.3), 0px 1px 3px 1px rgba(60, 64, 67, 0.15);\n",
              "      fill: #174EA6;\n",
              "    }\n",
              "\n",
              "    [theme=dark] .colab-df-convert {\n",
              "      background-color: #3B4455;\n",
              "      fill: #D2E3FC;\n",
              "    }\n",
              "\n",
              "    [theme=dark] .colab-df-convert:hover {\n",
              "      background-color: #434B5C;\n",
              "      box-shadow: 0px 1px 3px 1px rgba(0, 0, 0, 0.15);\n",
              "      filter: drop-shadow(0px 1px 2px rgba(0, 0, 0, 0.3));\n",
              "      fill: #FFFFFF;\n",
              "    }\n",
              "  </style>\n",
              "\n",
              "      <script>\n",
              "        const buttonEl =\n",
              "          document.querySelector('#df-85909020-8548-460e-93b4-6024698a5eba button.colab-df-convert');\n",
              "        buttonEl.style.display =\n",
              "          google.colab.kernel.accessAllowed ? 'block' : 'none';\n",
              "\n",
              "        async function convertToInteractive(key) {\n",
              "          const element = document.querySelector('#df-85909020-8548-460e-93b4-6024698a5eba');\n",
              "          const dataTable =\n",
              "            await google.colab.kernel.invokeFunction('convertToInteractive',\n",
              "                                                     [key], {});\n",
              "          if (!dataTable) return;\n",
              "\n",
              "          const docLinkHtml = 'Like what you see? Visit the ' +\n",
              "            '<a target=\"_blank\" href=https://colab.research.google.com/notebooks/data_table.ipynb>data table notebook</a>'\n",
              "            + ' to learn more about interactive tables.';\n",
              "          element.innerHTML = '';\n",
              "          dataTable['output_type'] = 'display_data';\n",
              "          await google.colab.output.renderOutput(dataTable, element);\n",
              "          const docLink = document.createElement('div');\n",
              "          docLink.innerHTML = docLinkHtml;\n",
              "          element.appendChild(docLink);\n",
              "        }\n",
              "      </script>\n",
              "    </div>\n",
              "  </div>\n",
              "  "
            ]
          },
          "metadata": {},
          "execution_count": 53
        }
      ],
      "source": [
        "import nltk\n",
        "from nltk.stem import WordNetLemmatizer\n",
        "nltk.download('all')\n",
        "#establish the lemmatizer\n",
        "wordnet_lemmatizer = WordNetLemmatizer()\n",
        "news_df['text'] = news_df.text.apply(lambda x: \" \".join(wordnet_lemmatizer.lemmatize(w) for w in x.split()))\n",
        "news_df.head(10)\n"
      ]
    },
    {
      "cell_type": "code",
      "execution_count": null,
      "metadata": {
        "id": "qHSTcQqjqZMx"
      },
      "outputs": [],
      "source": [
        "# genrate the token list:\n",
        "token = ' '.join(news_df.text).split()"
      ]
    },
    {
      "cell_type": "code",
      "execution_count": null,
      "metadata": {
        "colab": {
          "base_uri": "https://localhost:8080/"
        },
        "id": "EA9VczGhq5vE",
        "outputId": "a718dcb9-dd96-4fcb-d7e7-7e715f1319e5"
      },
      "outputs": [
        {
          "output_type": "execute_result",
          "data": {
            "text/plain": [
              "[(('of', 'the'), 46299),\n",
              " (('in', 'the'), 36664),\n",
              " (('to', 'the'), 23310),\n",
              " (('on', 'the'), 16480),\n",
              " (('for', 'the'), 15260),\n",
              " (('in', 'a'), 14134),\n",
              " (('the', 'u'), 12719),\n",
              " (('and', 'the'), 11394),\n",
              " (('at', 'the'), 11007),\n",
              " (('that', 'the'), 10838),\n",
              " (('to', 'be'), 10712),\n",
              " (('the', 'united'), 10666),\n",
              " (('with', 'the'), 10615),\n",
              " (('white', 'house'), 9933),\n",
              " (('by', 'the'), 9845),\n",
              " (('united', 'state'), 9590),\n",
              " (('donald', 'trump'), 9019),\n",
              " (('from', 'the'), 8542),\n",
              " (('of', 'a'), 8053),\n",
              " (('a', 'a'), 7541)]"
            ]
          },
          "metadata": {},
          "execution_count": 55
        }
      ],
      "source": [
        "# creating the bigrams\n",
        "ngrams_2 = nltk.bigrams(token)\n",
        "\n",
        "# freq distribution for these\n",
        "freq_2grams = pd.Series(ngrams_2).value_counts().to_dict()\n",
        "list(freq_2grams.items())[:20]"
      ]
    },
    {
      "cell_type": "code",
      "execution_count": null,
      "metadata": {
        "colab": {
          "base_uri": "https://localhost:8080/"
        },
        "id": "qKnNUrXXsfon",
        "outputId": "138cdbd0-23eb-46b8-e3a7-df5d962bf669"
      },
      "outputs": [
        {
          "output_type": "execute_result",
          "data": {
            "text/plain": [
              "[(('the', 'united', 'state'), 9196),\n",
              " (('the', 'white', 'house'), 6235),\n",
              " (('said', 'in', 'a'), 3598),\n",
              " (('president', 'donald', 'trump'), 3489),\n",
              " (('in', 'a', 'statement'), 2940),\n",
              " (('one', 'of', 'the'), 2759),\n",
              " (('secretary', 'of', 'state'), 2607),\n",
              " (('president', 'barack', 'obama'), 2268),\n",
              " (('house', 'of', 'representative'), 2236),\n",
              " (('according', 'to', 'the'), 1902),\n",
              " (('in', 'the', 'united'), 1842),\n",
              " (('a', 'well', 'a'), 1833),\n",
              " (('member', 'of', 'the'), 1671),\n",
              " (('in', 'the', 'u'), 1604),\n",
              " (('u', 'president', 'donald'), 1590),\n",
              " (('the', 'obama', 'administration'), 1584),\n",
              " (('the', 'new', 'york'), 1555),\n",
              " (('washington', 'reuters', 'u'), 1511),\n",
              " (('the', 'trump', 'administration'), 1450),\n",
              " (('president', 'donald', 'trump’s'), 1427)]"
            ]
          },
          "metadata": {},
          "execution_count": 56
        }
      ],
      "source": [
        "# creating the trigrams\n",
        "ngrams_3 = nltk.trigrams(token)\n",
        "\n",
        "# freq distribution for these\n",
        "freq_3grams = pd.Series(ngrams_3).value_counts().to_dict()\n",
        "list(freq_3grams.items())[:20]"
      ]
    },
    {
      "cell_type": "code",
      "execution_count": null,
      "metadata": {
        "id": "Q_8QxaYNslj0"
      },
      "outputs": [],
      "source": [
        "from sklearn.model_selection import train_test_split\n",
        "X_train, x_test, Y_train, y_test = train_test_split(news_df[['title','text']], \n",
        "                                                    news_df['label'],  \n",
        "                                                    test_size = 0.2)"
      ]
    },
    {
      "cell_type": "code",
      "execution_count": null,
      "metadata": {
        "colab": {
          "base_uri": "https://localhost:8080/",
          "height": 206
        },
        "id": "m_UweOplsv-L",
        "outputId": "6f67ce64-9c14-4add-99ec-dc3debadbbf0"
      },
      "outputs": [
        {
          "output_type": "execute_result",
          "data": {
            "text/plain": [
              "                                                   title  \\\n",
              "14499  trump backs waterboarding and a lot more after...   \n",
              "11880                            petty faa rebukes trump   \n",
              "6254   trump budget chief under fire over attack on c...   \n",
              "20186  cyber as big a threat as iran north korean icb...   \n",
              "2721   us plans to admit maximum 45000 refugees in ne...   \n",
              "\n",
              "                                                    text  \n",
              "14499  washington reuters republican presidential fro...  \n",
              "11880  the faa is getting petty and vindictive the ag...  \n",
              "6254   washington reuters the white house’s budget ch...  \n",
              "20186  washington reuters constant cyber attack on th...  \n",
              "2721   washington reuters the trump administration pl...  "
            ],
            "text/html": [
              "\n",
              "  <div id=\"df-6899d73c-2342-4136-aafc-e5513d8d262a\">\n",
              "    <div class=\"colab-df-container\">\n",
              "      <div>\n",
              "<style scoped>\n",
              "    .dataframe tbody tr th:only-of-type {\n",
              "        vertical-align: middle;\n",
              "    }\n",
              "\n",
              "    .dataframe tbody tr th {\n",
              "        vertical-align: top;\n",
              "    }\n",
              "\n",
              "    .dataframe thead th {\n",
              "        text-align: right;\n",
              "    }\n",
              "</style>\n",
              "<table border=\"1\" class=\"dataframe\">\n",
              "  <thead>\n",
              "    <tr style=\"text-align: right;\">\n",
              "      <th></th>\n",
              "      <th>title</th>\n",
              "      <th>text</th>\n",
              "    </tr>\n",
              "  </thead>\n",
              "  <tbody>\n",
              "    <tr>\n",
              "      <th>14499</th>\n",
              "      <td>trump backs waterboarding and a lot more after...</td>\n",
              "      <td>washington reuters republican presidential fro...</td>\n",
              "    </tr>\n",
              "    <tr>\n",
              "      <th>11880</th>\n",
              "      <td>petty faa rebukes trump</td>\n",
              "      <td>the faa is getting petty and vindictive the ag...</td>\n",
              "    </tr>\n",
              "    <tr>\n",
              "      <th>6254</th>\n",
              "      <td>trump budget chief under fire over attack on c...</td>\n",
              "      <td>washington reuters the white house’s budget ch...</td>\n",
              "    </tr>\n",
              "    <tr>\n",
              "      <th>20186</th>\n",
              "      <td>cyber as big a threat as iran north korean icb...</td>\n",
              "      <td>washington reuters constant cyber attack on th...</td>\n",
              "    </tr>\n",
              "    <tr>\n",
              "      <th>2721</th>\n",
              "      <td>us plans to admit maximum 45000 refugees in ne...</td>\n",
              "      <td>washington reuters the trump administration pl...</td>\n",
              "    </tr>\n",
              "  </tbody>\n",
              "</table>\n",
              "</div>\n",
              "      <button class=\"colab-df-convert\" onclick=\"convertToInteractive('df-6899d73c-2342-4136-aafc-e5513d8d262a')\"\n",
              "              title=\"Convert this dataframe to an interactive table.\"\n",
              "              style=\"display:none;\">\n",
              "        \n",
              "  <svg xmlns=\"http://www.w3.org/2000/svg\" height=\"24px\"viewBox=\"0 0 24 24\"\n",
              "       width=\"24px\">\n",
              "    <path d=\"M0 0h24v24H0V0z\" fill=\"none\"/>\n",
              "    <path d=\"M18.56 5.44l.94 2.06.94-2.06 2.06-.94-2.06-.94-.94-2.06-.94 2.06-2.06.94zm-11 1L8.5 8.5l.94-2.06 2.06-.94-2.06-.94L8.5 2.5l-.94 2.06-2.06.94zm10 10l.94 2.06.94-2.06 2.06-.94-2.06-.94-.94-2.06-.94 2.06-2.06.94z\"/><path d=\"M17.41 7.96l-1.37-1.37c-.4-.4-.92-.59-1.43-.59-.52 0-1.04.2-1.43.59L10.3 9.45l-7.72 7.72c-.78.78-.78 2.05 0 2.83L4 21.41c.39.39.9.59 1.41.59.51 0 1.02-.2 1.41-.59l7.78-7.78 2.81-2.81c.8-.78.8-2.07 0-2.86zM5.41 20L4 18.59l7.72-7.72 1.47 1.35L5.41 20z\"/>\n",
              "  </svg>\n",
              "      </button>\n",
              "      \n",
              "  <style>\n",
              "    .colab-df-container {\n",
              "      display:flex;\n",
              "      flex-wrap:wrap;\n",
              "      gap: 12px;\n",
              "    }\n",
              "\n",
              "    .colab-df-convert {\n",
              "      background-color: #E8F0FE;\n",
              "      border: none;\n",
              "      border-radius: 50%;\n",
              "      cursor: pointer;\n",
              "      display: none;\n",
              "      fill: #1967D2;\n",
              "      height: 32px;\n",
              "      padding: 0 0 0 0;\n",
              "      width: 32px;\n",
              "    }\n",
              "\n",
              "    .colab-df-convert:hover {\n",
              "      background-color: #E2EBFA;\n",
              "      box-shadow: 0px 1px 2px rgba(60, 64, 67, 0.3), 0px 1px 3px 1px rgba(60, 64, 67, 0.15);\n",
              "      fill: #174EA6;\n",
              "    }\n",
              "\n",
              "    [theme=dark] .colab-df-convert {\n",
              "      background-color: #3B4455;\n",
              "      fill: #D2E3FC;\n",
              "    }\n",
              "\n",
              "    [theme=dark] .colab-df-convert:hover {\n",
              "      background-color: #434B5C;\n",
              "      box-shadow: 0px 1px 3px 1px rgba(0, 0, 0, 0.15);\n",
              "      filter: drop-shadow(0px 1px 2px rgba(0, 0, 0, 0.3));\n",
              "      fill: #FFFFFF;\n",
              "    }\n",
              "  </style>\n",
              "\n",
              "      <script>\n",
              "        const buttonEl =\n",
              "          document.querySelector('#df-6899d73c-2342-4136-aafc-e5513d8d262a button.colab-df-convert');\n",
              "        buttonEl.style.display =\n",
              "          google.colab.kernel.accessAllowed ? 'block' : 'none';\n",
              "\n",
              "        async function convertToInteractive(key) {\n",
              "          const element = document.querySelector('#df-6899d73c-2342-4136-aafc-e5513d8d262a');\n",
              "          const dataTable =\n",
              "            await google.colab.kernel.invokeFunction('convertToInteractive',\n",
              "                                                     [key], {});\n",
              "          if (!dataTable) return;\n",
              "\n",
              "          const docLinkHtml = 'Like what you see? Visit the ' +\n",
              "            '<a target=\"_blank\" href=https://colab.research.google.com/notebooks/data_table.ipynb>data table notebook</a>'\n",
              "            + ' to learn more about interactive tables.';\n",
              "          element.innerHTML = '';\n",
              "          dataTable['output_type'] = 'display_data';\n",
              "          await google.colab.output.renderOutput(dataTable, element);\n",
              "          const docLink = document.createElement('div');\n",
              "          docLink.innerHTML = docLinkHtml;\n",
              "          element.appendChild(docLink);\n",
              "        }\n",
              "      </script>\n",
              "    </div>\n",
              "  </div>\n",
              "  "
            ]
          },
          "metadata": {},
          "execution_count": 58
        }
      ],
      "source": [
        "X_train.head()"
      ]
    },
    {
      "cell_type": "code",
      "execution_count": null,
      "metadata": {
        "colab": {
          "base_uri": "https://localhost:8080/",
          "height": 206
        },
        "id": "mz6NXlUZsyv4",
        "outputId": "db0afd44-5059-4b3c-bb22-3ae1eb2609bd"
      },
      "outputs": [
        {
          "output_type": "execute_result",
          "data": {
            "text/plain": [
              "                                                   title  \\\n",
              "16801  sanders steps up feud with democratic establis...   \n",
              "2512   trump tells republican lawmakers enough talk t...   \n",
              "20278  mizzou crybabies complain paris terror tragedy...   \n",
              "15389  lol democrats express concerns over possible c...   \n",
              "13079  russia probe should focus on trump financial t...   \n",
              "\n",
              "                                                    text  \n",
              "16801  washington reuters democratic presidential can...  \n",
              "2512   philadelphia reuters president donald trump pu...  \n",
              "20278  never mind that almost every single aspect of ...  \n",
              "15389  a progressive group charged saturday that the ...  \n",
              "13079  washington reuters a u senate investigation in...  "
            ],
            "text/html": [
              "\n",
              "  <div id=\"df-ba15d107-93c1-4e45-b09f-05f752450bda\">\n",
              "    <div class=\"colab-df-container\">\n",
              "      <div>\n",
              "<style scoped>\n",
              "    .dataframe tbody tr th:only-of-type {\n",
              "        vertical-align: middle;\n",
              "    }\n",
              "\n",
              "    .dataframe tbody tr th {\n",
              "        vertical-align: top;\n",
              "    }\n",
              "\n",
              "    .dataframe thead th {\n",
              "        text-align: right;\n",
              "    }\n",
              "</style>\n",
              "<table border=\"1\" class=\"dataframe\">\n",
              "  <thead>\n",
              "    <tr style=\"text-align: right;\">\n",
              "      <th></th>\n",
              "      <th>title</th>\n",
              "      <th>text</th>\n",
              "    </tr>\n",
              "  </thead>\n",
              "  <tbody>\n",
              "    <tr>\n",
              "      <th>16801</th>\n",
              "      <td>sanders steps up feud with democratic establis...</td>\n",
              "      <td>washington reuters democratic presidential can...</td>\n",
              "    </tr>\n",
              "    <tr>\n",
              "      <th>2512</th>\n",
              "      <td>trump tells republican lawmakers enough talk t...</td>\n",
              "      <td>philadelphia reuters president donald trump pu...</td>\n",
              "    </tr>\n",
              "    <tr>\n",
              "      <th>20278</th>\n",
              "      <td>mizzou crybabies complain paris terror tragedy...</td>\n",
              "      <td>never mind that almost every single aspect of ...</td>\n",
              "    </tr>\n",
              "    <tr>\n",
              "      <th>15389</th>\n",
              "      <td>lol democrats express concerns over possible c...</td>\n",
              "      <td>a progressive group charged saturday that the ...</td>\n",
              "    </tr>\n",
              "    <tr>\n",
              "      <th>13079</th>\n",
              "      <td>russia probe should focus on trump financial t...</td>\n",
              "      <td>washington reuters a u senate investigation in...</td>\n",
              "    </tr>\n",
              "  </tbody>\n",
              "</table>\n",
              "</div>\n",
              "      <button class=\"colab-df-convert\" onclick=\"convertToInteractive('df-ba15d107-93c1-4e45-b09f-05f752450bda')\"\n",
              "              title=\"Convert this dataframe to an interactive table.\"\n",
              "              style=\"display:none;\">\n",
              "        \n",
              "  <svg xmlns=\"http://www.w3.org/2000/svg\" height=\"24px\"viewBox=\"0 0 24 24\"\n",
              "       width=\"24px\">\n",
              "    <path d=\"M0 0h24v24H0V0z\" fill=\"none\"/>\n",
              "    <path d=\"M18.56 5.44l.94 2.06.94-2.06 2.06-.94-2.06-.94-.94-2.06-.94 2.06-2.06.94zm-11 1L8.5 8.5l.94-2.06 2.06-.94-2.06-.94L8.5 2.5l-.94 2.06-2.06.94zm10 10l.94 2.06.94-2.06 2.06-.94-2.06-.94-.94-2.06-.94 2.06-2.06.94z\"/><path d=\"M17.41 7.96l-1.37-1.37c-.4-.4-.92-.59-1.43-.59-.52 0-1.04.2-1.43.59L10.3 9.45l-7.72 7.72c-.78.78-.78 2.05 0 2.83L4 21.41c.39.39.9.59 1.41.59.51 0 1.02-.2 1.41-.59l7.78-7.78 2.81-2.81c.8-.78.8-2.07 0-2.86zM5.41 20L4 18.59l7.72-7.72 1.47 1.35L5.41 20z\"/>\n",
              "  </svg>\n",
              "      </button>\n",
              "      \n",
              "  <style>\n",
              "    .colab-df-container {\n",
              "      display:flex;\n",
              "      flex-wrap:wrap;\n",
              "      gap: 12px;\n",
              "    }\n",
              "\n",
              "    .colab-df-convert {\n",
              "      background-color: #E8F0FE;\n",
              "      border: none;\n",
              "      border-radius: 50%;\n",
              "      cursor: pointer;\n",
              "      display: none;\n",
              "      fill: #1967D2;\n",
              "      height: 32px;\n",
              "      padding: 0 0 0 0;\n",
              "      width: 32px;\n",
              "    }\n",
              "\n",
              "    .colab-df-convert:hover {\n",
              "      background-color: #E2EBFA;\n",
              "      box-shadow: 0px 1px 2px rgba(60, 64, 67, 0.3), 0px 1px 3px 1px rgba(60, 64, 67, 0.15);\n",
              "      fill: #174EA6;\n",
              "    }\n",
              "\n",
              "    [theme=dark] .colab-df-convert {\n",
              "      background-color: #3B4455;\n",
              "      fill: #D2E3FC;\n",
              "    }\n",
              "\n",
              "    [theme=dark] .colab-df-convert:hover {\n",
              "      background-color: #434B5C;\n",
              "      box-shadow: 0px 1px 3px 1px rgba(0, 0, 0, 0.15);\n",
              "      filter: drop-shadow(0px 1px 2px rgba(0, 0, 0, 0.3));\n",
              "      fill: #FFFFFF;\n",
              "    }\n",
              "  </style>\n",
              "\n",
              "      <script>\n",
              "        const buttonEl =\n",
              "          document.querySelector('#df-ba15d107-93c1-4e45-b09f-05f752450bda button.colab-df-convert');\n",
              "        buttonEl.style.display =\n",
              "          google.colab.kernel.accessAllowed ? 'block' : 'none';\n",
              "\n",
              "        async function convertToInteractive(key) {\n",
              "          const element = document.querySelector('#df-ba15d107-93c1-4e45-b09f-05f752450bda');\n",
              "          const dataTable =\n",
              "            await google.colab.kernel.invokeFunction('convertToInteractive',\n",
              "                                                     [key], {});\n",
              "          if (!dataTable) return;\n",
              "\n",
              "          const docLinkHtml = 'Like what you see? Visit the ' +\n",
              "            '<a target=\"_blank\" href=https://colab.research.google.com/notebooks/data_table.ipynb>data table notebook</a>'\n",
              "            + ' to learn more about interactive tables.';\n",
              "          element.innerHTML = '';\n",
              "          dataTable['output_type'] = 'display_data';\n",
              "          await google.colab.output.renderOutput(dataTable, element);\n",
              "          const docLink = document.createElement('div');\n",
              "          docLink.innerHTML = docLinkHtml;\n",
              "          element.appendChild(docLink);\n",
              "        }\n",
              "      </script>\n",
              "    </div>\n",
              "  </div>\n",
              "  "
            ]
          },
          "metadata": {},
          "execution_count": 59
        }
      ],
      "source": [
        "X_train.tail()"
      ]
    },
    {
      "cell_type": "code",
      "execution_count": null,
      "metadata": {
        "id": "Oe_nkKtAs0uJ"
      },
      "outputs": [],
      "source": [
        "#Since title is also important so combining it with the text\n",
        "\n",
        "train_data= np.asarray(list(X_train['title']+\" \"+X_train['text']))\n",
        "test_data = np.asarray(list(x_test['title']+\" \"+x_test['text']))"
      ]
    },
    {
      "cell_type": "code",
      "execution_count": null,
      "metadata": {
        "colab": {
          "base_uri": "https://localhost:8080/",
          "height": 192
        },
        "id": "IZ0KGtuPs3kr",
        "outputId": "64985c4e-5e76-4570-d7f6-4e1445cfb708"
      },
      "outputs": [
        {
          "output_type": "execute_result",
          "data": {
            "text/plain": [
              "'trump backs waterboarding and a lot more after brussels attacks washington reuters republican presidential frontrunner donald trump said on tuesday the united state should use waterboarding and other harsh interrogation technique when questioning terror suspect and renewed his call for tougher u border security after the attack in brussels the billionaire businessman said authority “should be able to do whatever they have to do” to gain information in an effort to thwart future attack “waterboarding would be fine if they can expand the law i would do a lot more than waterboarding” trump said on nbc’s “today” program adding he believed torture could produce useful lead “you have to get the information from these people” waterboarding the practice of pouring water over someone’s face to simulate drowning a an interrogation tactic wa banned by president barack obama day after he took office in 2009 critic call it torture trump’s main republican rival u senator ted cruz of texas suggested heightened police scrutiny of neighborhood with large muslim population “we need to empower law enforcement to patrol and secure muslim neighborhood before they become radicalized” he said in a statement trump also called for increased law enforcement surveillance of mosque in the united state “you need surveillance you have to deal with the mosque whether we like it or not” trump told fox business network “these attack they’re not done by swedish people that i can tell you” islamic state claimed responsibility for tuesday’s suicide bomb attack on brussels airport and a rushhour metro train in the belgian capital which killed at least 30 people trump who ha called for a temporary ban on muslim entering the country urged tougher measure to stop the flow of illegal immigrant particularly syrian refugee into america “as president i would be very very tough on the border and i would be not allowing certain people to come into this country without absolute perfect documentation” said trump campaigning to become the republican nominee for the nov 8 election that will decide on obama’s successor the brussels attack brought national security back to the top of the presidential election agenda possibly sharpening the division between trump’s isolationist approach to foreign policy and his republican rivals’ more traditional interventionist outlook on monday trump expressed skepticism about the u role in the north atlantic treaty organization and said the united state should significantly cut spending on the defense alliance cruz criticized trump’s nato proposal “the way to respond to terrorist attack is not weakness it’s not unilateral and preemptive surrender abandoning europe withdrawing from nato a trump suggests is preemptive surrender” cruz told reporter in washington earlier attack in paris and san bernardino california have pushed security issue to the forefront of the white house campaign debate when 130 people were killed in paris in november the threat of terrorism jumped from fifth to first on a reutersipsos poll list of the country’s most important problem and remained there until the economy moved back to the top of the list in midjanuary democratic presidential frontrunner hillary clinton said u military leader have found technique like waterboarding are not effective “we’ve got to work this through consistent with our values” she said on nbc adding official “do not need to resort to torture but they are going to need more help” clinton’s democratic rival u senator bernie sander of vermont backed stronger intelligencesharing and monitoring of social medium in the fight against islamist militant but opposed bolstered surveillance of muslim community “that would be unconstitutional and it would be wrong we are fighting a terrorist organization a barbaric organization that is killing innocent people we are not fighting a religion” sander told reporter walid phares named by trump this week a one of his foreign policy expert told reuters the brussels attack would force europe and the united state to “reassess” counterterrorism strategy in “identifying the radicalized element and also the type of protection soft target need” trump look to take another step toward winning the republican presidential nomination in contest in arizona and utah on tuesday aiming to deal another setback to the party establishment’s flagging stoptrump movement he ha a big lead in convention delegate who will pick the republican nominee defying week of attack from member of the party establishment worried he will lead the republican to defeat in november in arizona one of the u state that border mexico trump’s hardline immigration message is popular and he lead in poll while in utah trump lag in poll behind cruz in addition to the temporary ban on muslim entering the country trump ha called for the building of a wall on the usmexican border to halt illegal immigration'"
            ],
            "application/vnd.google.colaboratory.intrinsic+json": {
              "type": "string"
            }
          },
          "metadata": {},
          "execution_count": 63
        }
      ],
      "source": [
        "train_data[0]"
      ]
    },
    {
      "cell_type": "code",
      "execution_count": null,
      "metadata": {
        "id": "REtV6g1ns60E"
      },
      "outputs": [],
      "source": [
        "def decontracted(phrase):\n",
        "    # specific\n",
        "    phrase = re.sub(r\"won't\", \"will not\", phrase)\n",
        "    phrase = re.sub(r\"can\\'t\", \"can not\", phrase)\n",
        "\n",
        "    # general\n",
        "    phrase = re.sub(r\"n\\'t\", \" not\", phrase)\n",
        "    phrase = re.sub(r\"\\'re\", \" are\", phrase)\n",
        "    phrase = re.sub(r\"\\'s\", \" is\", phrase)\n",
        "    phrase = re.sub(r\"\\'d\", \" would\", phrase)\n",
        "    phrase = re.sub(r\"\\'ll\", \" will\", phrase)\n",
        "    phrase = re.sub(r\"\\'t\", \" not\", phrase)\n",
        "    phrase = re.sub(r\"\\'ve\", \" have\", phrase)\n",
        "    phrase = re.sub(r\"\\'m\", \" am\", phrase)\n",
        "    return phrase"
      ]
    },
    {
      "cell_type": "code",
      "execution_count": null,
      "metadata": {
        "id": "tJ-bupYQtC6t"
      },
      "outputs": [],
      "source": [
        "from tqdm import tqdm\n",
        "# tqdm is for printing the status bar\n",
        "# Getting list of stop words fron nltk\n",
        "en_stops = set(stopwords.words('english'))\n",
        "\n",
        "def process(data):\n",
        "    preprocessed_tweets = []\n",
        "\n",
        "    for sentance in tqdm(data):\n",
        "        sentance = re.sub(r\"http\\S+\", \"\", sentance) # removing the html tags\n",
        "        sentance = decontracted(sentance)\n",
        "        sentance = re.sub(\"\\S*\\d\\S*\", \"\", sentance).strip()\n",
        "        sentance = re.sub('[^A-Za-z]+', ' ', sentance)\n",
        "        # https://gist.github.com/sebleier/554280\n",
        "        sentance = ' '.join(e.lower() for e in sentance.split() if e.lower() not in en_stops)\n",
        "        preprocessed_tweets.append(sentance.strip())\n",
        "        \n",
        "    return preprocessed_tweets"
      ]
    },
    {
      "cell_type": "code",
      "execution_count": null,
      "metadata": {
        "colab": {
          "base_uri": "https://localhost:8080/"
        },
        "id": "c9qw7PvQtHMc",
        "outputId": "240b6177-120e-4193-be60-7b19489e232f"
      },
      "outputs": [
        {
          "output_type": "stream",
          "name": "stderr",
          "text": [
            "100%|██████████| 16372/16372 [00:17<00:00, 950.67it/s] \n",
            "100%|██████████| 4093/4093 [00:03<00:00, 1039.44it/s]\n"
          ]
        }
      ],
      "source": [
        "preprocess_train_data=process(train_data)\n",
        "preprocess_test_data=process(test_data)"
      ]
    },
    {
      "cell_type": "code",
      "execution_count": null,
      "metadata": {
        "id": "Z043i0KotKQ2"
      },
      "outputs": [],
      "source": [
        "# Tokenizing the train data sentence\n",
        "\n",
        "cleaned_train_data=[]\n",
        "for sent in preprocess_train_data:\n",
        "    cleaned_train_data.append(sent.split()) "
      ]
    },
    {
      "cell_type": "code",
      "execution_count": null,
      "metadata": {
        "id": "4E22xSrMtSki"
      },
      "outputs": [],
      "source": [
        "# Tokenizing the test data sentence\n",
        "cleaned_test_data =[]   \n",
        "for sent in preprocess_test_data:\n",
        "    cleaned_test_data.append(sent.split())"
      ]
    },
    {
      "cell_type": "code",
      "execution_count": null,
      "metadata": {
        "colab": {
          "base_uri": "https://localhost:8080/"
        },
        "id": "3-XEFB5HtUnF",
        "outputId": "73709db2-6e75-4e39-ea37-ad2636585215"
      },
      "outputs": [
        {
          "output_type": "execute_result",
          "data": {
            "text/plain": [
              "['trump',\n",
              " 'backs',\n",
              " 'waterboarding',\n",
              " 'lot',\n",
              " 'brussels',\n",
              " 'attacks',\n",
              " 'washington',\n",
              " 'reuters',\n",
              " 'republican',\n",
              " 'presidential']"
            ]
          },
          "metadata": {},
          "execution_count": 69
        }
      ],
      "source": [
        "cleaned_train_data[0][:10]"
      ]
    },
    {
      "cell_type": "code",
      "execution_count": null,
      "metadata": {
        "id": "Vc6kSmvstWov"
      },
      "outputs": [],
      "source": [
        "# Creating a word2vec model on the dataset\n",
        "# vector_size -Dimensionality of the word vectors. \n",
        "# min_count – Ignores all words with total frequency lower than this.\n",
        "# sg  – Training algorithm: 1 for skip-gram; otherwise CBOW.\n",
        "# window – Maximum distance between the current and predicted word within a sentence\n",
        "\n",
        "word2vec_model=Word2Vec(cleaned_train_data,size=300,min_count=1,workers=3, window =3, sg = 1)"
      ]
    },
    {
      "cell_type": "code",
      "execution_count": null,
      "metadata": {
        "id": "S0EJulCetY22"
      },
      "outputs": [],
      "source": [
        "#creating function to calculate the average word vectorizer\n",
        "\n",
        "def Word2Vectorizer(data,model,size):\n",
        "    vectors = []\n",
        "    for sent in data:\n",
        "        sent_vec = np.zeros(size)\n",
        "        cnt_words = 0\n",
        "        for word in sent:\n",
        "            try:\n",
        "                vec = model.wv[word]  # getting the vector corresponding to the word\n",
        "                sent_vec += vec       # Adding the vectors of all the words present in sentence\n",
        "                cnt_words += 1        # counting the number of words\n",
        "            except:\n",
        "                pass\n",
        "        if cnt_words!=0:    \n",
        "            sent_vec /= cnt_words\n",
        "        vectors.append(sent_vec)\n",
        "    return np.nan_to_num(vectors)"
      ]
    },
    {
      "cell_type": "code",
      "execution_count": null,
      "metadata": {
        "id": "nuOmYyOVu7R1"
      },
      "outputs": [],
      "source": [
        "train_av_w2v=Word2Vectorizer(cleaned_train_data,word2vec_model,300)\n",
        "test_av_w2v=Word2Vectorizer(cleaned_test_data,word2vec_model,300)"
      ]
    },
    {
      "cell_type": "code",
      "execution_count": null,
      "metadata": {
        "colab": {
          "base_uri": "https://localhost:8080/"
        },
        "id": "P1rygh_ju-2u",
        "outputId": "8941fd64-98f7-469a-b384-4a28f853f485"
      },
      "outputs": [
        {
          "output_type": "execute_result",
          "data": {
            "text/plain": [
              "[('arabia', 0.9290183782577515),\n",
              " ('riyadh', 0.740433931350708),\n",
              " ('arabian', 0.716070294380188),\n",
              " ('qatar', 0.7122907638549805),\n",
              " ('uae', 0.7014089226722717),\n",
              " ('qatari', 0.6852827072143555),\n",
              " ('bahrain', 0.682198703289032),\n",
              " ('egypt', 0.6753093004226685),\n",
              " ('saudia', 0.6715283393859863),\n",
              " ('hijacker', 0.6669340133666992)]"
            ]
          },
          "metadata": {},
          "execution_count": 73
        }
      ],
      "source": [
        "word2vec_model.wv.most_similar(\"saudi\")"
      ]
    },
    {
      "cell_type": "code",
      "execution_count": null,
      "metadata": {
        "colab": {
          "base_uri": "https://localhost:8080/"
        },
        "id": "WWrmln-8vKPm",
        "outputId": "c6a3f778-63ba-4344-d4fb-f2dc15e050ca"
      },
      "outputs": [
        {
          "output_type": "execute_result",
          "data": {
            "text/plain": [
              "array([-1.07001216e-01,  3.76036746e-02, -4.27958486e-02, -9.49790922e-02,\n",
              "        1.74359962e-01, -2.26625473e-02,  1.09674630e-02,  1.71012739e-02,\n",
              "       -1.58202714e-01, -1.18777903e-02,  5.37574343e-03,  2.06482754e-01,\n",
              "       -1.10192552e-01,  6.99874487e-02, -1.04421695e-01, -1.45918879e-01,\n",
              "        1.03621520e-01, -1.90534128e-01, -5.45202437e-02,  1.12897681e-01,\n",
              "        1.00548018e-01,  3.74687011e-02,  1.60332671e-01, -9.17192104e-02,\n",
              "       -5.18500509e-02,  7.65012726e-02, -5.16135413e-02, -2.32471554e-01,\n",
              "        5.93373216e-02,  3.78439259e-01, -6.32768551e-02,  1.61431585e-01,\n",
              "        1.61623869e-01, -9.40662401e-02, -6.24905394e-02,  1.34922754e-01,\n",
              "       -2.61151288e-01,  3.35306348e-02, -3.60163115e-02, -8.21857638e-02,\n",
              "       -1.25006123e-01, -3.56917379e-02, -9.33495533e-02,  1.20570111e-01,\n",
              "       -6.42842833e-02, -3.31047361e-02,  1.11237202e-01, -1.51691282e-01,\n",
              "       -1.47524099e-01,  4.30816731e-02, -6.19494652e-02, -8.21465894e-02,\n",
              "       -4.96317294e-02,  2.24383255e-01, -1.51060713e-01, -2.46376571e-02,\n",
              "       -6.96709290e-02, -1.03653480e-01, -1.81748007e-01,  1.66801455e-01,\n",
              "        1.91957471e-01, -1.01275968e-01, -7.27717546e-02,  1.58885179e-02,\n",
              "        2.11353513e-02,  9.28304369e-02, -2.42212473e-01,  1.94467938e-01,\n",
              "        6.47776360e-02,  9.71965771e-02, -1.76125255e-02,  1.19596465e-01,\n",
              "        1.48071609e-01,  1.12847611e-01,  2.24983798e-01,  1.81084724e-01,\n",
              "       -1.86452111e-01,  1.76299719e-02, -8.54663908e-02, -1.61808470e-01,\n",
              "       -6.15514558e-02, -7.53473565e-02, -5.84478413e-02,  1.17899714e-01,\n",
              "       -7.53591229e-02, -7.44774160e-02, -1.14191858e-01,  8.60480129e-02,\n",
              "       -6.35904979e-02,  1.80507904e-01,  6.26187505e-02, -2.58474602e-01,\n",
              "        3.38028701e-02, -8.03929350e-02, -2.44133622e-01,  3.09504670e-02,\n",
              "       -1.09282652e-02,  2.27240879e-02, -3.78213897e-03, -1.24407351e-01,\n",
              "       -1.59905300e-01, -5.30939021e-02,  1.03439460e-02,  1.00131789e-01,\n",
              "        1.41897936e-01,  1.26972692e-01,  1.41893749e-01,  1.43129416e-01,\n",
              "       -5.21571553e-02,  4.98200218e-03,  7.25456159e-02,  3.78626313e-02,\n",
              "       -1.45563303e-02,  2.66846608e-02,  1.96443764e-01,  1.72708445e-01,\n",
              "        3.65768832e-01,  2.93977571e-02,  3.70092349e-02, -1.17174597e-01,\n",
              "        7.20845588e-03, -1.14913977e-01, -2.78194146e-02,  1.28786368e-01,\n",
              "       -8.31532321e-02,  1.17938312e-01, -9.48570685e-02,  1.03454142e-01,\n",
              "        2.11989391e-01, -5.33181234e-02,  5.83448606e-03, -1.36398325e-01,\n",
              "       -3.85718777e-02, -8.86513360e-02,  4.64551445e-02,  2.06983464e-02,\n",
              "        2.36954335e-02, -1.50570865e-03, -6.00339073e-02,  1.86924342e-01,\n",
              "       -2.91872743e-02, -8.56507622e-03, -4.31484278e-02, -7.72719095e-02,\n",
              "       -4.46551926e-02, -7.89441432e-02, -4.57756525e-02,  2.80412067e-03,\n",
              "       -6.53856888e-02, -2.71145770e-02, -1.60894030e-01, -1.20578043e-01,\n",
              "       -1.07907923e-01, -1.31134776e-01, -1.62853701e-01, -1.90198577e-02,\n",
              "        1.98446746e-01,  6.03429137e-02, -5.09679041e-02, -3.25242922e-01,\n",
              "        1.74118964e-01,  2.01229858e-02, -7.42443312e-02,  6.76913660e-02,\n",
              "        6.40240267e-02,  2.73072608e-02,  3.39726974e-02, -1.59384366e-01,\n",
              "        1.87712219e-01, -5.47046524e-02,  5.93496199e-02,  1.18961901e-01,\n",
              "        4.21512643e-02,  2.31151599e-01, -2.92562301e-02,  3.80460551e-01,\n",
              "        7.59377021e-02,  7.03988906e-02, -7.71634995e-02,  1.48515838e-01,\n",
              "        1.94934119e-01, -2.06081380e-01,  2.93309576e-02,  6.21466269e-02,\n",
              "       -1.99733814e-02,  1.43585368e-01,  6.61566980e-02,  1.82294529e-03,\n",
              "        1.52270849e-01,  2.29390863e-02, -1.12062200e-02, -6.80181655e-02,\n",
              "        8.72078273e-02,  1.97555364e-01,  2.52146661e-02, -5.33699024e-02,\n",
              "        1.42187974e-02,  1.26614814e-02, -1.60063831e-01, -1.34647759e-01,\n",
              "       -9.97054444e-02,  1.79922797e-01, -5.12633552e-02, -6.37971046e-02,\n",
              "        1.45749951e-01,  3.64886588e-02, -9.34195783e-02,  6.90812925e-02,\n",
              "        2.49844275e-02, -2.09691131e-01, -7.09957374e-02,  2.83285192e-02,\n",
              "       -1.66911170e-01,  1.75297716e-01,  2.15616713e-01,  1.29363754e-01,\n",
              "       -1.75181223e-01,  1.03049188e-01, -1.60675415e-01,  9.80253875e-02,\n",
              "        2.70706805e-02, -2.44966730e-01,  2.23475247e-01, -6.23849241e-02,\n",
              "       -2.53716080e-01, -3.45886017e-04, -5.34742143e-02, -2.72631867e-01,\n",
              "       -5.00883038e-02, -3.31421084e-03,  5.18239003e-02, -7.61663150e-02,\n",
              "        5.99275124e-03,  5.10667052e-02, -3.63058376e-02, -1.14741176e-01,\n",
              "        1.25816121e-01,  1.76941074e-01,  1.02470683e-01,  1.86249993e-02,\n",
              "       -4.44465769e-03, -1.13455744e-01, -1.45772873e-01,  5.84496567e-02,\n",
              "       -8.51908378e-03, -1.05709117e-02,  1.52696970e-01, -8.67120571e-02,\n",
              "       -1.81146968e-01, -3.51326093e-02,  4.22833846e-02, -4.97461792e-02,\n",
              "        1.33801815e-01,  1.31496851e-01, -9.51996437e-02, -8.22825407e-02,\n",
              "       -2.29533031e-01, -1.32869701e-01, -1.73639494e-01, -4.30865147e-02,\n",
              "        4.01194176e-02,  2.06694957e-02, -1.92657357e-01,  2.74142836e-01,\n",
              "       -9.06532718e-02, -2.12004540e-01,  2.16823962e-01,  6.49441895e-02,\n",
              "        5.34911555e-02, -3.00082979e-02,  9.11341165e-02,  2.29354001e-01,\n",
              "       -3.32695719e-01,  1.77050862e-02,  4.76506424e-03, -1.05483615e-01,\n",
              "       -1.01003306e-01, -5.64846714e-02, -1.16276562e-01,  1.43914534e-01,\n",
              "       -7.22370375e-02, -6.62974429e-03,  2.22579549e-02, -6.57325513e-02,\n",
              "       -9.86769471e-02, -2.01738628e-01, -1.11405268e-01,  4.79727085e-02,\n",
              "       -2.22820211e-01,  4.03192885e-02,  4.88766265e-02,  3.83266459e-02,\n",
              "        2.02992806e-02, -5.88241512e-02, -1.20549655e-01, -1.69560352e-02,\n",
              "        9.00272480e-02,  6.77278865e-02, -6.07287093e-02, -1.60340661e-01])"
            ]
          },
          "metadata": {},
          "execution_count": 74
        }
      ],
      "source": [
        "train_av_w2v[1]"
      ]
    },
    {
      "cell_type": "code",
      "execution_count": null,
      "metadata": {
        "id": "ZwivFfJFvPBC"
      },
      "outputs": [],
      "source": [
        "# combining the processed text data with dependent variable\n",
        "processed_data=pd.DataFrame(train_av_w2v)\n",
        "processed_data['label']=news_df['label']"
      ]
    },
    {
      "cell_type": "code",
      "execution_count": null,
      "metadata": {
        "id": "g5imA_KQvS-M"
      },
      "outputs": [],
      "source": [
        "# Saving the processed train data\n",
        "\n",
        "processed_data.to_csv('final_train.csv',index=False)"
      ]
    },
    {
      "cell_type": "code",
      "execution_count": null,
      "metadata": {
        "id": "FsS0Lh6BvV6e"
      },
      "outputs": [],
      "source": [
        "X_train=train_av_w2v\n",
        "x_test=test_av_w2v"
      ]
    },
    {
      "cell_type": "code",
      "execution_count": null,
      "metadata": {
        "id": "YX9aupI0vZ66"
      },
      "outputs": [],
      "source": [
        "def trainconfusionmatrix(model,X_train,y_train):\n",
        "    print(\"Confusion Matrix for Train set\")\n",
        "    cm=confusion_matrix(y_train, model.predict(X_train))\n",
        "    class_label = [\"negative\", \"positive\"]\n",
        "    df_cm = pd.DataFrame(cm, index = class_label, columns = class_label)\n",
        "    sns.heatmap(df_cm, annot = True, fmt = \"d\")\n",
        "    plt.title(\"Train Confusiion Matrix\")\n",
        "    plt.xlabel(\"Predicted Label\")\n",
        "    plt.ylabel(\"True Label\")\n",
        "    plt.show()"
      ]
    },
    {
      "cell_type": "code",
      "execution_count": null,
      "metadata": {
        "id": "c_rKzUzOvdAp"
      },
      "outputs": [],
      "source": [
        "def testconfusionmatrix(model,X_test,y_test):\n",
        "    print(\"Confusion Matrix for Test set\")\n",
        "    cm=confusion_matrix(y_test, model.predict(X_test))\n",
        "    class_label = [\"negative\", \"positive\"]\n",
        "    df_cm = pd.DataFrame(cm, index = class_label, columns = class_label)\n",
        "    sns.heatmap(df_cm, annot = True, fmt = \"d\")\n",
        "    plt.title(\"Test Confusiion Matrix\")\n",
        "    plt.xlabel(\"Predicted Label\")\n",
        "    plt.ylabel(\"True Label\")\n",
        "    plt.show()"
      ]
    },
    {
      "cell_type": "code",
      "execution_count": null,
      "metadata": {
        "id": "o55lI7MovfaW"
      },
      "outputs": [],
      "source": [
        "def Grid_SearchCV(model,X_train,Y_train,param_grid):\n",
        "    \n",
        "    tscv = TimeSeriesSplit(n_splits=10)\n",
        "    \n",
        "    gsv=GridSearchCV(model,param_grid,cv=tscv,verbose=1,scoring='f1')\n",
        "    gsv.fit(X_train,Y_train)\n",
        "    \n",
        "    return gsv"
      ]
    },
    {
      "cell_type": "code",
      "execution_count": null,
      "metadata": {
        "colab": {
          "base_uri": "https://localhost:8080/"
        },
        "id": "hMWLGqMavhij",
        "outputId": "24328da2-5fe0-4721-9c29-9c5a3cc87301"
      },
      "outputs": [
        {
          "output_type": "stream",
          "name": "stdout",
          "text": [
            "Fitting 10 folds for each of 35 candidates, totalling 350 fits\n",
            "Best HyperParameter:  {'max_depth': 100, 'n_estimators': 100}\n",
            "Best Accuracy: 94.55%\n"
          ]
        }
      ],
      "source": [
        "#Finding the best value Of hyperparameter\n",
        "\n",
        "from sklearn.ensemble import RandomForestClassifier\n",
        "\n",
        "param_grid= {'max_depth':[1,5,10,50,100,500,1000],\n",
        "             'n_estimators' :[5,10,20,50,100]\n",
        "            }\n",
        "\n",
        "gsv=Grid_SearchCV(RandomForestClassifier(class_weight='balanced'),X_train,Y_train,param_grid)\n",
        "\n",
        "print(\"Best HyperParameter: \",gsv.best_params_)\n",
        "print(\"Best Accuracy: %.2f%%\"%(gsv.best_score_*100))"
      ]
    },
    {
      "cell_type": "code",
      "execution_count": null,
      "metadata": {
        "colab": {
          "base_uri": "https://localhost:8080/"
        },
        "id": "7Ae50Hk-vlW3",
        "outputId": "f4b18e95-0092-4346-851d-f2c361aa4025"
      },
      "outputs": [
        {
          "output_type": "execute_result",
          "data": {
            "text/plain": [
              "RandomForestClassifier(class_weight='balanced', max_depth=100)"
            ]
          },
          "metadata": {},
          "execution_count": 82
        }
      ],
      "source": [
        "Best_Param=gsv.best_params_\n",
        "depth=Best_Param['max_depth']\n",
        "n_estimator =Best_Param['n_estimators']\n",
        "Model_Random_Forest=RandomForestClassifier(max_depth=depth,n_estimators=n_estimator,class_weight=\"balanced\")\n",
        "Model_Random_Forest.fit(X_train,Y_train)"
      ]
    },
    {
      "cell_type": "code",
      "execution_count": null,
      "metadata": {
        "colab": {
          "base_uri": "https://localhost:8080/",
          "height": 312
        },
        "id": "JboPsp8z1syD",
        "outputId": "776128d0-c350-4198-df70-ce3a5bdd0ba6"
      },
      "outputs": [
        {
          "output_type": "stream",
          "name": "stdout",
          "text": [
            "Confusion Matrix for Train set\n"
          ]
        },
        {
          "output_type": "display_data",
          "data": {
            "text/plain": [
              "<Figure size 432x288 with 2 Axes>"
            ],
            "image/png": "[encoded data removed]"
          },
          "metadata": {
            "needs_background": "light"
          }
        }
      ],
      "source": [
        "trainconfusionmatrix(Model_Random_Forest,X_train,Y_train)"
      ]
    },
    {
      "cell_type": "code",
      "execution_count": null,
      "metadata": {
        "id": "ZxL1lSt8120I",
        "colab": {
          "base_uri": "https://localhost:8080/",
          "height": 312
        },
        "outputId": "82de2a8b-aef3-4b41-f6f3-2428d65b5198"
      },
      "outputs": [
        {
          "output_type": "stream",
          "name": "stdout",
          "text": [
            "Confusion Matrix for Test set\n"
          ]
        },
        {
          "output_type": "display_data",
          "data": {
            "text/plain": [
              "<Figure size 432x288 with 2 Axes>"
            ],
            "image/png": "[encoded data removed]"
          },
          "metadata": {
            "needs_background": "light"
          }
        }
      ],
      "source": [
        "testconfusionmatrix(Model_Random_Forest,x_test,y_test)\n"
      ]
    },
    {
      "cell_type": "code",
      "execution_count": null,
      "metadata": {
        "colab": {
          "base_uri": "https://localhost:8080/"
        },
        "id": "i98IrQ_c18YO",
        "outputId": "39c4dbb8-a038-4e61-9115-f2d59ebb503b"
      },
      "outputs": [
        {
          "output_type": "stream",
          "name": "stdout",
          "text": [
            "Train Classification Report: \n",
            "\n",
            "              precision    recall  f1-score   support\n",
            "\n",
            "           0       1.00      1.00      1.00      7422\n",
            "           1       1.00      1.00      1.00      8950\n",
            "\n",
            "    accuracy                           1.00     16372\n",
            "   macro avg       1.00      1.00      1.00     16372\n",
            "weighted avg       1.00      1.00      1.00     16372\n",
            "\n"
          ]
        }
      ],
      "source": [
        "print(\"Train Classification Report: \\n\")\n",
        "y_pred_train=Model_Random_Forest.predict(X_train)\n",
        "print(classification_report(Y_train, y_pred_train))"
      ]
    },
    {
      "cell_type": "code",
      "execution_count": null,
      "metadata": {
        "colab": {
          "base_uri": "https://localhost:8080/"
        },
        "id": "ghKtmfGg1_6m",
        "outputId": "298e53bd-b2e4-4dc5-9b24-63b36319d01a"
      },
      "outputs": [
        {
          "output_type": "stream",
          "name": "stdout",
          "text": [
            "Test Classification Report: \n",
            "\n",
            "              precision    recall  f1-score   support\n",
            "\n",
            "           0       0.95      0.92      0.94      1772\n",
            "           1       0.94      0.96      0.95      2321\n",
            "\n",
            "    accuracy                           0.95      4093\n",
            "   macro avg       0.95      0.94      0.94      4093\n",
            "weighted avg       0.95      0.95      0.94      4093\n",
            "\n"
          ]
        }
      ],
      "source": [
        "print(\"Test Classification Report: \\n\")\n",
        "y_pred_test=Model_Random_Forest.predict(x_test)\n",
        "print(classification_report(y_test, y_pred_test))"
      ]
    },
    {
      "cell_type": "code",
      "execution_count": null,
      "metadata": {
        "colab": {
          "base_uri": "https://localhost:8080/"
        },
        "id": "F8E6EEyB2DdY",
        "outputId": "34d43359-7575-4260-d093-eeaaef5ca7e1"
      },
      "outputs": [
        {
          "output_type": "stream",
          "name": "stdout",
          "text": [
            "Fitting 10 folds for each of 35 candidates, totalling 350 fits\n",
            "Best HyperParameter:  {'max_depth': 5, 'n_estimators': 100}\n",
            "Best Accuracy: 95.78%\n"
          ]
        }
      ],
      "source": [
        "from xgboost import XGBClassifier\n",
        "\n",
        "param_grid= {'max_depth':[1,5,10,50,100,500,1000],\n",
        "              'n_estimators' :[5,10,20,50,100]\n",
        "            }\n",
        "\n",
        "\n",
        "gsv=Grid_SearchCV(XGBClassifier(),X_train,Y_train,param_grid)\n",
        "\n",
        "print(\"Best HyperParameter: \",gsv.best_params_)\n",
        "print(\"Best Accuracy: %.2f%%\"%(gsv.best_score_*100))"
      ]
    },
    {
      "cell_type": "code",
      "execution_count": null,
      "metadata": {
        "colab": {
          "base_uri": "https://localhost:8080/"
        },
        "id": "pzLkrSZV2H56",
        "outputId": "bd3d38f1-8503-4a9e-8d65-34239e01ee22"
      },
      "outputs": [
        {
          "output_type": "execute_result",
          "data": {
            "text/plain": [
              "XGBClassifier(class_weight='balanced', max_depth=5)"
            ]
          },
          "metadata": {},
          "execution_count": 88
        }
      ],
      "source": [
        "Best_Param=gsv.best_params_\n",
        "depth=Best_Param['max_depth']\n",
        "n_estimator =Best_Param['n_estimators']\n",
        "Model_XGB=XGBClassifier(max_depth=depth,n_estimators=n_estimator,class_weight=\"balanced\")\n",
        "Model_XGB.fit(X_train,Y_train)"
      ]
    },
    {
      "cell_type": "code",
      "execution_count": null,
      "metadata": {
        "colab": {
          "base_uri": "https://localhost:8080/",
          "height": 312
        },
        "id": "dhuxtEds317z",
        "outputId": "a2264ceb-fa9a-4ec9-edcc-63b3e8a3ca68"
      },
      "outputs": [
        {
          "output_type": "stream",
          "name": "stdout",
          "text": [
            "Confusion Matrix for Train set\n"
          ]
        },
        {
          "output_type": "display_data",
          "data": {
            "text/plain": [
              "<Figure size 432x288 with 2 Axes>"
            ],
            "image/png": "[encoded data removed]"
          },
          "metadata": {
            "needs_background": "light"
          }
        }
      ],
      "source": [
        "trainconfusionmatrix(Model_XGB,X_train,Y_train)"
      ]
    },
    {
      "cell_type": "code",
      "execution_count": null,
      "metadata": {
        "colab": {
          "base_uri": "https://localhost:8080/",
          "height": 312
        },
        "id": "EOUBgT_A4Av-",
        "outputId": "8173545c-7050-4939-9b50-50d59a52cfa0"
      },
      "outputs": [
        {
          "output_type": "stream",
          "name": "stdout",
          "text": [
            "Confusion Matrix for Test set\n"
          ]
        },
        {
          "output_type": "display_data",
          "data": {
            "text/plain": [
              "<Figure size 432x288 with 2 Axes>"
            ],
            "image/png": "[encoded data removed]"
          },
          "metadata": {
            "needs_background": "light"
          }
        }
      ],
      "source": [
        "testconfusionmatrix(Model_XGB,x_test,y_test)"
      ]
    },
    {
      "cell_type": "code",
      "execution_count": null,
      "metadata": {
        "colab": {
          "base_uri": "https://localhost:8080/"
        },
        "id": "EHixRnSK4FQ4",
        "outputId": "a61ff32b-9c39-428a-f4bf-a7c1745632d7"
      },
      "outputs": [
        {
          "output_type": "stream",
          "name": "stdout",
          "text": [
            "Train Classification Report: \n",
            "\n",
            "              precision    recall  f1-score   support\n",
            "\n",
            "           0       1.00      0.99      0.99      7422\n",
            "           1       1.00      1.00      1.00      8950\n",
            "\n",
            "    accuracy                           1.00     16372\n",
            "   macro avg       1.00      1.00      1.00     16372\n",
            "weighted avg       1.00      1.00      1.00     16372\n",
            "\n"
          ]
        }
      ],
      "source": [
        "print(\"Train Classification Report: \\n\")\n",
        "y_pred_train=Model_XGB.predict(X_train)\n",
        "print(classification_report(Y_train, y_pred_train))"
      ]
    },
    {
      "cell_type": "code",
      "execution_count": null,
      "metadata": {
        "colab": {
          "base_uri": "https://localhost:8080/"
        },
        "id": "jmGDT2iz4I7l",
        "outputId": "0155d140-18a5-4e54-cbdf-5fb73f0e114f"
      },
      "outputs": [
        {
          "output_type": "stream",
          "name": "stdout",
          "text": [
            "Test Classification Report: \n",
            "\n",
            "              precision    recall  f1-score   support\n",
            "\n",
            "           0       0.95      0.92      0.94      1772\n",
            "           1       0.94      0.96      0.95      2321\n",
            "\n",
            "    accuracy                           0.95      4093\n",
            "   macro avg       0.95      0.94      0.94      4093\n",
            "weighted avg       0.95      0.95      0.94      4093\n",
            "\n"
          ]
        }
      ],
      "source": [
        "print(\"Test Classification Report: \\n\")\n",
        "y_pred_test2=Model_XGB.predict(x_test)\n",
        "print(classification_report(y_test, y_pred_test))"
      ]
    },
    {
      "cell_type": "code",
      "execution_count": null,
      "metadata": {
        "colab": {
          "base_uri": "https://localhost:8080/"
        },
        "id": "lf2IZzDV4O2o",
        "outputId": "46ca1d68-4f93-41dc-d6f8-36f6d306c037"
      },
      "outputs": [
        {
          "output_type": "stream",
          "name": "stdout",
          "text": [
            "96.31077449303689\n"
          ]
        }
      ],
      "source": [
        "from sklearn.linear_model import LogisticRegression\n",
        "logreg = LogisticRegression()\n",
        "logreg.fit(X_train, Y_train)\n",
        "Accuracy = logreg.score(x_test, y_test)\n",
        "print(Accuracy*100)"
      ]
    },
    {
      "cell_type": "code",
      "execution_count": null,
      "metadata": {
        "colab": {
          "base_uri": "https://localhost:8080/"
        },
        "id": "iQ1M-DhV4SLv",
        "outputId": "4e0d01f1-7082-4b2c-fd67-d7f79e8d1020"
      },
      "outputs": [
        {
          "output_type": "stream",
          "name": "stdout",
          "text": [
            "Test Classification Report: \n",
            "\n",
            "              precision    recall  f1-score   support\n",
            "\n",
            "           0       0.98      0.94      0.96      1772\n",
            "           1       0.95      0.98      0.97      2321\n",
            "\n",
            "    accuracy                           0.96      4093\n",
            "   macro avg       0.96      0.96      0.96      4093\n",
            "weighted avg       0.96      0.96      0.96      4093\n",
            "\n"
          ]
        }
      ],
      "source": [
        "print(\"Test Classification Report: \\n\")\n",
        "y_pred_test1=logreg.predict(x_test)\n",
        "print(classification_report(y_test, y_pred_test1))"
      ]
    },
    {
      "cell_type": "code",
      "execution_count": null,
      "metadata": {
        "colab": {
          "base_uri": "https://localhost:8080/",
          "height": 312
        },
        "id": "wtRej07l4VOI",
        "outputId": "c5ddeeb4-569f-4e08-8fa9-7793fda5aef1"
      },
      "outputs": [
        {
          "output_type": "stream",
          "name": "stdout",
          "text": [
            "Confusion Matrix for Test set\n"
          ]
        },
        {
          "output_type": "display_data",
          "data": {
            "text/plain": [
              "<Figure size 432x288 with 2 Axes>"
            ],
            "image/png": "[encoded data removed]"
          },
          "metadata": {
            "needs_background": "light"
          }
        }
      ],
      "source": [
        "testconfusionmatrix(logreg,x_test,y_test)"
      ]
    },
    {
      "cell_type": "code",
      "execution_count": null,
      "metadata": {
        "colab": {
          "base_uri": "https://localhost:8080/"
        },
        "id": "WatGYYav4WlK",
        "outputId": "af38fe81-b83c-43c7-9399-55665befa1e5"
      },
      "outputs": [
        {
          "output_type": "execute_result",
          "data": {
            "text/plain": [
              "['Model_Random_Forest.pkl']"
            ]
          },
          "metadata": {},
          "execution_count": 96
        }
      ],
      "source": [
        "from joblib import Parallel, delayed\n",
        "import joblib\n",
        "  \n",
        "joblib.dump(Model_Random_Forest, 'Model_Random_Forest.pkl')"
      ]
    },
    {
      "cell_type": "code",
      "execution_count": null,
      "metadata": {
        "colab": {
          "base_uri": "https://localhost:8080/"
        },
        "id": "MW4sGSGr4brw",
        "outputId": "f16d7721-e7d0-4bea-a305-8e18137d192b"
      },
      "outputs": [
        {
          "output_type": "execute_result",
          "data": {
            "text/plain": [
              "['Model_XGB.pkl']"
            ]
          },
          "metadata": {},
          "execution_count": 97
        }
      ],
      "source": [
        "joblib.dump(Model_XGB, 'Model_XGB.pkl')"
      ]
    },
    {
      "cell_type": "code",
      "execution_count": null,
      "metadata": {
        "colab": {
          "base_uri": "https://localhost:8080/"
        },
        "id": "MC6kuftB4egi",
        "outputId": "065aedac-fc1e-4ae2-a146-e8b6d8b485c4"
      },
      "outputs": [
        {
          "output_type": "execute_result",
          "data": {
            "text/plain": [
              "['Model_logreg.pkl']"
            ]
          },
          "metadata": {},
          "execution_count": 98
        }
      ],
      "source": [
        "joblib.dump(logreg, 'Model_logreg.pkl')"
      ]
    },
    {
      "cell_type": "code",
      "execution_count": null,
      "metadata": {
        "id": "xZkbsZhU4lQG"
      },
      "outputs": [],
      "source": [
        "from bs4 import BeautifulSoup\n",
        "from urllib.request import urlopen\n",
        "import requests\n",
        "\n",
        "url = \"https://edition.cnn.com/2022/09/16/politics/donald-trump-hugh-hewitt-interview-indicted/index.html\"\n",
        "\n",
        "# To fetch the url\n",
        "#html = requests.get(url)\n",
        "\n",
        "html = urlopen(url)\n",
        "\n",
        "# Using beautiful soup to pull the html data \n",
        "soup = BeautifulSoup(html,\"html.parser\")\n",
        "\n",
        "# finding the tag in which the content is present\n",
        "a = soup.findAll(\"p\",class_=\"paragraph inline-placeholder\")\n",
        "\n",
        "# Adding all the data in a lists\n",
        "l=[]\n",
        "\n",
        "for x in a[2:]:\n",
        "    l.append(x.text.strip(\"\\n\"))\n",
        "    \n",
        "data=pd.DataFrame(l,columns=['text'])"
      ]
    },
    {
      "cell_type": "code",
      "execution_count": null,
      "metadata": {
        "colab": {
          "base_uri": "https://localhost:8080/",
          "height": 52
        },
        "id": "n-EW-zvt4rZS",
        "outputId": "8ee07eca-cb96-4a88-a5bd-8e2b64a58261"
      },
      "outputs": [
        {
          "output_type": "execute_result",
          "data": {
            "text/plain": [
              "'Hewitt: You know the old saying. A prosecutor can indict a ham sandwich if they want to. I’m just asking if there is such a prosecutor and they indict you, would that deter you from running for president again?'"
            ],
            "application/vnd.google.colaboratory.intrinsic+json": {
              "type": "string"
            }
          },
          "metadata": {},
          "execution_count": 100
        }
      ],
      "source": [
        "data['text'][0]"
      ]
    },
    {
      "cell_type": "code",
      "execution_count": null,
      "metadata": {
        "colab": {
          "base_uri": "https://localhost:8080/",
          "height": 363
        },
        "id": "EmWXepC44uMV",
        "outputId": "1d4e417c-afc1-496b-9750-f14de520508e"
      },
      "outputs": [
        {
          "output_type": "execute_result",
          "data": {
            "text/plain": [
              "                                                text\n",
              "0  Hewitt: You know the old saying. A prosecutor ...\n",
              "1  Trump: I don’t think the people of the United ...\n",
              "2  Hewitt: I do. That’s what I wanted people to u...\n",
              "3  Trump: It would not. But I think if it happene...\n",
              "4      Hewitt: What kind of problems, Mr. President.\n",
              "5  Trump: I think they’d have big problems, big p...\n",
              "6        It’s impossible to read those lines from...\n",
              "7        Hewitt, sensing that Trump had wandered ...\n",
              "8        To which Trump responded: “That’s not, t...\n",
              "9        (Sidebar: The dictionary definition of “..."
            ],
            "text/html": [
              "\n",
              "  <div id=\"df-2ed42eb4-aa01-4778-a337-19fcefa31192\">\n",
              "    <div class=\"colab-df-container\">\n",
              "      <div>\n",
              "<style scoped>\n",
              "    .dataframe tbody tr th:only-of-type {\n",
              "        vertical-align: middle;\n",
              "    }\n",
              "\n",
              "    .dataframe tbody tr th {\n",
              "        vertical-align: top;\n",
              "    }\n",
              "\n",
              "    .dataframe thead th {\n",
              "        text-align: right;\n",
              "    }\n",
              "</style>\n",
              "<table border=\"1\" class=\"dataframe\">\n",
              "  <thead>\n",
              "    <tr style=\"text-align: right;\">\n",
              "      <th></th>\n",
              "      <th>text</th>\n",
              "    </tr>\n",
              "  </thead>\n",
              "  <tbody>\n",
              "    <tr>\n",
              "      <th>0</th>\n",
              "      <td>Hewitt: You know the old saying. A prosecutor ...</td>\n",
              "    </tr>\n",
              "    <tr>\n",
              "      <th>1</th>\n",
              "      <td>Trump: I don’t think the people of the United ...</td>\n",
              "    </tr>\n",
              "    <tr>\n",
              "      <th>2</th>\n",
              "      <td>Hewitt: I do. That’s what I wanted people to u...</td>\n",
              "    </tr>\n",
              "    <tr>\n",
              "      <th>3</th>\n",
              "      <td>Trump: It would not. But I think if it happene...</td>\n",
              "    </tr>\n",
              "    <tr>\n",
              "      <th>4</th>\n",
              "      <td>Hewitt: What kind of problems, Mr. President.</td>\n",
              "    </tr>\n",
              "    <tr>\n",
              "      <th>5</th>\n",
              "      <td>Trump: I think they’d have big problems, big p...</td>\n",
              "    </tr>\n",
              "    <tr>\n",
              "      <th>6</th>\n",
              "      <td>It’s impossible to read those lines from...</td>\n",
              "    </tr>\n",
              "    <tr>\n",
              "      <th>7</th>\n",
              "      <td>Hewitt, sensing that Trump had wandered ...</td>\n",
              "    </tr>\n",
              "    <tr>\n",
              "      <th>8</th>\n",
              "      <td>To which Trump responded: “That’s not, t...</td>\n",
              "    </tr>\n",
              "    <tr>\n",
              "      <th>9</th>\n",
              "      <td>(Sidebar: The dictionary definition of “...</td>\n",
              "    </tr>\n",
              "  </tbody>\n",
              "</table>\n",
              "</div>\n",
              "      <button class=\"colab-df-convert\" onclick=\"convertToInteractive('df-2ed42eb4-aa01-4778-a337-19fcefa31192')\"\n",
              "              title=\"Convert this dataframe to an interactive table.\"\n",
              "              style=\"display:none;\">\n",
              "        \n",
              "  <svg xmlns=\"http://www.w3.org/2000/svg\" height=\"24px\"viewBox=\"0 0 24 24\"\n",
              "       width=\"24px\">\n",
              "    <path d=\"M0 0h24v24H0V0z\" fill=\"none\"/>\n",
              "    <path d=\"M18.56 5.44l.94 2.06.94-2.06 2.06-.94-2.06-.94-.94-2.06-.94 2.06-2.06.94zm-11 1L8.5 8.5l.94-2.06 2.06-.94-2.06-.94L8.5 2.5l-.94 2.06-2.06.94zm10 10l.94 2.06.94-2.06 2.06-.94-2.06-.94-.94-2.06-.94 2.06-2.06.94z\"/><path d=\"M17.41 7.96l-1.37-1.37c-.4-.4-.92-.59-1.43-.59-.52 0-1.04.2-1.43.59L10.3 9.45l-7.72 7.72c-.78.78-.78 2.05 0 2.83L4 21.41c.39.39.9.59 1.41.59.51 0 1.02-.2 1.41-.59l7.78-7.78 2.81-2.81c.8-.78.8-2.07 0-2.86zM5.41 20L4 18.59l7.72-7.72 1.47 1.35L5.41 20z\"/>\n",
              "  </svg>\n",
              "      </button>\n",
              "      \n",
              "  <style>\n",
              "    .colab-df-container {\n",
              "      display:flex;\n",
              "      flex-wrap:wrap;\n",
              "      gap: 12px;\n",
              "    }\n",
              "\n",
              "    .colab-df-convert {\n",
              "      background-color: #E8F0FE;\n",
              "      border: none;\n",
              "      border-radius: 50%;\n",
              "      cursor: pointer;\n",
              "      display: none;\n",
              "      fill: #1967D2;\n",
              "      height: 32px;\n",
              "      padding: 0 0 0 0;\n",
              "      width: 32px;\n",
              "    }\n",
              "\n",
              "    .colab-df-convert:hover {\n",
              "      background-color: #E2EBFA;\n",
              "      box-shadow: 0px 1px 2px rgba(60, 64, 67, 0.3), 0px 1px 3px 1px rgba(60, 64, 67, 0.15);\n",
              "      fill: #174EA6;\n",
              "    }\n",
              "\n",
              "    [theme=dark] .colab-df-convert {\n",
              "      background-color: #3B4455;\n",
              "      fill: #D2E3FC;\n",
              "    }\n",
              "\n",
              "    [theme=dark] .colab-df-convert:hover {\n",
              "      background-color: #434B5C;\n",
              "      box-shadow: 0px 1px 3px 1px rgba(0, 0, 0, 0.15);\n",
              "      filter: drop-shadow(0px 1px 2px rgba(0, 0, 0, 0.3));\n",
              "      fill: #FFFFFF;\n",
              "    }\n",
              "  </style>\n",
              "\n",
              "      <script>\n",
              "        const buttonEl =\n",
              "          document.querySelector('#df-2ed42eb4-aa01-4778-a337-19fcefa31192 button.colab-df-convert');\n",
              "        buttonEl.style.display =\n",
              "          google.colab.kernel.accessAllowed ? 'block' : 'none';\n",
              "\n",
              "        async function convertToInteractive(key) {\n",
              "          const element = document.querySelector('#df-2ed42eb4-aa01-4778-a337-19fcefa31192');\n",
              "          const dataTable =\n",
              "            await google.colab.kernel.invokeFunction('convertToInteractive',\n",
              "                                                     [key], {});\n",
              "          if (!dataTable) return;\n",
              "\n",
              "          const docLinkHtml = 'Like what you see? Visit the ' +\n",
              "            '<a target=\"_blank\" href=https://colab.research.google.com/notebooks/data_table.ipynb>data table notebook</a>'\n",
              "            + ' to learn more about interactive tables.';\n",
              "          element.innerHTML = '';\n",
              "          dataTable['output_type'] = 'display_data';\n",
              "          await google.colab.output.renderOutput(dataTable, element);\n",
              "          const docLink = document.createElement('div');\n",
              "          docLink.innerHTML = docLinkHtml;\n",
              "          element.appendChild(docLink);\n",
              "        }\n",
              "      </script>\n",
              "    </div>\n",
              "  </div>\n",
              "  "
            ]
          },
          "metadata": {},
          "execution_count": 101
        }
      ],
      "source": [
        "df1 = pd.DataFrame.from_records(data)\n",
        "df1.head(10)"
      ]
    },
    {
      "cell_type": "code",
      "execution_count": null,
      "metadata": {
        "id": "Sq996BIx4wz2"
      },
      "outputs": [],
      "source": [
        "# Saving the  ata\n",
        "df1.to_csv(\"article1_data.csv\")"
      ]
    },
    {
      "cell_type": "code",
      "execution_count": null,
      "metadata": {
        "id": "k1XngKXY42aN"
      },
      "outputs": [],
      "source": [
        "# model = trained word2vec model\n",
        "# data= retrieve data from the article\n",
        "# size = the size given at the time of word2vec embedding i.e in this case 300\n",
        "\n",
        "def prediction_data_process(model,data,size):\n",
        "    \n",
        "    prediction_data=np.asarray(list(data['text']))\n",
        "    prediction_data=process(prediction_data)\n",
        "    cleaned_prediction_data=[]\n",
        "    for sent in prediction_data:\n",
        "        cleaned_prediction_data.append(sent.split()) \n",
        "        \n",
        "    vectors = []\n",
        "    for sent in cleaned_prediction_data:\n",
        "        sent_vec = np.zeros(size)\n",
        "        cnt_words = 0\n",
        "        for word in sent:\n",
        "            try:\n",
        "                vec = word2vec_model.wv[word]  # getting the vector corresponding to the word\n",
        "                sent_vec += vec       # Adding the vectors of all the words present in sentence\n",
        "                cnt_words += 1        # counting the number of words\n",
        "            except:\n",
        "                pass\n",
        "        if cnt_words!=0:    \n",
        "            sent_vec /= cnt_words\n",
        "        vectors.append(sent_vec)\n",
        "    \n",
        "    return np.nan_to_num(vectors)"
      ]
    },
    {
      "cell_type": "code",
      "execution_count": null,
      "metadata": {
        "colab": {
          "base_uri": "https://localhost:8080/"
        },
        "id": "ayoSuSi0q_FC",
        "outputId": "45da3c9a-2385-4256-a325-694a52a53163"
      },
      "outputs": [
        {
          "output_type": "stream",
          "name": "stderr",
          "text": [
            "100%|██████████| 15/15 [00:00<00:00, 4163.77it/s]\n"
          ]
        }
      ],
      "source": [
        "final_prediction_data=prediction_data_process(word2vec_model,data,300)"
      ]
    },
    {
      "cell_type": "code",
      "execution_count": null,
      "metadata": {
        "colab": {
          "base_uri": "https://localhost:8080/"
        },
        "id": "A5Q5_Cy348S6",
        "outputId": "bced3e8f-be63-4779-e4fd-36594b147fad"
      },
      "outputs": [
        {
          "output_type": "execute_result",
          "data": {
            "text/plain": [
              "array([ 0.04496035,  0.0429005 , -0.14297589,  0.07758826, -0.10931012,\n",
              "        0.01204928,  0.07038387, -0.07005778,  0.05122528])"
            ]
          },
          "metadata": {},
          "execution_count": 105
        }
      ],
      "source": [
        "final_prediction_data[3][1:10]"
      ]
    },
    {
      "cell_type": "code",
      "execution_count": null,
      "metadata": {
        "colab": {
          "base_uri": "https://localhost:8080/"
        },
        "id": "bhncDEHI4_8E",
        "outputId": "99d06399-5990-4c2b-e591-122809bea536"
      },
      "outputs": [
        {
          "output_type": "execute_result",
          "data": {
            "text/plain": [
              "15"
            ]
          },
          "metadata": {},
          "execution_count": 106
        }
      ],
      "source": [
        "len(final_prediction_data)"
      ]
    },
    {
      "cell_type": "code",
      "execution_count": null,
      "metadata": {
        "id": "s5Gzd_fi5CnR"
      },
      "outputs": [],
      "source": [
        "from joblib import Parallel, delayed\n",
        "import joblib\n",
        "# Load the model from the file\n",
        "\n",
        "RF_Model = joblib.load('Model_Random_Forest.pkl')"
      ]
    },
    {
      "cell_type": "code",
      "execution_count": null,
      "metadata": {
        "colab": {
          "base_uri": "https://localhost:8080/"
        },
        "id": "cWA5q5EQ5F8C",
        "outputId": "72424d95-af9d-4f9b-e27d-af7e3876ab8f"
      },
      "outputs": [
        {
          "output_type": "execute_result",
          "data": {
            "text/plain": [
              "array([0, 0, 0, 0, 0, 0, 0, 0, 1, 0, 0, 1, 0, 0, 0])"
            ]
          },
          "metadata": {},
          "execution_count": 108
        }
      ],
      "source": [
        "RF_Model.predict(final_prediction_data)"
      ]
    },
    {
      "cell_type": "code",
      "execution_count": null,
      "metadata": {
        "colab": {
          "base_uri": "https://localhost:8080/"
        },
        "id": "0CFT82Xy5Osq",
        "outputId": "31f2aaeb-a5d4-4a25-db06-ceb7169bb46f"
      },
      "outputs": [
        {
          "output_type": "execute_result",
          "data": {
            "text/plain": [
              "array([[0.78, 0.22],\n",
              "       [0.55, 0.45],\n",
              "       [0.61, 0.39],\n",
              "       [0.57, 0.43],\n",
              "       [0.63, 0.37],\n",
              "       [0.69, 0.31],\n",
              "       [0.87, 0.13],\n",
              "       [0.78, 0.22],\n",
              "       [0.39, 0.61],\n",
              "       [0.92, 0.08],\n",
              "       [0.82, 0.18],\n",
              "       [0.36, 0.64],\n",
              "       [0.71, 0.29],\n",
              "       [0.82, 0.18],\n",
              "       [0.51, 0.49]])"
            ]
          },
          "metadata": {},
          "execution_count": 109
        }
      ],
      "source": [
        "RF_Model.predict_proba(final_prediction_data)"
      ]
    },
    {
      "cell_type": "code",
      "execution_count": null,
      "metadata": {
        "id": "ShFaL2cX5SzB"
      },
      "outputs": [],
      "source": [
        "RF_p = [0, 0, 0, 1, 0, 0, 0, 0, 1, 0, 0, 0, 0, 0, 0]\n",
        "\n",
        "df1['RF_p'] = RF_p"
      ]
    },
    {
      "cell_type": "code",
      "execution_count": null,
      "metadata": {
        "colab": {
          "base_uri": "https://localhost:8080/",
          "height": 520
        },
        "id": "xvqIn-ZN5W5C",
        "outputId": "03dfce40-993a-47e9-c126-1f556436c979"
      },
      "outputs": [
        {
          "output_type": "execute_result",
          "data": {
            "text/plain": [
              "                                                 text  RF_p\n",
              "0   Hewitt: You know the old saying. A prosecutor ...     0\n",
              "1   Trump: I don’t think the people of the United ...     0\n",
              "2   Hewitt: I do. That’s what I wanted people to u...     0\n",
              "3   Trump: It would not. But I think if it happene...     1\n",
              "4       Hewitt: What kind of problems, Mr. President.     0\n",
              "5   Trump: I think they’d have big problems, big p...     0\n",
              "6         It’s impossible to read those lines from...     0\n",
              "7         Hewitt, sensing that Trump had wandered ...     0\n",
              "8         To which Trump responded: “That’s not, t...     1\n",
              "9         (Sidebar: The dictionary definition of “...     0\n",
              "10        What Trump’s answers to Hewitt suggest i...     0\n",
              "11        Words have power – especially when utter...     0\n",
              "12        But this, of course, is the game that Tr...     0\n",
              "13        His intent, to any neutral observer, see...     0\n",
              "14        That sort of flirting with violence (or ...     0"
            ],
            "text/html": [
              "\n",
              "  <div id=\"df-db7aeaff-9ecc-4275-9516-4a821e3d0cab\">\n",
              "    <div class=\"colab-df-container\">\n",
              "      <div>\n",
              "<style scoped>\n",
              "    .dataframe tbody tr th:only-of-type {\n",
              "        vertical-align: middle;\n",
              "    }\n",
              "\n",
              "    .dataframe tbody tr th {\n",
              "        vertical-align: top;\n",
              "    }\n",
              "\n",
              "    .dataframe thead th {\n",
              "        text-align: right;\n",
              "    }\n",
              "</style>\n",
              "<table border=\"1\" class=\"dataframe\">\n",
              "  <thead>\n",
              "    <tr style=\"text-align: right;\">\n",
              "      <th></th>\n",
              "      <th>text</th>\n",
              "      <th>RF_p</th>\n",
              "    </tr>\n",
              "  </thead>\n",
              "  <tbody>\n",
              "    <tr>\n",
              "      <th>0</th>\n",
              "      <td>Hewitt: You know the old saying. A prosecutor ...</td>\n",
              "      <td>0</td>\n",
              "    </tr>\n",
              "    <tr>\n",
              "      <th>1</th>\n",
              "      <td>Trump: I don’t think the people of the United ...</td>\n",
              "      <td>0</td>\n",
              "    </tr>\n",
              "    <tr>\n",
              "      <th>2</th>\n",
              "      <td>Hewitt: I do. That’s what I wanted people to u...</td>\n",
              "      <td>0</td>\n",
              "    </tr>\n",
              "    <tr>\n",
              "      <th>3</th>\n",
              "      <td>Trump: It would not. But I think if it happene...</td>\n",
              "      <td>1</td>\n",
              "    </tr>\n",
              "    <tr>\n",
              "      <th>4</th>\n",
              "      <td>Hewitt: What kind of problems, Mr. President.</td>\n",
              "      <td>0</td>\n",
              "    </tr>\n",
              "    <tr>\n",
              "      <th>5</th>\n",
              "      <td>Trump: I think they’d have big problems, big p...</td>\n",
              "      <td>0</td>\n",
              "    </tr>\n",
              "    <tr>\n",
              "      <th>6</th>\n",
              "      <td>It’s impossible to read those lines from...</td>\n",
              "      <td>0</td>\n",
              "    </tr>\n",
              "    <tr>\n",
              "      <th>7</th>\n",
              "      <td>Hewitt, sensing that Trump had wandered ...</td>\n",
              "      <td>0</td>\n",
              "    </tr>\n",
              "    <tr>\n",
              "      <th>8</th>\n",
              "      <td>To which Trump responded: “That’s not, t...</td>\n",
              "      <td>1</td>\n",
              "    </tr>\n",
              "    <tr>\n",
              "      <th>9</th>\n",
              "      <td>(Sidebar: The dictionary definition of “...</td>\n",
              "      <td>0</td>\n",
              "    </tr>\n",
              "    <tr>\n",
              "      <th>10</th>\n",
              "      <td>What Trump’s answers to Hewitt suggest i...</td>\n",
              "      <td>0</td>\n",
              "    </tr>\n",
              "    <tr>\n",
              "      <th>11</th>\n",
              "      <td>Words have power – especially when utter...</td>\n",
              "      <td>0</td>\n",
              "    </tr>\n",
              "    <tr>\n",
              "      <th>12</th>\n",
              "      <td>But this, of course, is the game that Tr...</td>\n",
              "      <td>0</td>\n",
              "    </tr>\n",
              "    <tr>\n",
              "      <th>13</th>\n",
              "      <td>His intent, to any neutral observer, see...</td>\n",
              "      <td>0</td>\n",
              "    </tr>\n",
              "    <tr>\n",
              "      <th>14</th>\n",
              "      <td>That sort of flirting with violence (or ...</td>\n",
              "      <td>0</td>\n",
              "    </tr>\n",
              "  </tbody>\n",
              "</table>\n",
              "</div>\n",
              "      <button class=\"colab-df-convert\" onclick=\"convertToInteractive('df-db7aeaff-9ecc-4275-9516-4a821e3d0cab')\"\n",
              "              title=\"Convert this dataframe to an interactive table.\"\n",
              "              style=\"display:none;\">\n",
              "        \n",
              "  <svg xmlns=\"http://www.w3.org/2000/svg\" height=\"24px\"viewBox=\"0 0 24 24\"\n",
              "       width=\"24px\">\n",
              "    <path d=\"M0 0h24v24H0V0z\" fill=\"none\"/>\n",
              "    <path d=\"M18.56 5.44l.94 2.06.94-2.06 2.06-.94-2.06-.94-.94-2.06-.94 2.06-2.06.94zm-11 1L8.5 8.5l.94-2.06 2.06-.94-2.06-.94L8.5 2.5l-.94 2.06-2.06.94zm10 10l.94 2.06.94-2.06 2.06-.94-2.06-.94-.94-2.06-.94 2.06-2.06.94z\"/><path d=\"M17.41 7.96l-1.37-1.37c-.4-.4-.92-.59-1.43-.59-.52 0-1.04.2-1.43.59L10.3 9.45l-7.72 7.72c-.78.78-.78 2.05 0 2.83L4 21.41c.39.39.9.59 1.41.59.51 0 1.02-.2 1.41-.59l7.78-7.78 2.81-2.81c.8-.78.8-2.07 0-2.86zM5.41 20L4 18.59l7.72-7.72 1.47 1.35L5.41 20z\"/>\n",
              "  </svg>\n",
              "      </button>\n",
              "      \n",
              "  <style>\n",
              "    .colab-df-container {\n",
              "      display:flex;\n",
              "      flex-wrap:wrap;\n",
              "      gap: 12px;\n",
              "    }\n",
              "\n",
              "    .colab-df-convert {\n",
              "      background-color: #E8F0FE;\n",
              "      border: none;\n",
              "      border-radius: 50%;\n",
              "      cursor: pointer;\n",
              "      display: none;\n",
              "      fill: #1967D2;\n",
              "      height: 32px;\n",
              "      padding: 0 0 0 0;\n",
              "      width: 32px;\n",
              "    }\n",
              "\n",
              "    .colab-df-convert:hover {\n",
              "      background-color: #E2EBFA;\n",
              "      box-shadow: 0px 1px 2px rgba(60, 64, 67, 0.3), 0px 1px 3px 1px rgba(60, 64, 67, 0.15);\n",
              "      fill: #174EA6;\n",
              "    }\n",
              "\n",
              "    [theme=dark] .colab-df-convert {\n",
              "      background-color: #3B4455;\n",
              "      fill: #D2E3FC;\n",
              "    }\n",
              "\n",
              "    [theme=dark] .colab-df-convert:hover {\n",
              "      background-color: #434B5C;\n",
              "      box-shadow: 0px 1px 3px 1px rgba(0, 0, 0, 0.15);\n",
              "      filter: drop-shadow(0px 1px 2px rgba(0, 0, 0, 0.3));\n",
              "      fill: #FFFFFF;\n",
              "    }\n",
              "  </style>\n",
              "\n",
              "      <script>\n",
              "        const buttonEl =\n",
              "          document.querySelector('#df-db7aeaff-9ecc-4275-9516-4a821e3d0cab button.colab-df-convert');\n",
              "        buttonEl.style.display =\n",
              "          google.colab.kernel.accessAllowed ? 'block' : 'none';\n",
              "\n",
              "        async function convertToInteractive(key) {\n",
              "          const element = document.querySelector('#df-db7aeaff-9ecc-4275-9516-4a821e3d0cab');\n",
              "          const dataTable =\n",
              "            await google.colab.kernel.invokeFunction('convertToInteractive',\n",
              "                                                     [key], {});\n",
              "          if (!dataTable) return;\n",
              "\n",
              "          const docLinkHtml = 'Like what you see? Visit the ' +\n",
              "            '<a target=\"_blank\" href=https://colab.research.google.com/notebooks/data_table.ipynb>data table notebook</a>'\n",
              "            + ' to learn more about interactive tables.';\n",
              "          element.innerHTML = '';\n",
              "          dataTable['output_type'] = 'display_data';\n",
              "          await google.colab.output.renderOutput(dataTable, element);\n",
              "          const docLink = document.createElement('div');\n",
              "          docLink.innerHTML = docLinkHtml;\n",
              "          element.appendChild(docLink);\n",
              "        }\n",
              "      </script>\n",
              "    </div>\n",
              "  </div>\n",
              "  "
            ]
          },
          "metadata": {},
          "execution_count": 111
        }
      ],
      "source": [
        "df1"
      ]
    },
    {
      "cell_type": "code",
      "execution_count": null,
      "metadata": {
        "colab": {
          "base_uri": "https://localhost:8080/"
        },
        "id": "rEeDV-Ck5Z2t",
        "outputId": "3c6b09a3-567e-4cc5-928c-409b17969664"
      },
      "outputs": [
        {
          "output_type": "execute_result",
          "data": {
            "text/plain": [
              "0    13\n",
              "1     2\n",
              "Name: RF_p, dtype: int64"
            ]
          },
          "metadata": {},
          "execution_count": 112
        }
      ],
      "source": [
        "df1['RF_p'].value_counts()"
      ]
    },
    {
      "cell_type": "code",
      "execution_count": null,
      "metadata": {
        "colab": {
          "base_uri": "https://localhost:8080/"
        },
        "id": "OrLnyEvU5c8G",
        "outputId": "fc61cf15-033b-4b9a-831b-66c331398097"
      },
      "outputs": [
        {
          "output_type": "execute_result",
          "data": {
            "text/plain": [
              "array([0, 0, 0, 0, 0, 0, 0, 0, 1, 0, 0, 1, 0, 0, 0])"
            ]
          },
          "metadata": {},
          "execution_count": 113
        }
      ],
      "source": [
        "RF_Model.predict(final_prediction_data)"
      ]
    },
    {
      "cell_type": "code",
      "execution_count": null,
      "metadata": {
        "colab": {
          "base_uri": "https://localhost:8080/"
        },
        "id": "-vcamB0k5gLA",
        "outputId": "403810a9-e8b9-4772-fb03-5a4b717ed2eb"
      },
      "outputs": [
        {
          "output_type": "execute_result",
          "data": {
            "text/plain": [
              "LogisticRegression()"
            ]
          },
          "metadata": {},
          "execution_count": 114
        }
      ],
      "source": [
        "logreg"
      ]
    },
    {
      "cell_type": "code",
      "execution_count": null,
      "metadata": {
        "colab": {
          "base_uri": "https://localhost:8080/"
        },
        "id": "NooQSjFP5jYO",
        "outputId": "d67e35fe-01a7-4dd7-e23b-854fc2705ccc"
      },
      "outputs": [
        {
          "output_type": "stream",
          "name": "stdout",
          "text": [
            "Looking in indexes: https://pypi.org/simple, https://us-python.pkg.dev/colab-wheels/public/simple/\n",
            "Collecting praw\n",
            "  Downloading praw-7.6.1-py3-none-any.whl (188 kB)\n",
            "\u001b[K     |████████████████████████████████| 188 kB 5.2 MB/s \n",
            "\u001b[?25hCollecting websocket-client>=0.54.0\n",
            "  Downloading websocket_client-1.4.2-py3-none-any.whl (55 kB)\n",
            "\u001b[K     |████████████████████████████████| 55 kB 3.2 MB/s \n",
            "\u001b[?25hCollecting prawcore<3,>=2.1\n",
            "  Downloading prawcore-2.3.0-py3-none-any.whl (16 kB)\n",
            "Collecting update-checker>=0.18\n",
            "  Downloading update_checker-0.18.0-py3-none-any.whl (7.0 kB)\n",
            "Requirement already satisfied: requests<3.0,>=2.6.0 in /usr/local/lib/python3.8/dist-packages (from prawcore<3,>=2.1->praw) (2.23.0)\n",
            "Requirement already satisfied: certifi>=2017.4.17 in /usr/local/lib/python3.8/dist-packages (from requests<3.0,>=2.6.0->prawcore<3,>=2.1->praw) (2022.9.24)\n",
            "Requirement already satisfied: idna<3,>=2.5 in /usr/local/lib/python3.8/dist-packages (from requests<3.0,>=2.6.0->prawcore<3,>=2.1->praw) (2.10)\n",
            "Requirement already satisfied: urllib3!=1.25.0,!=1.25.1,<1.26,>=1.21.1 in /usr/local/lib/python3.8/dist-packages (from requests<3.0,>=2.6.0->prawcore<3,>=2.1->praw) (1.24.3)\n",
            "Requirement already satisfied: chardet<4,>=3.0.2 in /usr/local/lib/python3.8/dist-packages (from requests<3.0,>=2.6.0->prawcore<3,>=2.1->praw) (3.0.4)\n",
            "Installing collected packages: websocket-client, update-checker, prawcore, praw\n",
            "\u001b[33m  WARNING: The script wsdump is installed in '/root/.local/bin' which is not on PATH.\n",
            "  Consider adding this directory to PATH or, if you prefer to suppress this warning, use --no-warn-script-location.\u001b[0m\n",
            "Successfully installed praw-7.6.1 prawcore-2.3.0 update-checker-0.18.0 websocket-client-1.4.2\n"
          ]
        }
      ],
      "source": [
        "!pip install --upgrade --user praw"
      ]
    },
    {
      "cell_type": "code",
      "execution_count": null,
      "metadata": {
        "colab": {
          "base_uri": "https://localhost:8080/",
          "height": 1000
        },
        "id": "fDXlFdwjsDqm",
        "outputId": "24861b70-584f-4771-b4a1-fe7ee738d16e"
      },
      "outputs": [
        {
          "output_type": "stream",
          "name": "stdout",
          "text": [
            "Looking in indexes: https://pypi.org/simple, https://us-python.pkg.dev/colab-wheels/public/simple/\n",
            "Collecting praw\n",
            "  Using cached praw-7.6.1-py3-none-any.whl (188 kB)\n",
            "Collecting update-checker>=0.18\n",
            "  Using cached update_checker-0.18.0-py3-none-any.whl (7.0 kB)\n",
            "Collecting websocket-client>=0.54.0\n",
            "  Using cached websocket_client-1.4.2-py3-none-any.whl (55 kB)\n",
            "Collecting prawcore<3,>=2.1\n",
            "  Using cached prawcore-2.3.0-py3-none-any.whl (16 kB)\n",
            "Collecting requests<3.0,>=2.6.0\n",
            "  Downloading requests-2.28.1-py3-none-any.whl (62 kB)\n",
            "\u001b[K     |████████████████████████████████| 62 kB 898 kB/s \n",
            "\u001b[?25hCollecting certifi>=2017.4.17\n",
            "  Downloading certifi-2022.12.7-py3-none-any.whl (155 kB)\n",
            "\u001b[K     |████████████████████████████████| 155 kB 10.3 MB/s \n",
            "\u001b[?25hCollecting charset-normalizer<3,>=2\n",
            "  Downloading charset_normalizer-2.1.1-py3-none-any.whl (39 kB)\n",
            "Collecting idna<4,>=2.5\n",
            "  Downloading idna-3.4-py3-none-any.whl (61 kB)\n",
            "\u001b[K     |████████████████████████████████| 61 kB 87 kB/s \n",
            "\u001b[?25hCollecting urllib3<1.27,>=1.21.1\n",
            "  Downloading urllib3-1.26.13-py2.py3-none-any.whl (140 kB)\n",
            "\u001b[K     |████████████████████████████████| 140 kB 43.5 MB/s \n",
            "\u001b[?25hInstalling collected packages: urllib3, idna, charset-normalizer, certifi, requests, websocket-client, update-checker, prawcore, praw\n",
            "  Attempting uninstall: urllib3\n",
            "    Found existing installation: urllib3 1.24.3\n",
            "    Uninstalling urllib3-1.24.3:\n",
            "      Successfully uninstalled urllib3-1.24.3\n",
            "  Attempting uninstall: idna\n",
            "    Found existing installation: idna 2.10\n",
            "    Uninstalling idna-2.10:\n",
            "      Successfully uninstalled idna-2.10\n",
            "  Attempting uninstall: charset-normalizer\n",
            "    Found existing installation: charset-normalizer 2.1.1\n",
            "    Uninstalling charset-normalizer-2.1.1:\n",
            "      Successfully uninstalled charset-normalizer-2.1.1\n",
            "  Attempting uninstall: certifi\n",
            "    Found existing installation: certifi 2022.9.24\n",
            "    Uninstalling certifi-2022.9.24:\n",
            "      Successfully uninstalled certifi-2022.9.24\n",
            "  Attempting uninstall: requests\n",
            "    Found existing installation: requests 2.23.0\n",
            "    Uninstalling requests-2.23.0:\n",
            "      Successfully uninstalled requests-2.23.0\n",
            "  Attempting uninstall: websocket-client\n",
            "    Found existing installation: websocket-client 1.4.2\n",
            "    Uninstalling websocket-client-1.4.2:\n",
            "      Successfully uninstalled websocket-client-1.4.2\n",
            "  Attempting uninstall: update-checker\n",
            "    Found existing installation: update-checker 0.18.0\n",
            "    Uninstalling update-checker-0.18.0:\n",
            "      Successfully uninstalled update-checker-0.18.0\n",
            "  Attempting uninstall: prawcore\n",
            "    Found existing installation: prawcore 2.3.0\n",
            "    Uninstalling prawcore-2.3.0:\n",
            "      Successfully uninstalled prawcore-2.3.0\n",
            "  Attempting uninstall: praw\n",
            "    Found existing installation: praw 7.6.1\n",
            "    Uninstalling praw-7.6.1:\n",
            "      Successfully uninstalled praw-7.6.1\n",
            "Successfully installed certifi-2022.12.7 charset-normalizer-2.1.1 idna-3.4 praw-7.6.1 prawcore-2.3.0 requests-2.28.1 update-checker-0.18.0 urllib3-1.26.13 websocket-client-1.4.2\n"
          ]
        },
        {
          "output_type": "display_data",
          "data": {
            "application/vnd.colab-display-data+json": {
              "pip_warning": {
                "packages": [
                  "certifi",
                  "requests",
                  "urllib3"
                ]
              }
            }
          },
          "metadata": {}
        }
      ],
      "source": [
        "!pip3 install praw --upgrade --force-reinstall"
      ]
    },
    {
      "cell_type": "code",
      "execution_count": null,
      "metadata": {
        "id": "ZySfMo9N5mtD"
      },
      "outputs": [],
      "source": [
        "import seaborn as sns\n",
        "from IPython import display\n",
        "from pprint import pprint\n",
        "import praw\n",
        "reddit = praw.Reddit(client_id='RNsXG7wsMtIsaHStOErUrA',\n",
        "client_secret='ZzRMNAa8pxD5gE2Cws8_OvBzD8wg4A',\n",
        "user_agent='Amin8686') "
      ]
    },
    {
      "cell_type": "code",
      "execution_count": null,
      "metadata": {
        "colab": {
          "base_uri": "https://localhost:8080/"
        },
        "id": "ylvrFmLx5rih",
        "outputId": "361bcd66-5cf2-4bd1-a337-38a1e84a6d1e"
      },
      "outputs": [
        {
          "output_type": "stream",
          "name": "stderr",
          "text": [
            "WARNING:praw:It appears that you are using PRAW in an asynchronous environment.\n",
            "It is strongly recommended to use Async PRAW: https://asyncpraw.readthedocs.io.\n",
            "See https://praw.readthedocs.io/en/latest/getting_started/multiple_instances.html#discord-bots-and-asynchronous-environments for more info.\n",
            "\n",
            "WARNING:praw:It appears that you are using PRAW in an asynchronous environment.\n",
            "It is strongly recommended to use Async PRAW: https://asyncpraw.readthedocs.io.\n",
            "See https://praw.readthedocs.io/en/latest/getting_started/multiple_instances.html#discord-bots-and-asynchronous-environments for more info.\n",
            "\n",
            "WARNING:praw:It appears that you are using PRAW in an asynchronous environment.\n",
            "It is strongly recommended to use Async PRAW: https://asyncpraw.readthedocs.io.\n",
            "See https://praw.readthedocs.io/en/latest/getting_started/multiple_instances.html#discord-bots-and-asynchronous-environments for more info.\n",
            "\n",
            "WARNING:praw:It appears that you are using PRAW in an asynchronous environment.\n",
            "It is strongly recommended to use Async PRAW: https://asyncpraw.readthedocs.io.\n",
            "See https://praw.readthedocs.io/en/latest/getting_started/multiple_instances.html#discord-bots-and-asynchronous-environments for more info.\n",
            "\n"
          ]
        },
        {
          "output_type": "stream",
          "name": "stdout",
          "text": [
            "400\n"
          ]
        }
      ],
      "source": [
        "news = set() \n",
        "for sub in reddit.subreddit('politics').new(limit=400):\n",
        "    news.add(sub.title)\n",
        "print(len(news))"
      ]
    },
    {
      "cell_type": "code",
      "execution_count": null,
      "metadata": {
        "id": "wL9v-O3y5wWQ",
        "colab": {
          "base_uri": "https://localhost:8080/"
        },
        "outputId": "449b3e1b-24bd-49ac-b23a-169d648cf16a"
      },
      "outputs": [
        {
          "output_type": "execute_result",
          "data": {
            "text/plain": [
              "{\"'Don't Say Gay' Florida lawmaker Rep. Joe Harding indicted on COVID-19 relief fraud charges\",\n",
              " \"'Don't Say Gay' Florida lawmaker indicted on fraud charges\",\n",
              " '8 bad things that have happened to Trump in the 3 weeks since he launched his presidential campaign',\n",
              " '9 million Americans were wrongly told they were approved for student debt forgiveness',\n",
              " 'A Billionaire Got the Chicago Mayor’s Support to Lease Public Land. Then He Wrote Her Campaign a $25,000 Check.',\n",
              " 'A Redistricting Case at the Supreme Court May Overhaul Elections',\n",
              " 'A former Florida congressman is arrested on charges of lobbying for Venezuela',\n",
              " 'A new day? Voters stood up for democracy — and now we have the data|America has a long way to go in redeeming democracy — but the midterm exit polls tell a story of hope',\n",
              " 'AOC Is Under Investigation by the House Ethics Committee',\n",
              " 'AOC facing House Ethics Committee investigation',\n",
              " 'Absolute Madness: The Warnock-Walker Runoff Should Never Have Been This Close',\n",
              " 'After Constitution idiocy, Trump is weaker than ever. GOP, dump this loser for good',\n",
              " 'After Georgia loss, anti-Trump Republicans grow louder: ‘He’s less relevant all the time’',\n",
              " \"Alito's mentions of Ashley Madison and children wearing KKK costumes cap an awkward Supreme Court day\",\n",
              " 'Alito’s Quip About Children, KKK Creates Awkward Supreme Court Moment',\n",
              " 'America underwater: Extreme floods expose the flaws in FEMA’s risk maps',\n",
              " 'An 88-Year First: Democrats Defend All Their Senate Seats While Holding White House',\n",
              " 'Analysis: How Raphael Warnock defeated Herschel Walker',\n",
              " \"Andy Biggs: Arizona Republican announces run for speaker, making McCarthy's path to win speakership on first ballot even more challenging\",\n",
              " 'Arizona Certifies Midterm Results After G.O.P. Resistance',\n",
              " 'Arizona certifies midterm election results',\n",
              " 'Arkansas town elects youngest Black mayor in US',\n",
              " 'As fatal police shootings increase, more go unreported',\n",
              " 'Attacks on US power grid have been subject of extremist chatter for years. DHS bulletin warns of attacks on critical infrastructure amid other targets.',\n",
              " 'Bail reform is working. Why are Democrats running away from it?',\n",
              " 'Bennie Thompson: Jan. 6 Panel Will Make Criminal Referrals Based on Its Findings',\n",
              " 'Bernie Sanders to Bring Yemen War Powers Resolution to the Floor as Soon as Next Week',\n",
              " 'Biden Backs Adding Manchin Energy Bill to Must-Pass Defense Measure',\n",
              " 'Biden Calls for Fossil-Free Federal Buildings in Blow to Gas',\n",
              " 'Biden administration appeals court decision that blocked the Trump-era policy that let the US turn away migrants at the southern border',\n",
              " 'Biden administration will expand, extend temporary status for Haitians',\n",
              " \"Biden administration working with Congress on 'deterrence' over Taiwan - White House\",\n",
              " 'Biden approval, views of economy steady, sour: AP-NORC poll',\n",
              " 'Biden blasted as court dismisses Khashoggi lawsuit against saudi crown prince Mohammed Bin Salman',\n",
              " \"Biden defends skipping border visit while in Arizona, says there are 'more important things'\",\n",
              " 'Biden plays Scrooge, takes your Christmas cash with high inflation',\n",
              " 'Biden says ‘more important things’ than border visit, despite 59 trips to Delaware, 8 stops for ice cream',\n",
              " 'Biden signs #MeToo law curbing confidentiality agreements',\n",
              " 'Biden signs bill that lets domestic violence survivors remove abusers from phone plans',\n",
              " 'Biden signs law curbing nondisclosure agreements that block victims of sexual harassment from speaking out',\n",
              " 'Biden to announce $36 billion in relief for major pension fund to avoid benefit cuts',\n",
              " 'Biden to speak on gun violence at vigil marking Sandy Hook ten-year anniversary',\n",
              " 'Biden visits Arizona computer chip site, highlights jobs',\n",
              " 'Biden visits Arizona semiconductor factory site, highlights chip industry jobs',\n",
              " \"Biden's student-debt relief reform plans are paving the way for an 'untold amount about to be billed to the American people,' GOP House lawmakers say\",\n",
              " 'Biden’s latest student loan payment extension is unlawful',\n",
              " 'Big cats: US Senate unanimously passes bill to curb private ownership',\n",
              " 'Bill restricting big cat ownership made famous by ‘Tiger King’ heads to Biden’s desk',\n",
              " 'Blackwell confirmed by Senate, heads to bench on federal court in Minneapolis',\n",
              " 'Budowsky: Joe Biden seeks ‘Morning in America’',\n",
              " 'Calling Out the Guys Who Have No Idea What Integrity Is',\n",
              " 'Candidates make final push in Georgia with critical Senate seat on the line',\n",
              " \"Capitol Police chief: Jan. 6 failures 'largely' fixed but extremism threat persists\",\n",
              " 'Cherokee Nation wants to send a delegate to the House – it’s an idea older than Congress itself',\n",
              " 'Cigarette companies ordered to display health warning signs at retailers',\n",
              " \"Clarence Thomas' Own Ruling Used Against Him in High-Stakes Election Case\",\n",
              " \"Classified Docs Found at Trump Storage Unit With 'Swords and Wrestling Belts'\",\n",
              " 'Colorado is among least conservative states: cpac analysis',\n",
              " 'Commerce Secretary Raimondo Meets With One Corporate Executive per Day',\n",
              " 'Con Law: How a Fake Document Could Help the Supreme Court Diminish our Democracy They’ve adopted alternative facts, but are the conservative justices ready to embrace fraud?',\n",
              " 'Congress Awards Highest Honor to Officers Who Protected the Capitol on Jan. 6',\n",
              " 'Congress approves A-10 retirements, more F-35s in defense bill',\n",
              " 'Congress dropped a controversial media bill which saw Facebook threaten to ax news in the US if the act passed, report says',\n",
              " 'Congress makes push for nationwide digital privacy regulations',\n",
              " 'Congress reveals plan to increase defense budget by 8%',\n",
              " 'Conservative justices come to same-sex marriage controversy with minds made up',\n",
              " 'Conservative justices seem poised to side with web designer who opposes same-sex marriage',\n",
              " 'Corruption Charges Dismissed Against Ex-Lt. Gov. Brian Benjamin',\n",
              " 'DOJ subpoenas Wis., other state election officials for Trump documents',\n",
              " 'DOJ subpoenas election officials in states Trump disputed',\n",
              " 'DOJ subpoenas officials in Wisconsin, Michigan and Arizona for communications with Trump around 2020 election',\n",
              " 'DeSantis to offer VIP access to his inauguration — for between $50K to $1 million',\n",
              " 'DeSantis-backed school boards begin ousting Florida educators',\n",
              " 'Defense bill includes years-long proposal to combat sexual assault in military',\n",
              " \"Democratic lawmakers want Elon Musk to explain China's role in 'platform manipulation' during protests\",\n",
              " 'Democrats Make Last-Ditch Effort To Bring Back Cash Payments For Parents',\n",
              " 'Democrats ditch Manchin’s ‘dirty deal’ after opposition from climate activists',\n",
              " 'Democrats ramp up investigation of Kushner family business dealings',\n",
              " 'Dems Back Blue Dog Spanberger for Swing District Post Over Progressive Cartwright',\n",
              " 'Discussion Thread: Georgia Runoff Election for US Senate',\n",
              " 'Donald Trump Demands To Be Restored To Power After Americans Deprived Of Constitutional Right To See Hunter Biden Dick Pics',\n",
              " 'Donald Trump Is 2022’s Biggest Loser, But the GOP Doesn’t Have the Guts to Reject Him: Republicans have talked a good game about breaking up with Trump, but none seem to want to actually do it.',\n",
              " 'Donald Trump and His Terrible, Horrible, No Good, Very Bad 3 Weeks',\n",
              " \"Donald Trump condemned for 'anti-American and fascist' proposal to terminate the Constitution\",\n",
              " 'Donald Trump is begging for attention. Nobody cares.',\n",
              " 'Donald Trump ridiculed after suffering three major blows in one disaster day: ‘Ketchup on the walls’',\n",
              " 'Don’t Blame Republicans. “Amtrak Joe” Biden Is the One Who Defeated the Railworkers.',\n",
              " 'Ducey endorses an Election Day plan that could help tally votes faster, but at a cost',\n",
              " \"Emhoff: 'Epidemic of Hate' Exists in US, Can't Be Normalized\",\n",
              " \"Emhoff: 'Epidemic of hate' exists in US, can't be normalized\",\n",
              " \"Ethics panel directs Madison Cawthorn to donate $15K for improperly promoting Let's Go Brandon cryptocurrency\",\n",
              " \"Every Day Is Jan. 6 For Donald Trump's 2024 Presidential Campaign\",\n",
              " 'Ex-Miami US Rep. David Rivera arrested in Venezuela probe',\n",
              " 'Ex-RNC Chair Makes Stark Prediction About Rep. Marjorie Taylor Greene',\n",
              " 'Explosive letter sent to everyone who helps Ukraine fight Russia, could it be from Russia? An investigation has been opened',\n",
              " 'FBI got earlier tip about Colorado Springs gay bar shooter',\n",
              " 'Factbox: What legal problems does U.S. presidential candidate Trump face?',\n",
              " 'Family of Jan. 6 officer declines GOP leaders’ handshakes at ceremony',\n",
              " 'Family of fallen Capitol Police officer refuses to shake hands with McCarthy, McConnell at medal ceremony',\n",
              " 'Family of fallen January 6 officer explains snubbing McConnell and McCarthy: ‘This is an integrity issue’',\n",
              " 'Family of fallen officer snubs McCarthy and McConnell as Congress honors law enforcement who defended the Capitol on Jan. 6',\n",
              " 'Far-right extremists turn on Marjorie Taylor Greene & call her a “slave” to Democrats',\n",
              " 'Fearing scandal, Air Force blocked generals’ foreign consulting deals',\n",
              " 'Federal Judge denies filed injunction motion against Measure 114',\n",
              " \"Federal appeals court considers Trump's plea to grant him immunity from Capitol riot lawsuits\",\n",
              " 'Federal judge throws out bribery, fraud charges against former New York lieutenant governor',\n",
              " 'Feds arrest former Miami Congressman Rep. David Rivera',\n",
              " \"Feds bring COVID fraud charges against the author of Florida's 'Don't Say Gay' law\",\n",
              " 'Florida Republican behind state\\'s \"Don\\'t Say Gay\" bill accused of COVID aid fraud',\n",
              " 'Florida Republican who sponsored ‘Don’t Say Gay’ indicted on Covid relief fraud charges',\n",
              " 'Florida lawmaker for Marion County indicted in SBA loan scheme',\n",
              " 'Florida watchdog group’s report raises questions about use of ‘ghost candidates’',\n",
              " 'Florida’s ‘don’t say gay’ bill author indicted for money laundering',\n",
              " \"Former Miami Congressman Rivera's indictment underscores Sen. Rubio's connection\",\n",
              " 'Friends to the left of him, critics to the right: McCarthy’s stuck in the chase',\n",
              " 'GAO releases report blasting colleges for misleading financial aid letters',\n",
              " 'GOP Election Losers Are Getting Even Weirder on Twitter',\n",
              " 'GOP Leadership Silent on Trump’s Calls to Terminate Constitution',\n",
              " 'GOP Sponsor Of Florida’s ‘Don’t Say Gay’ Bill Indicted On Fraud Charges',\n",
              " \"GOP senators tune out House conservatives' impeachment calls\",\n",
              " 'GOP slowly begins to condemn Trump’s call to terminate Constitution, but many remain silent',\n",
              " 'GOP-led states ban TikTok on government devices',\n",
              " 'Gay congressional staffer speaks out after being attacked by Marjorie Taylor Greene & her followers | Tim Hysom says he has been inundated with anti-LGBTQ+ threats and slurs.',\n",
              " 'Georgia Candidate Who Thinks 2020 Was Stolen Apparently Voted Illegally 9 Times',\n",
              " 'Georgia Democrats Are Going Into Overdrive to Reelect Raphael Warnock',\n",
              " 'Georgia Republicans are losing faith in Herschel Walker as runoff election concludes, report says',\n",
              " 'Georgia Senate voters have a moral choice. White Christians are choosing hypocrisy',\n",
              " 'Georgia run-off should rightly be no contest (Editorial)',\n",
              " 'Georgia voters once again have the last word during election season',\n",
              " \"Georgia's Early Voting Turnout Far Lower Than Last Runoff After State Changes Election Laws\",\n",
              " 'Georgia’s runoff system was created to dilute Black voting power',\n",
              " 'Good Riddance to the Iowa Caucuses: The Democrats should have pushed the Hawkeye State to the back of the line decades ago.',\n",
              " 'Gosar tweets, then deletes, support for Trump’s Constitution termination statement',\n",
              " 'Gov. Greg Abbott says he will nominate retiring state Sen. Jane Nelson to be secretary of state',\n",
              " 'Governor Green promises ‘new beginnings’ during first day in office',\n",
              " 'Gаs suррlу аt сеntеr of nеw US-UК еnеrgу расt',\n",
              " 'Hello! You’ve Been Referred Here Because You’re Wrong About Twitter And Hunter Biden’s Laptop',\n",
              " \"Herschel Walker Concedes Senate Race: 'No Excuses'\",\n",
              " 'Herschel Walker Is an American Tragedy',\n",
              " \"Herschel Walker Lost, But It's a Very Bad Sign That He Had Any Chance at All\",\n",
              " 'Herschel Walker Lost, But the GOP Is Still Poisoned By MAGA Loonies',\n",
              " 'Herschel Walker concedes and says, ‘we put up one heck of a fight’',\n",
              " \"Herschel Walker just wrote Donald Trump's political obituary\",\n",
              " \"Herschel Walker's son says Trump called his father for months demanding that he run, while 'everyone with a brain' begged him not to\",\n",
              " 'House Delays Passage of Same-Sex Marriage Bill',\n",
              " 'House Ethics Committee admonishes Rep. Madison Cawthorn over crypto promotion, failure to disclose stake',\n",
              " 'House Jan. 6 Committee to Issue Criminal Referrals, Chairman Says',\n",
              " 'House January 6 committee considering criminal referrals for Trump, sources tell CNN',\n",
              " 'House January 6 committee has decided to make criminal referrals, chairman says',\n",
              " 'House Republicans seek testimony from Twitter employees who oversaw handling of the New York Post’s Hunter Biden laptop story',\n",
              " 'House Republicans ‘May Dig Their Own Grave’ With Fringe Political Investigations',\n",
              " 'How North Carolina’s Political Warfare Could Impact The Entire Country',\n",
              " 'How Right-Wing Groups Set the Stage for the Supreme Court to Rig Future Elections',\n",
              " \"How Trump's legacy became 'pure poison' for independents\",\n",
              " 'How some state legislatures are preparing to further limit reproductive rights',\n",
              " 'Inside the fight for an end-of-year deal on the child tax credit',\n",
              " 'Inside the turmoil roiling No Labels’ unity ticket presidential campaign',\n",
              " 'Interracial marriages to get added protection under new law',\n",
              " 'Is It Possible To Get Fair Coverage Of The Link Tax Bill When The News Orgs Covering It Are The Main Beneficiaries?',\n",
              " \"It's official: Kari Lake, Kelli Ward and the Arizona GOP have lost their minds\",\n",
              " 'Items with classified markings found at Trump storage unit in Florida',\n",
              " 'Items with classified markings found in Trump storage unit: reports',\n",
              " 'I’m the Governor of North Carolina. This Fringe Claim Before the Supreme Court Would Upend Democracy.',\n",
              " 'Jan. 6 Congressional Gold Medal Honorees Snub Kevin McCarthy, Mitch McConnell',\n",
              " 'Jan. 6 committee chair expects panel to issue criminal referrals to DOJ',\n",
              " 'Jan. 6 committee report will be released Dec. 21, Thompson says',\n",
              " 'Jan. 6 committee to issue criminal referrals, chairman says',\n",
              " 'Jan. 6 committee will make criminal referrals, chair Bennie Thompson says',\n",
              " 'January 6 Committee will make criminal referrals',\n",
              " 'John Bolton says he may launch presidential bid to stop Trump',\n",
              " 'John Bolton ‘going to seriously consider’ challenging Trump',\n",
              " 'John Kerry Plans to Meet With Biden to Discuss His Future as Climate Envoy. In an interview, Mr. Kerry said he would meet with the president next week to talk about “the road ahead.”',\n",
              " 'Journalism Defenders Push for Passage of \\'Game-Changing\\' PRESS Act|\"The PRESS Act is the most important free press legislation in modern times because it would finally stop the government from spying on journalists and threatening them with arrest for doing their jobs,\" explained one advocate.',\n",
              " 'Justice Dept. subpoenas Ariz., Mich., Wis. officials for Trump communications',\n",
              " 'Justice Ketanji Brown Jackson Asks Simplest, Most Damning Question As Supreme Court Entertains Canceling Democratic Elections',\n",
              " 'Justices skeptical of elections case that could alter voting',\n",
              " \"Kari Lake goes out with a whimper: She couldn't galvanize Trump's Jan. 6 army\",\n",
              " 'Kevin McCarthy Threatens to Defund Military If Vaccine Mandate Not Lifted',\n",
              " 'Kevin McCarthy receives backlash from right after attending Biden dinner',\n",
              " \"Kevin McCarthy's speaker bid is rapidly accelerating toward chaos\",\n",
              " 'LGBTQ Youth Are Under Attack. Why Are Democrats Pushing a Bill That Hurts Them Even More?',\n",
              " 'Lauren Boebert Still Hasn’t Deleted Tweet Defending Kanye',\n",
              " 'Lauren Boebert finally said something right about LGBTQ+ issues | Even a stopped clock is right twice a day.',\n",
              " 'Law to require job postings include salary ranges in Washington',\n",
              " \"Lawmakers condemn Trump's call to suspend Constitution\",\n",
              " 'Lawmakers face closing window to pass landmark bipartisan marijuana bill',\n",
              " 'Lawmakers press Pentagon for answers about veterans’ foreign jobs',\n",
              " 'League of Women Voters, Mormon Women for Ethical Government accuse Utah lawmakers of gerrymandering',\n",
              " 'MORE Classified Docs Reportedly Found in Trump’s Storage Unit',\n",
              " 'Maggie Hassan and Jeanne Shaheen, N.H. senators, skip White House ball to protest 2024 primary plan',\n",
              " 'Mainstream Republicans back Marjorie Taylor Greene audit of Ukraine aid',\n",
              " \"Man who helped steal Nancy Pelosi's laptop while storming the Capitol with his mother pleads guilty\",\n",
              " 'Manchin spat with energy regulator could be self-sabotage, experts say',\n",
              " \"Manchin: DOE official Sam Brinton in 'big trouble' but shouldn't be fired yet for snatching $2K bag\",\n",
              " \"Manhattan DA's office hires attorney with extensive experience investigating Trump, suing his administration\",\n",
              " 'Marjorie Taylor Greene mocked for saying Herschel Walker’s ‘major mistake’ was not using her',\n",
              " 'Marjorie Taylor Greene mocked over lacklustre reception at parade walk',\n",
              " 'Mary Peltola will not toe the party line, in the nicest way possible',\n",
              " 'McCarthy’s struggle to lock down House Speaker roils GOP caucus, delays key committee assignments',\n",
              " \"McConnell criticizes Trump's calls to terminate the Constitution\",\n",
              " 'Meet the Idaho Christians pushing for greater LGBTQ representation in government',\n",
              " 'Megathread: Raphael Warnock Wins Re-Election in Georgia Runoff',\n",
              " \"Michigan Senate leader warns of push for 'one world governance' in farewell speech\",\n",
              " 'Michigan church sues state over LGBTQ civil rights protections',\n",
              " 'Midterms sent message to deliver for women or ignore them at our peril',\n",
              " 'Mike Lee is raising money for Herschel Walker’s campaign — and keeping half of the cash for himself. The Utah senator joins other Republicans, including Donald Trump, who are using Walker’s campaign to boost their own campaign coffers.',\n",
              " 'Military COVID-19 vaccine mandate repealed in defense bill compromise',\n",
              " \"Mitch McConnell Says Trump Would Have 'A Very Hard Time' Becoming President Again\",\n",
              " \"Mitt Romney Mocks 'RINO' Trump Over His Call To Torch Constitution\",\n",
              " 'More Classified Items Found in Storage Unit Used by Donald Trump: Report',\n",
              " 'More than 500 Labor Historians Condemn Biden’s Intervention in Freight Rail Dispute',\n",
              " 'More than 70% of voters in poll want Biden to release JFK assassination records',\n",
              " 'National civil rights groups urge US House to pass resolution condemning Insular Cases - Pasquines',\n",
              " 'Navajo women make historic gains in elections, increase influence on tribal council',\n",
              " 'Nearly 1 million immigrants became U.S. citizens in past year, the 3rd highest tally on record',\n",
              " 'New DOJ Special Counsel Jack Smith Subpoenas Trump Records In 4 States',\n",
              " 'New Peru president sworn in, predecessor Castillo arrested',\n",
              " 'New York Rep. Alexandria Ocasio-Cortez under investigation by House Ethics Committee',\n",
              " 'Newly Elected Broward School Board Member Attends Rally Against \"Radicalized Sexual Curriculum\"',\n",
              " 'Newsom unveils plan to cap oil refinery profits, accusing industry of gas price gouging',\n",
              " 'Ocasio-Cortez under investigation by House Ethics Committee',\n",
              " 'Of Course You Should Be Required To Serve LGBTQ Customers | On the ludicrous idea that “pluralism” and “free speech” require us to give homophobes an exemption to anti-discrimination laws.',\n",
              " 'Officers to receive Congressional Gold Medals for Jan. 6',\n",
              " 'Officers who defended Capitol from Trump supporters honored',\n",
              " \"On Pearl Harbor Day, Paul Gosar supports Trump's call to 'terminate' the Constitution\",\n",
              " 'Once Upon a Time the US Taxed the Rich',\n",
              " 'Opinion: Arizonans aren’t buying what Kari Lake is peddling',\n",
              " 'Oral Argument Preview: Blassingame v. Trump',\n",
              " 'Oregon Association Chiefs of Police Challenges Measure 114',\n",
              " 'Oregon Measure 114 remains temporarily blocked by Harney County judge; state Supreme Court won’t intervene',\n",
              " 'Oregon Measure 114 temporarily blocked by Harney County judge in separate challenge',\n",
              " 'Ousted Woonsocket mayor to be sworn back in after reelection',\n",
              " 'Outgoing elections chief in Nevada county details threats',\n",
              " 'Patient Groups Push Congress to Combat Big Pharma Greed in Spending Bill',\n",
              " 'Pennsylvania panel to vote on proposal defining sex, race',\n",
              " \"Police called to Sen. Ted Cruz's home in 'family matter'\",\n",
              " 'Police officers receive Congressional Gold Medals for defending the U.S. Capitol on Jan. 6',\n",
              " 'Police snub McConnell and McCarthy at Jan. 6 gold medal ceremony',\n",
              " 'President Biden coming to Arizona for semiconductor manufacturing plant visit',\n",
              " 'Prison system blunders led to Whitey Bulger’s killing, DOJ watchdog says',\n",
              " 'Progressives push back on effort to put Manchin permitting deal in NDAA',\n",
              " \"Proud Boys Leader Enrique Tarrio Wants Jan. 6 Seditious Conspiracy Charge Dropped Because Feds Won't Give Immunity to Defense Witness\",\n",
              " 'RNC chief on criticism of early voting: ‘We need to stop that’',\n",
              " 'Rail strike bill: Both sides do it — wage relentless war against the working class, that is',\n",
              " 'Rail workers warn of exodus after Congress forces through deal',\n",
              " 'Railroad workers speak out after Congress and Biden block rail strike',\n",
              " \"Rep. Adam Schiff said 'facts support' indicting Trump and that the January 6 panel will make its evidence public so the GOP can't 'cherry-pick' and 'mislead the country'\",\n",
              " 'Rep. Gosar deletes tweet backing Trump\\'s call to \"terminate\" parts of Constitution',\n",
              " 'Rep. Paul Gosar Deleted Tweet Backing Trump’s Call to Throw Out Constitution',\n",
              " \"Rep. Paul Gosar Endorses Trump's Call To Terminate The Constitution\",\n",
              " 'Rep. Paul Gosar Endorses Trump’s Call to ‘Terminate’ Constitutional Rules',\n",
              " 'Report: Classified items found at Trump storage unit in Fla.',\n",
              " 'Representatives of Congressional Gold Medal Recipients Decline to Shake Hands with Republican Leaders',\n",
              " 'Republican senators are turning on Trump',\n",
              " 'Republicans Begin Speaking Against Trump’s Call To Terminate Democracy',\n",
              " 'Republicans have a post-election epiphany on mail voting',\n",
              " 'Revealing He Too Had Manning Leaks, Ellsberg Dares DOJ to Prosecute Him Like Assange',\n",
              " 'SCOTUS Arguments in Anti-Gay Marriage Web Designer’s Case Filled with Questions About ‘Hamilton,’ JDate, Black Santa, and Kids in KKK Outfits',\n",
              " 'Same-sex couples wary despite federal marriage rights bill',\n",
              " 'San Francisco supervisors abruptly reverse lethal police robot policy',\n",
              " 'San Francisco supervisors bar police robots from using deadly force for now',\n",
              " 'Sanders Says He Has Enough Support to Pass Yemen War Powers Resolution',\n",
              " 'Santa Clara D.A. says he’s leaving Twitter over rise of hate speech',\n",
              " 'Santa Cruz County Sheriff threatening action against people working on shipping container border wall',\n",
              " 'Secretary Haaland Announces New Steps to Accelerate Solar Energy Development on Public Lands in the West | BLM kicks off process to develop new West-wide solar plan; Initiates reviews for three solar projects in Arizona totaling 1 gigawatt of clean energy',\n",
              " 'Senate Republicans turn on Trump over suspend-the-Constitution talk',\n",
              " 'Senate conservatives plot their second act after taking on McConnell',\n",
              " 'Senators draft bipartisan framework to legalize DACA recipients and extend Trump-era border policy',\n",
              " 'Shelved since 2018, this WA gun law may finally be implemented soon',\n",
              " 'Shirkey pushes conspiracies, foreshadows ‘God-like’ entities in final Senate speech',\n",
              " 'Should We Abolish Prisons? America’s prisons are grossly dehumanizing and unjust. The eminent political philosopher Tommie Shelby debates prison abolition and what kind of radical change justice demands.',\n",
              " 'Sioux City emails detail struggle to get payments for Trump rally; over $11,000 left unpaid',\n",
              " 'So Republicans want to read the Constitution? They should look at these parts.',\n",
              " 'Some Members Of The Right-Wing Majority Express Skepticism About Dangerous Election Theory',\n",
              " 'Someone Threatened To Kill A California Lawmaker After Charlie Kirk And Marjorie Taylor Greene Criticized His Work Supporting Trans Kids And Called Him A \"Groomer\"',\n",
              " 'Special counsel subpoenas Trump-related documents from state and local election officials',\n",
              " 'State judge places hold on Oregon’s gun law, state to appeal',\n",
              " 'Stitt has vowed to revive a private school voucher plan, but details are scarce. Similar programs in other states have seen legal challenges and criticisms that they mostly benefit the wealthy.',\n",
              " \"Supreme Court Appears to Lean Toward Ruling for Antigay Web Designer. The court's conservative majority seemed to sympathize with a designer who argues she has a legal right to turn away same-sex couples who seek wedding websites.\",\n",
              " 'Supreme Court Hears Arguments On Fringe Election Theory That Could Upend American Democracy',\n",
              " 'Supreme Court Justice Alito jokes about Black Santa and Ashley Madison during arguments in same-sex weddings case',\n",
              " 'Supreme Court Justice Amy Coney Barrett is likely to block a GOP attack on democracy, in Moore v. Harper',\n",
              " 'Supreme Court Seems Split Over Case That Could Transform Federal Elections',\n",
              " 'Supreme Court asks to hear from state in Arkansas Times challenge of anti-boycott law',\n",
              " 'Supreme Court conservatives hint they may rule narrowly for GOP in election map dispute',\n",
              " 'Supreme Court grapples with ‘independent state legislature’ theory in blockbuster case',\n",
              " 'Supreme Court hears Republican bid to transform U.S. elections',\n",
              " 'Supreme Court hears case that could reshape US election laws',\n",
              " 'Supreme Court likely to rule that Biden student loan plan is illegal, experts say. Here’s what that means for borrowers',\n",
              " 'Supreme Court searches for middle ground in North Carolina elections case',\n",
              " 'Supreme Court set to hear North Carolina case that argues only lawmakers can draw congressional maps',\n",
              " 'Supreme Court to consider fundamental change in elections authority. With the country deeply divided over whether to trust elections, North Carolina wants to give state legislatures complete oversight',\n",
              " 'Supreme Court to hear controversial election-law case',\n",
              " 'Supreme Court weighs GOP bid to give state lawmakers free rein over election rules',\n",
              " 'Takeaways from Moore v. Harper, the historic Supreme Court arguments on election rules',\n",
              " \"Tampa Police Chief Mary O'Connor resigns after flashing badge and asking to be let go from a traffic stop\",\n",
              " 'The \"What happened in your state last week?\" Megathread, Week 49',\n",
              " 'The Averted National Rail Strike Is a Parable of Contemporary American Capitalism | Railroads are prioritizing payments to Wall Street stockholders over everything else, including serving the public interest.',\n",
              " 'The Biden Administration Will Allow Agencies to Appoint Some Employees Into 10-Year Temporary Jobs',\n",
              " 'The Defense Department Finally Has a Permanent Watchdog',\n",
              " 'The Far Right Is Dumping Marjorie Taylor Greene',\n",
              " 'The GOP has a big problem beyond Trump: It lacks compelling alternatives',\n",
              " 'The GOP’s ‘stolen-election’ fever has dropped, for now',\n",
              " 'The Georgia GOP may have made things harder for Herschel',\n",
              " 'The Midterms Have Rebuilt Democrats’ Presidential Bench',\n",
              " 'The NLRB Protects Workers’ Right To Organize, Yet Remains Underfunded',\n",
              " 'The Supreme Court Could Chop Away at Anti-Discrimination Law Based on Literally Nothing',\n",
              " 'The Supreme Court Is Turning Into a Court of First Resort',\n",
              " 'The Supreme Court Needs Real Oversight',\n",
              " \"The Supreme Court Will Consider A 'Dangerous' Theory That Could Break American Democracy\",\n",
              " 'The Supreme Court’s Most Conservative Justices Got Humiliated on Wednesday',\n",
              " 'The Terminator',\n",
              " 'The Untold Story of the Insular Texas Family That Invaded the U.S. Capitol',\n",
              " 'The White House hosts Jewish leaders to discuss rising antisemitism',\n",
              " 'The biggest losers in the US midterm elections? Republican mega-donors',\n",
              " 'The incredibly unsubtle Amy Coney Barrett response that should worry LGBTQ Americans The Supreme Court has delivered a consistent chilling message over the past year: Facts and precedent don’t matter if they obstruct conservative justices’ ideological extremist ends.',\n",
              " 'The looming debt ceiling fight could be the messiest since 2011, Goldman Sachs says',\n",
              " 'The number of undocumented immigrants in detention centers has increased by more than 50% since Biden took office',\n",
              " 'The tragedy of Herschel Walker',\n",
              " 'There’s a way for Biden to break through the gridlock',\n",
              " 'These Georgia Precincts Were Red. Then Blue. Now They Are Purple.',\n",
              " 'This kind of week could break Donald Trump',\n",
              " 'Thompson says Jan. 6 committee has made decision on criminal referrals',\n",
              " 'To address wealth gap, WA to consider $4,000 ‘baby bonds’',\n",
              " 'Top US conservatives pushing Russia’s spin on Ukraine war, experts say',\n",
              " 'Transgender State Employees Win Obamacare Claim in Insurance Row',\n",
              " 'Trial ordered for 5 men involved in plot to kidnap Michigan Gov. Whitmer',\n",
              " 'Trump \"paying for the silence\" of Mar-a-Lago witnesses—Former prosecutor',\n",
              " 'Trump Bedeviled by Company’s Conviction and Senate Candidate’s Defeat',\n",
              " 'Trump Faces New Danger as Jan. 6 Committee Announces Criminal Referrals',\n",
              " 'Trump Hired Team to Search His Properties for Classified Material',\n",
              " 'Trump Says New York ‘Hard Place To Be A Trump’ After Company Convicted Of Tax Fraud',\n",
              " 'Trump asks U.S. appeals court to block civil Jan. 6 lawsuits',\n",
              " 'Trump did not disclose $19.8m loan while president, documents show',\n",
              " 'Trump falsely claims he never called to ‘terminate’ US constitution despite having said exactly that',\n",
              " 'Trump hosts Mar-a-Lago event with prominent QAnon, Pizzagate conspiracy theorist',\n",
              " \"Trump hosts event featuring QAnon, 'Pizzagate' conspiracy theorist at Mar-a-Lago\",\n",
              " 'Trump insists he doesn’t want to ‘terminate’ Constitution',\n",
              " 'Trump lawyers hire outside team to search four properties for classified info',\n",
              " 'Trump lawyers ordered ‘outside firm’ to search his other homes for classified documents, report says',\n",
              " 'Trump team searches two of his properties amid court battle with DOJ',\n",
              " \"Trump's legal team should have known better - Requesting a special master to review records that were lawfully seized from Mar-a-Lago ignores the separation of powers and the law\",\n",
              " \"Trump's slow 2024 start worries allies\",\n",
              " 'Trump’s Constitution remarks put McConnell, GOP on defense',\n",
              " 'Trump’s Criminal Nightmare Officially Begins',\n",
              " 'Trump’s Not Done with America. And America Just Might Not Be Done with Him.',\n",
              " 'Trump’s PAC Is Paying the Legal Bills for Key Classified-Docs Witnesses, and There’s Definitely Nothing Slippery About That, No Siree',\n",
              " 'Trump’s committee paying for lawyers of key Mar-a-Lago witnesses',\n",
              " \"Twitter Users Shocked By Justice Alito's Joke About Black Kids In KKK Robes\",\n",
              " 'U.S. Court Dismisses Suit Against Saudi Ruler in Khashoggi Killing | The court followed the Biden administration’s guidance that Crown Prince Mohammed bin Salman has immunity as a head of government in a case over the death of Jamal Khashoggi.',\n",
              " 'U.S. DOJ subpoenas Wisconsin county election officials for Trump communications',\n",
              " 'U.S. House Jan. 6 committee chairman says panel to make criminal referrals',\n",
              " 'U.S. House Jan. 6 panel plans to release report week of Dec. 19, NBC News says',\n",
              " \"U.S. House committee chair says Bankman-Fried subpoena 'definitely on the table'\",\n",
              " 'U.S. House committee to hear testimony on alleged Supreme Court leak , article with image',\n",
              " 'U.S. House expected to pass same-sex marriage bill, showing shift in attitudes',\n",
              " 'U.S. Proposes Green Steel Club That Would Levy Tariffs On Outliers | A concept paper sent to the European Union suggests a new trade approach to tax metal made with higher carbon emissions in countries like China.',\n",
              " 'U.S. Supreme Court leans toward web designer with anti-gay marriage stance , article with video',\n",
              " 'U.S. lawmakers authorize $800 million more for Ukraine in defense bill',\n",
              " 'U.S. lawmakers ease proposed curbs on Chinese chips amid corporate pushback',\n",
              " \"U.S. military says no 'hard data' showing vaccine mandate hurts recruiting\",\n",
              " 'US Rep. Alexandria Ocasio-Cortez under investigation by House Ethics Committee',\n",
              " 'US supreme court hears case that could radically reshape elections',\n",
              " 'US supreme court to hear case with critical consequences for voting rights',\n",
              " 'Under fire, Trump denies writing what he wrote about Constitution',\n",
              " \"Walker Says He Doesn't Know What Pronouns Are, Hours Before Election\",\n",
              " 'Walker’s loss in Ga. spurs new GOP hand-wringing, calls for new strategy',\n",
              " 'Warnock Claims Momentum in Georgia, as Walker Banks on Election Day Turnout',\n",
              " 'Warnock Win Seals Perfect 2022 for Senators Seeking Re-election',\n",
              " 'Warnock or Walker? Georgia runoff to settle last Senate seat',\n",
              " 'Warnock parties at a brewery and Walker at a gun range in Georgia runoff’s final hours',\n",
              " 'Warnock’s Victory Forges Democrats’ Path Through the New Battlegrounds',\n",
              " 'We Must Fight for a Better America. We Have No Choice. | The problem isn’t “polarization.” The problem is white supremacy.',\n",
              " 'What Georgia’s past two Senate contests tell us about the runoff',\n",
              " 'What Trump Did In The Counties That The Special Counsel Subpoenaed',\n",
              " 'What a horrible way to run a country',\n",
              " 'What is the compelled speech doctrine?',\n",
              " 'What the RNC infighting could mean for GOP politics',\n",
              " 'What to watch in Tuesday’s Georgia Senate runoff election',\n",
              " 'What will happen to Ted Cruz’s Senate seat if he runs for president?',\n",
              " 'White House looks to accelerate AI in government through its ‘Bill of Rights’',\n",
              " \"White House slams Congress for move to rescind military's vaccine mandate\",\n",
              " \"Who's to blame for Georgia loss? Conservatives argue among themselves\",\n",
              " \"Why the Right Can’t Quit Hunter Biden: Elon Musk and Matt Taibbi's flashy revival of Laptopgate hasn't illuminated much beyond the right's desperation to salvage something from their October Surprise.\",\n",
              " \"Will the GOP's razor-thin House majority empower its shrinking centrist wing?\",\n",
              " 'Will the Supreme Court Help the Radical Right Unravel Democracy?',\n",
              " 'Wisconsin Republicans ask Democrat Evers to ban TikTok',\n",
              " 'Wisconsin school board member sues over new sex-ed curriculum. Moms for Liberty and Gays Against Groomers have made the tiny school district a focus of their national efforts protesting against the \"sexualization and indoctrination of children.\"',\n",
              " 'With call to terminate Constitution, Trump drives bulldozer into guard rail of U.S. law',\n",
              " \"Yes, plenty of Republicans want to topple the king — but he won't go easily\",\n",
              " 'Youngest U.S. Black mayor elected in Arkansas',\n",
              " 'Youngkin vows to reimburse shutdown violators who paid ‘unjust’ fines',\n",
              " '‘Don’t Say Gay’ Bill Sponsor Accused of COVID Relief Fraud - Republican lawmaker Joe Harding illegally obtained $150,000 in pandemic loans, according to a federal indictment.',\n",
              " '‘Finally!’: Herschel Walker’s Exes Rejoice at His Defeat',\n",
              " '‘He never should have run for this seat’',\n",
              " '‘Huge flip of circumstances’: end of US child tax credit pushing kids into poverty',\n",
              " '‘Kiss of death.’ Mitt Romney blames Donald Trump endorsements for GOP midterm losses. The Utah Republican says the party needs to move on from the former president, who is now a 2024 GOP presidential candidate.',\n",
              " '‘We Will Fucking Kill You:’ Gay Lawmaker Targeted With Bomb Threat, Called ‘Groomer’',\n",
              " '‘We’re doubling down’: how abortion advocates are building on midterm wins',\n",
              " '“I Did What I Had To Do”: Christian Walker Opened Up About How He Helped Bring Down His Dad’s Campaign'}"
            ]
          },
          "metadata": {},
          "execution_count": 124
        }
      ],
      "source": [
        "news"
      ]
    },
    {
      "cell_type": "code",
      "execution_count": null,
      "metadata": {
        "id": "ZK8k-lMV5xch",
        "colab": {
          "base_uri": "https://localhost:8080/",
          "height": 609
        },
        "outputId": "d5dc72f3-7966-4315-c688-31b5a591708a"
      },
      "outputs": [
        {
          "output_type": "stream",
          "name": "stderr",
          "text": [
            "WARNING:praw:It appears that you are using PRAW in an asynchronous environment.\n",
            "It is strongly recommended to use Async PRAW: https://asyncpraw.readthedocs.io.\n",
            "See https://praw.readthedocs.io/en/latest/getting_started/multiple_instances.html#discord-bots-and-asynchronous-environments for more info.\n",
            "\n",
            "WARNING:praw:It appears that you are using PRAW in an asynchronous environment.\n",
            "It is strongly recommended to use Async PRAW: https://asyncpraw.readthedocs.io.\n",
            "See https://praw.readthedocs.io/en/latest/getting_started/multiple_instances.html#discord-bots-and-asynchronous-environments for more info.\n",
            "\n",
            "WARNING:praw:It appears that you are using PRAW in an asynchronous environment.\n",
            "It is strongly recommended to use Async PRAW: https://asyncpraw.readthedocs.io.\n",
            "See https://praw.readthedocs.io/en/latest/getting_started/multiple_instances.html#discord-bots-and-asynchronous-environments for more info.\n",
            "\n"
          ]
        },
        {
          "output_type": "stream",
          "name": "stdout",
          "text": [
            "(300, 3)\n"
          ]
        },
        {
          "output_type": "execute_result",
          "data": {
            "text/plain": [
              "                                               Title      Id   posts\n",
              "0  Megathread: Joe Biden Projected to Defeat Pres...  jptq5n  214314\n",
              "1  Mitch McConnell Will Lose Control Of The Senat...  krntg6  156744\n",
              "2  Megathread: House Votes to Impeach President D...  ecm1zg  147744\n",
              "3  Trump Threatens to ‘Leave the Country’ if He L...  jcm5dz  135305\n",
              "4  Demands for Kushner to Resign Over 'Staggering...  i19sjg  129740\n",
              "5  Over A million people sign petition calling fo...  h7ic8s  129202\n",
              "6  Report: Biden Admin Discovers Trump Had Zero P...  l1ynt4  127955\n",
              "7  Biden's Pennsylvania lead is now big enough to...  jsi48r  125944\n",
              "8  Donald Trump Has Just Left the White House—Thi...  l1902k  125234\n",
              "9  Virginia governor makes Election Day a holiday...  g03uny  124068"
            ],
            "text/html": [
              "\n",
              "  <div id=\"df-a8c1de67-f741-4b0a-aaf6-5ad5d54df25b\">\n",
              "    <div class=\"colab-df-container\">\n",
              "      <div>\n",
              "<style scoped>\n",
              "    .dataframe tbody tr th:only-of-type {\n",
              "        vertical-align: middle;\n",
              "    }\n",
              "\n",
              "    .dataframe tbody tr th {\n",
              "        vertical-align: top;\n",
              "    }\n",
              "\n",
              "    .dataframe thead th {\n",
              "        text-align: right;\n",
              "    }\n",
              "</style>\n",
              "<table border=\"1\" class=\"dataframe\">\n",
              "  <thead>\n",
              "    <tr style=\"text-align: right;\">\n",
              "      <th></th>\n",
              "      <th>Title</th>\n",
              "      <th>Id</th>\n",
              "      <th>posts</th>\n",
              "    </tr>\n",
              "  </thead>\n",
              "  <tbody>\n",
              "    <tr>\n",
              "      <th>0</th>\n",
              "      <td>Megathread: Joe Biden Projected to Defeat Pres...</td>\n",
              "      <td>jptq5n</td>\n",
              "      <td>214314</td>\n",
              "    </tr>\n",
              "    <tr>\n",
              "      <th>1</th>\n",
              "      <td>Mitch McConnell Will Lose Control Of The Senat...</td>\n",
              "      <td>krntg6</td>\n",
              "      <td>156744</td>\n",
              "    </tr>\n",
              "    <tr>\n",
              "      <th>2</th>\n",
              "      <td>Megathread: House Votes to Impeach President D...</td>\n",
              "      <td>ecm1zg</td>\n",
              "      <td>147744</td>\n",
              "    </tr>\n",
              "    <tr>\n",
              "      <th>3</th>\n",
              "      <td>Trump Threatens to ‘Leave the Country’ if He L...</td>\n",
              "      <td>jcm5dz</td>\n",
              "      <td>135305</td>\n",
              "    </tr>\n",
              "    <tr>\n",
              "      <th>4</th>\n",
              "      <td>Demands for Kushner to Resign Over 'Staggering...</td>\n",
              "      <td>i19sjg</td>\n",
              "      <td>129740</td>\n",
              "    </tr>\n",
              "    <tr>\n",
              "      <th>5</th>\n",
              "      <td>Over A million people sign petition calling fo...</td>\n",
              "      <td>h7ic8s</td>\n",
              "      <td>129202</td>\n",
              "    </tr>\n",
              "    <tr>\n",
              "      <th>6</th>\n",
              "      <td>Report: Biden Admin Discovers Trump Had Zero P...</td>\n",
              "      <td>l1ynt4</td>\n",
              "      <td>127955</td>\n",
              "    </tr>\n",
              "    <tr>\n",
              "      <th>7</th>\n",
              "      <td>Biden's Pennsylvania lead is now big enough to...</td>\n",
              "      <td>jsi48r</td>\n",
              "      <td>125944</td>\n",
              "    </tr>\n",
              "    <tr>\n",
              "      <th>8</th>\n",
              "      <td>Donald Trump Has Just Left the White House—Thi...</td>\n",
              "      <td>l1902k</td>\n",
              "      <td>125234</td>\n",
              "    </tr>\n",
              "    <tr>\n",
              "      <th>9</th>\n",
              "      <td>Virginia governor makes Election Day a holiday...</td>\n",
              "      <td>g03uny</td>\n",
              "      <td>124068</td>\n",
              "    </tr>\n",
              "  </tbody>\n",
              "</table>\n",
              "</div>\n",
              "      <button class=\"colab-df-convert\" onclick=\"convertToInteractive('df-a8c1de67-f741-4b0a-aaf6-5ad5d54df25b')\"\n",
              "              title=\"Convert this dataframe to an interactive table.\"\n",
              "              style=\"display:none;\">\n",
              "        \n",
              "  <svg xmlns=\"http://www.w3.org/2000/svg\" height=\"24px\"viewBox=\"0 0 24 24\"\n",
              "       width=\"24px\">\n",
              "    <path d=\"M0 0h24v24H0V0z\" fill=\"none\"/>\n",
              "    <path d=\"M18.56 5.44l.94 2.06.94-2.06 2.06-.94-2.06-.94-.94-2.06-.94 2.06-2.06.94zm-11 1L8.5 8.5l.94-2.06 2.06-.94-2.06-.94L8.5 2.5l-.94 2.06-2.06.94zm10 10l.94 2.06.94-2.06 2.06-.94-2.06-.94-.94-2.06-.94 2.06-2.06.94z\"/><path d=\"M17.41 7.96l-1.37-1.37c-.4-.4-.92-.59-1.43-.59-.52 0-1.04.2-1.43.59L10.3 9.45l-7.72 7.72c-.78.78-.78 2.05 0 2.83L4 21.41c.39.39.9.59 1.41.59.51 0 1.02-.2 1.41-.59l7.78-7.78 2.81-2.81c.8-.78.8-2.07 0-2.86zM5.41 20L4 18.59l7.72-7.72 1.47 1.35L5.41 20z\"/>\n",
              "  </svg>\n",
              "      </button>\n",
              "      \n",
              "  <style>\n",
              "    .colab-df-container {\n",
              "      display:flex;\n",
              "      flex-wrap:wrap;\n",
              "      gap: 12px;\n",
              "    }\n",
              "\n",
              "    .colab-df-convert {\n",
              "      background-color: #E8F0FE;\n",
              "      border: none;\n",
              "      border-radius: 50%;\n",
              "      cursor: pointer;\n",
              "      display: none;\n",
              "      fill: #1967D2;\n",
              "      height: 32px;\n",
              "      padding: 0 0 0 0;\n",
              "      width: 32px;\n",
              "    }\n",
              "\n",
              "    .colab-df-convert:hover {\n",
              "      background-color: #E2EBFA;\n",
              "      box-shadow: 0px 1px 2px rgba(60, 64, 67, 0.3), 0px 1px 3px 1px rgba(60, 64, 67, 0.15);\n",
              "      fill: #174EA6;\n",
              "    }\n",
              "\n",
              "    [theme=dark] .colab-df-convert {\n",
              "      background-color: #3B4455;\n",
              "      fill: #D2E3FC;\n",
              "    }\n",
              "\n",
              "    [theme=dark] .colab-df-convert:hover {\n",
              "      background-color: #434B5C;\n",
              "      box-shadow: 0px 1px 3px 1px rgba(0, 0, 0, 0.15);\n",
              "      filter: drop-shadow(0px 1px 2px rgba(0, 0, 0, 0.3));\n",
              "      fill: #FFFFFF;\n",
              "    }\n",
              "  </style>\n",
              "\n",
              "      <script>\n",
              "        const buttonEl =\n",
              "          document.querySelector('#df-a8c1de67-f741-4b0a-aaf6-5ad5d54df25b button.colab-df-convert');\n",
              "        buttonEl.style.display =\n",
              "          google.colab.kernel.accessAllowed ? 'block' : 'none';\n",
              "\n",
              "        async function convertToInteractive(key) {\n",
              "          const element = document.querySelector('#df-a8c1de67-f741-4b0a-aaf6-5ad5d54df25b');\n",
              "          const dataTable =\n",
              "            await google.colab.kernel.invokeFunction('convertToInteractive',\n",
              "                                                     [key], {});\n",
              "          if (!dataTable) return;\n",
              "\n",
              "          const docLinkHtml = 'Like what you see? Visit the ' +\n",
              "            '<a target=\"_blank\" href=https://colab.research.google.com/notebooks/data_table.ipynb>data table notebook</a>'\n",
              "            + ' to learn more about interactive tables.';\n",
              "          element.innerHTML = '';\n",
              "          dataTable['output_type'] = 'display_data';\n",
              "          await google.colab.output.renderOutput(dataTable, element);\n",
              "          const docLink = document.createElement('div');\n",
              "          docLink.innerHTML = docLinkHtml;\n",
              "          element.appendChild(docLink);\n",
              "        }\n",
              "      </script>\n",
              "    </div>\n",
              "  </div>\n",
              "  "
            ]
          },
          "metadata": {},
          "execution_count": 125
        }
      ],
      "source": [
        "# Create sub-reddit instance\n",
        "subreddit_name = \"politics\"\n",
        "subreddit = reddit.subreddit(subreddit_name)\n",
        "\n",
        "df = pd.DataFrame() # creating dataframe for displaying scraped data\n",
        "\n",
        "# creating lists for storing scraped data\n",
        "titles=[]\n",
        "posts=[]\n",
        "ids=[]\n",
        "\n",
        "# looping over posts and scraping it\n",
        "for submission in subreddit.top(limit=300):\n",
        "    titles.append(submission.title)\n",
        "    posts.append(submission.score) #upvotes\n",
        "    ids.append(submission.id)\n",
        "    \n",
        "    \n",
        "df['Title'] = titles\n",
        "df['Id'] = ids\n",
        "df['posts'] = posts #upvotes\n",
        "\n",
        "print(df.shape)\n",
        "df.head(10)"
      ]
    },
    {
      "cell_type": "code",
      "execution_count": null,
      "metadata": {
        "id": "Fr4ckljj57VC"
      },
      "outputs": [],
      "source": [
        "# Removing the un-important columns\n",
        "df=df[['Title']]"
      ]
    },
    {
      "cell_type": "code",
      "execution_count": null,
      "metadata": {
        "id": "GCKsTnsG5-sU",
        "colab": {
          "base_uri": "https://localhost:8080/",
          "height": 35
        },
        "outputId": "6dc60ad3-a650-45f5-aeb3-ffdb2bcc28d1"
      },
      "outputs": [
        {
          "output_type": "execute_result",
          "data": {
            "text/plain": [
              "'Megathread: Joe Biden Projected to Defeat President Donald Trump and Win the 2020 US Presidential Election'"
            ],
            "application/vnd.google.colaboratory.intrinsic+json": {
              "type": "string"
            }
          },
          "metadata": {},
          "execution_count": 127
        }
      ],
      "source": [
        "df['Title'][0]"
      ]
    },
    {
      "cell_type": "code",
      "execution_count": null,
      "metadata": {
        "id": "vSZ5MuuC6BFI",
        "colab": {
          "base_uri": "https://localhost:8080/"
        },
        "outputId": "afd3fb6b-040d-4040-a15b-8ea5b7585510"
      },
      "outputs": [
        {
          "output_type": "execute_result",
          "data": {
            "text/plain": [
              "Title    0\n",
              "dtype: int64"
            ]
          },
          "metadata": {},
          "execution_count": 128
        }
      ],
      "source": [
        "df.isnull().sum()"
      ]
    },
    {
      "cell_type": "code",
      "execution_count": null,
      "metadata": {
        "id": "H1lyDGUR6EjU",
        "colab": {
          "base_uri": "https://localhost:8080/",
          "height": 67
        },
        "outputId": "7d0bf7db-4531-43b6-9f59-503859c79712"
      },
      "outputs": [
        {
          "output_type": "stream",
          "name": "stdout",
          "text": [
            "No of empty rows: 0\n"
          ]
        },
        {
          "output_type": "execute_result",
          "data": {
            "text/plain": [
              "Empty DataFrame\n",
              "Columns: [Title]\n",
              "Index: []"
            ],
            "text/html": [
              "\n",
              "  <div id=\"df-d31b9866-98f8-4ad7-95ff-e0b040f83037\">\n",
              "    <div class=\"colab-df-container\">\n",
              "      <div>\n",
              "<style scoped>\n",
              "    .dataframe tbody tr th:only-of-type {\n",
              "        vertical-align: middle;\n",
              "    }\n",
              "\n",
              "    .dataframe tbody tr th {\n",
              "        vertical-align: top;\n",
              "    }\n",
              "\n",
              "    .dataframe thead th {\n",
              "        text-align: right;\n",
              "    }\n",
              "</style>\n",
              "<table border=\"1\" class=\"dataframe\">\n",
              "  <thead>\n",
              "    <tr style=\"text-align: right;\">\n",
              "      <th></th>\n",
              "      <th>Title</th>\n",
              "    </tr>\n",
              "  </thead>\n",
              "  <tbody>\n",
              "  </tbody>\n",
              "</table>\n",
              "</div>\n",
              "      <button class=\"colab-df-convert\" onclick=\"convertToInteractive('df-d31b9866-98f8-4ad7-95ff-e0b040f83037')\"\n",
              "              title=\"Convert this dataframe to an interactive table.\"\n",
              "              style=\"display:none;\">\n",
              "        \n",
              "  <svg xmlns=\"http://www.w3.org/2000/svg\" height=\"24px\"viewBox=\"0 0 24 24\"\n",
              "       width=\"24px\">\n",
              "    <path d=\"M0 0h24v24H0V0z\" fill=\"none\"/>\n",
              "    <path d=\"M18.56 5.44l.94 2.06.94-2.06 2.06-.94-2.06-.94-.94-2.06-.94 2.06-2.06.94zm-11 1L8.5 8.5l.94-2.06 2.06-.94-2.06-.94L8.5 2.5l-.94 2.06-2.06.94zm10 10l.94 2.06.94-2.06 2.06-.94-2.06-.94-.94-2.06-.94 2.06-2.06.94z\"/><path d=\"M17.41 7.96l-1.37-1.37c-.4-.4-.92-.59-1.43-.59-.52 0-1.04.2-1.43.59L10.3 9.45l-7.72 7.72c-.78.78-.78 2.05 0 2.83L4 21.41c.39.39.9.59 1.41.59.51 0 1.02-.2 1.41-.59l7.78-7.78 2.81-2.81c.8-.78.8-2.07 0-2.86zM5.41 20L4 18.59l7.72-7.72 1.47 1.35L5.41 20z\"/>\n",
              "  </svg>\n",
              "      </button>\n",
              "      \n",
              "  <style>\n",
              "    .colab-df-container {\n",
              "      display:flex;\n",
              "      flex-wrap:wrap;\n",
              "      gap: 12px;\n",
              "    }\n",
              "\n",
              "    .colab-df-convert {\n",
              "      background-color: #E8F0FE;\n",
              "      border: none;\n",
              "      border-radius: 50%;\n",
              "      cursor: pointer;\n",
              "      display: none;\n",
              "      fill: #1967D2;\n",
              "      height: 32px;\n",
              "      padding: 0 0 0 0;\n",
              "      width: 32px;\n",
              "    }\n",
              "\n",
              "    .colab-df-convert:hover {\n",
              "      background-color: #E2EBFA;\n",
              "      box-shadow: 0px 1px 2px rgba(60, 64, 67, 0.3), 0px 1px 3px 1px rgba(60, 64, 67, 0.15);\n",
              "      fill: #174EA6;\n",
              "    }\n",
              "\n",
              "    [theme=dark] .colab-df-convert {\n",
              "      background-color: #3B4455;\n",
              "      fill: #D2E3FC;\n",
              "    }\n",
              "\n",
              "    [theme=dark] .colab-df-convert:hover {\n",
              "      background-color: #434B5C;\n",
              "      box-shadow: 0px 1px 3px 1px rgba(0, 0, 0, 0.15);\n",
              "      filter: drop-shadow(0px 1px 2px rgba(0, 0, 0, 0.3));\n",
              "      fill: #FFFFFF;\n",
              "    }\n",
              "  </style>\n",
              "\n",
              "      <script>\n",
              "        const buttonEl =\n",
              "          document.querySelector('#df-d31b9866-98f8-4ad7-95ff-e0b040f83037 button.colab-df-convert');\n",
              "        buttonEl.style.display =\n",
              "          google.colab.kernel.accessAllowed ? 'block' : 'none';\n",
              "\n",
              "        async function convertToInteractive(key) {\n",
              "          const element = document.querySelector('#df-d31b9866-98f8-4ad7-95ff-e0b040f83037');\n",
              "          const dataTable =\n",
              "            await google.colab.kernel.invokeFunction('convertToInteractive',\n",
              "                                                     [key], {});\n",
              "          if (!dataTable) return;\n",
              "\n",
              "          const docLinkHtml = 'Like what you see? Visit the ' +\n",
              "            '<a target=\"_blank\" href=https://colab.research.google.com/notebooks/data_table.ipynb>data table notebook</a>'\n",
              "            + ' to learn more about interactive tables.';\n",
              "          element.innerHTML = '';\n",
              "          dataTable['output_type'] = 'display_data';\n",
              "          await google.colab.output.renderOutput(dataTable, element);\n",
              "          const docLink = document.createElement('div');\n",
              "          docLink.innerHTML = docLinkHtml;\n",
              "          element.appendChild(docLink);\n",
              "        }\n",
              "      </script>\n",
              "    </div>\n",
              "  </div>\n",
              "  "
            ]
          },
          "metadata": {},
          "execution_count": 129
        }
      ],
      "source": [
        "empty_index = [index for index,Title in enumerate(df.Title.values) if str(Title).strip() == '']\n",
        "print(f\"No of empty rows: {len(empty_index)}\")\n",
        "df.iloc[empty_index].tail()"
      ]
    },
    {
      "cell_type": "code",
      "execution_count": null,
      "metadata": {
        "id": "0eXtCtri6HzB",
        "colab": {
          "base_uri": "https://localhost:8080/",
          "height": 398
        },
        "outputId": "155dffe9-e245-4870-d21d-e22e3135c6d2"
      },
      "outputs": [
        {
          "output_type": "stream",
          "name": "stderr",
          "text": [
            "[nltk_data] Downloading package wordnet to /root/nltk_data...\n",
            "[nltk_data]   Package wordnet is already up-to-date!\n"
          ]
        },
        {
          "output_type": "execute_result",
          "data": {
            "text/plain": [
              "                                               Title\n",
              "0  Megathread: Joe Biden Projected to Defeat Pres...\n",
              "1  Mitch McConnell Will Lose Control Of The Senat...\n",
              "2  Megathread: House Votes to Impeach President D...\n",
              "3  Trump Threatens to ‘Leave the Country’ if He L...\n",
              "4  Demands for Kushner to Resign Over 'Staggering...\n",
              "5  Over A million people sign petition calling fo...\n",
              "6  Report: Biden Admin Discovers Trump Had Zero P...\n",
              "7  Biden's Pennsylvania lead is now big enough to...\n",
              "8  Donald Trump Has Just Left the White House—Thi...\n",
              "9  Virginia governor make Election Day a holiday ..."
            ],
            "text/html": [
              "\n",
              "  <div id=\"df-cb3b1d1c-d990-49a8-adb3-42881dc603de\">\n",
              "    <div class=\"colab-df-container\">\n",
              "      <div>\n",
              "<style scoped>\n",
              "    .dataframe tbody tr th:only-of-type {\n",
              "        vertical-align: middle;\n",
              "    }\n",
              "\n",
              "    .dataframe tbody tr th {\n",
              "        vertical-align: top;\n",
              "    }\n",
              "\n",
              "    .dataframe thead th {\n",
              "        text-align: right;\n",
              "    }\n",
              "</style>\n",
              "<table border=\"1\" class=\"dataframe\">\n",
              "  <thead>\n",
              "    <tr style=\"text-align: right;\">\n",
              "      <th></th>\n",
              "      <th>Title</th>\n",
              "    </tr>\n",
              "  </thead>\n",
              "  <tbody>\n",
              "    <tr>\n",
              "      <th>0</th>\n",
              "      <td>Megathread: Joe Biden Projected to Defeat Pres...</td>\n",
              "    </tr>\n",
              "    <tr>\n",
              "      <th>1</th>\n",
              "      <td>Mitch McConnell Will Lose Control Of The Senat...</td>\n",
              "    </tr>\n",
              "    <tr>\n",
              "      <th>2</th>\n",
              "      <td>Megathread: House Votes to Impeach President D...</td>\n",
              "    </tr>\n",
              "    <tr>\n",
              "      <th>3</th>\n",
              "      <td>Trump Threatens to ‘Leave the Country’ if He L...</td>\n",
              "    </tr>\n",
              "    <tr>\n",
              "      <th>4</th>\n",
              "      <td>Demands for Kushner to Resign Over 'Staggering...</td>\n",
              "    </tr>\n",
              "    <tr>\n",
              "      <th>5</th>\n",
              "      <td>Over A million people sign petition calling fo...</td>\n",
              "    </tr>\n",
              "    <tr>\n",
              "      <th>6</th>\n",
              "      <td>Report: Biden Admin Discovers Trump Had Zero P...</td>\n",
              "    </tr>\n",
              "    <tr>\n",
              "      <th>7</th>\n",
              "      <td>Biden's Pennsylvania lead is now big enough to...</td>\n",
              "    </tr>\n",
              "    <tr>\n",
              "      <th>8</th>\n",
              "      <td>Donald Trump Has Just Left the White House—Thi...</td>\n",
              "    </tr>\n",
              "    <tr>\n",
              "      <th>9</th>\n",
              "      <td>Virginia governor make Election Day a holiday ...</td>\n",
              "    </tr>\n",
              "  </tbody>\n",
              "</table>\n",
              "</div>\n",
              "      <button class=\"colab-df-convert\" onclick=\"convertToInteractive('df-cb3b1d1c-d990-49a8-adb3-42881dc603de')\"\n",
              "              title=\"Convert this dataframe to an interactive table.\"\n",
              "              style=\"display:none;\">\n",
              "        \n",
              "  <svg xmlns=\"http://www.w3.org/2000/svg\" height=\"24px\"viewBox=\"0 0 24 24\"\n",
              "       width=\"24px\">\n",
              "    <path d=\"M0 0h24v24H0V0z\" fill=\"none\"/>\n",
              "    <path d=\"M18.56 5.44l.94 2.06.94-2.06 2.06-.94-2.06-.94-.94-2.06-.94 2.06-2.06.94zm-11 1L8.5 8.5l.94-2.06 2.06-.94-2.06-.94L8.5 2.5l-.94 2.06-2.06.94zm10 10l.94 2.06.94-2.06 2.06-.94-2.06-.94-.94-2.06-.94 2.06-2.06.94z\"/><path d=\"M17.41 7.96l-1.37-1.37c-.4-.4-.92-.59-1.43-.59-.52 0-1.04.2-1.43.59L10.3 9.45l-7.72 7.72c-.78.78-.78 2.05 0 2.83L4 21.41c.39.39.9.59 1.41.59.51 0 1.02-.2 1.41-.59l7.78-7.78 2.81-2.81c.8-.78.8-2.07 0-2.86zM5.41 20L4 18.59l7.72-7.72 1.47 1.35L5.41 20z\"/>\n",
              "  </svg>\n",
              "      </button>\n",
              "      \n",
              "  <style>\n",
              "    .colab-df-container {\n",
              "      display:flex;\n",
              "      flex-wrap:wrap;\n",
              "      gap: 12px;\n",
              "    }\n",
              "\n",
              "    .colab-df-convert {\n",
              "      background-color: #E8F0FE;\n",
              "      border: none;\n",
              "      border-radius: 50%;\n",
              "      cursor: pointer;\n",
              "      display: none;\n",
              "      fill: #1967D2;\n",
              "      height: 32px;\n",
              "      padding: 0 0 0 0;\n",
              "      width: 32px;\n",
              "    }\n",
              "\n",
              "    .colab-df-convert:hover {\n",
              "      background-color: #E2EBFA;\n",
              "      box-shadow: 0px 1px 2px rgba(60, 64, 67, 0.3), 0px 1px 3px 1px rgba(60, 64, 67, 0.15);\n",
              "      fill: #174EA6;\n",
              "    }\n",
              "\n",
              "    [theme=dark] .colab-df-convert {\n",
              "      background-color: #3B4455;\n",
              "      fill: #D2E3FC;\n",
              "    }\n",
              "\n",
              "    [theme=dark] .colab-df-convert:hover {\n",
              "      background-color: #434B5C;\n",
              "      box-shadow: 0px 1px 3px 1px rgba(0, 0, 0, 0.15);\n",
              "      filter: drop-shadow(0px 1px 2px rgba(0, 0, 0, 0.3));\n",
              "      fill: #FFFFFF;\n",
              "    }\n",
              "  </style>\n",
              "\n",
              "      <script>\n",
              "        const buttonEl =\n",
              "          document.querySelector('#df-cb3b1d1c-d990-49a8-adb3-42881dc603de button.colab-df-convert');\n",
              "        buttonEl.style.display =\n",
              "          google.colab.kernel.accessAllowed ? 'block' : 'none';\n",
              "\n",
              "        async function convertToInteractive(key) {\n",
              "          const element = document.querySelector('#df-cb3b1d1c-d990-49a8-adb3-42881dc603de');\n",
              "          const dataTable =\n",
              "            await google.colab.kernel.invokeFunction('convertToInteractive',\n",
              "                                                     [key], {});\n",
              "          if (!dataTable) return;\n",
              "\n",
              "          const docLinkHtml = 'Like what you see? Visit the ' +\n",
              "            '<a target=\"_blank\" href=https://colab.research.google.com/notebooks/data_table.ipynb>data table notebook</a>'\n",
              "            + ' to learn more about interactive tables.';\n",
              "          element.innerHTML = '';\n",
              "          dataTable['output_type'] = 'display_data';\n",
              "          await google.colab.output.renderOutput(dataTable, element);\n",
              "          const docLink = document.createElement('div');\n",
              "          docLink.innerHTML = docLinkHtml;\n",
              "          element.appendChild(docLink);\n",
              "        }\n",
              "      </script>\n",
              "    </div>\n",
              "  </div>\n",
              "  "
            ]
          },
          "metadata": {},
          "execution_count": 130
        }
      ],
      "source": [
        "nltk.download('wordnet')\n",
        "#establish the lemmatizer\n",
        "wordnet_lemmatizer = WordNetLemmatizer()\n",
        "df['Title'] = df.Title.apply(lambda x: \" \".join(wordnet_lemmatizer.lemmatize(w) for w in x.split()))\n",
        "df.head(10)"
      ]
    },
    {
      "cell_type": "code",
      "execution_count": null,
      "metadata": {
        "id": "Lsa75N0a6M-1"
      },
      "outputs": [],
      "source": [
        "# in order to remove bias I will shuffle the data\n",
        "from sklearn.utils import shuffle\n",
        "df = shuffle(df)\n",
        "df = df.reset_index(drop=True)\n",
        "df\n",
        "# Convert the text to lowercase:\n",
        "df['Title'] = df['Title'].apply(lambda x: x.lower())\n",
        "# Remove punctuation:\n",
        "import string\n",
        "def punctuation_removal(Title):\n",
        "    all_list = [char for char in Title if char not in string.punctuation]\n",
        "    clean_str = ''.join(all_list)\n",
        "    return clean_str\n",
        "df['Title'] = df['Title'].apply(punctuation_removal)"
      ]
    },
    {
      "cell_type": "code",
      "execution_count": null,
      "metadata": {
        "id": "Gs2IVE8T6RFP",
        "colab": {
          "base_uri": "https://localhost:8080/",
          "height": 363
        },
        "outputId": "ac9ab8c3-4f1e-4621-f812-e6128af95c80"
      },
      "outputs": [
        {
          "output_type": "execute_result",
          "data": {
            "text/plain": [
              "                                               Title\n",
              "0  biden sign inflation reduction act law setting...\n",
              "1  50 state dc certified presidential election re...\n",
              "2  fauci say accepted bidens offer chief medical ...\n",
              "3  pentagon cancel contract build trump’s border ...\n",
              "4  impeach justice clarence thomas petition pass ...\n",
              "5  “it’s longer political party it’s cult” former...\n",
              "6  kamala harris break 5050 tie begin senate deba...\n",
              "7  six republican lawmaker among rioter police re...\n",
              "8  mcconnell block house bill reopen government s...\n",
              "9  trump flew rage every time us intelligence war..."
            ],
            "text/html": [
              "\n",
              "  <div id=\"df-0980e5d4-5743-42ad-9afb-0f30d3bb2090\">\n",
              "    <div class=\"colab-df-container\">\n",
              "      <div>\n",
              "<style scoped>\n",
              "    .dataframe tbody tr th:only-of-type {\n",
              "        vertical-align: middle;\n",
              "    }\n",
              "\n",
              "    .dataframe tbody tr th {\n",
              "        vertical-align: top;\n",
              "    }\n",
              "\n",
              "    .dataframe thead th {\n",
              "        text-align: right;\n",
              "    }\n",
              "</style>\n",
              "<table border=\"1\" class=\"dataframe\">\n",
              "  <thead>\n",
              "    <tr style=\"text-align: right;\">\n",
              "      <th></th>\n",
              "      <th>Title</th>\n",
              "    </tr>\n",
              "  </thead>\n",
              "  <tbody>\n",
              "    <tr>\n",
              "      <th>0</th>\n",
              "      <td>biden sign inflation reduction act law setting...</td>\n",
              "    </tr>\n",
              "    <tr>\n",
              "      <th>1</th>\n",
              "      <td>50 state dc certified presidential election re...</td>\n",
              "    </tr>\n",
              "    <tr>\n",
              "      <th>2</th>\n",
              "      <td>fauci say accepted bidens offer chief medical ...</td>\n",
              "    </tr>\n",
              "    <tr>\n",
              "      <th>3</th>\n",
              "      <td>pentagon cancel contract build trump’s border ...</td>\n",
              "    </tr>\n",
              "    <tr>\n",
              "      <th>4</th>\n",
              "      <td>impeach justice clarence thomas petition pass ...</td>\n",
              "    </tr>\n",
              "    <tr>\n",
              "      <th>5</th>\n",
              "      <td>“it’s longer political party it’s cult” former...</td>\n",
              "    </tr>\n",
              "    <tr>\n",
              "      <th>6</th>\n",
              "      <td>kamala harris break 5050 tie begin senate deba...</td>\n",
              "    </tr>\n",
              "    <tr>\n",
              "      <th>7</th>\n",
              "      <td>six republican lawmaker among rioter police re...</td>\n",
              "    </tr>\n",
              "    <tr>\n",
              "      <th>8</th>\n",
              "      <td>mcconnell block house bill reopen government s...</td>\n",
              "    </tr>\n",
              "    <tr>\n",
              "      <th>9</th>\n",
              "      <td>trump flew rage every time us intelligence war...</td>\n",
              "    </tr>\n",
              "  </tbody>\n",
              "</table>\n",
              "</div>\n",
              "      <button class=\"colab-df-convert\" onclick=\"convertToInteractive('df-0980e5d4-5743-42ad-9afb-0f30d3bb2090')\"\n",
              "              title=\"Convert this dataframe to an interactive table.\"\n",
              "              style=\"display:none;\">\n",
              "        \n",
              "  <svg xmlns=\"http://www.w3.org/2000/svg\" height=\"24px\"viewBox=\"0 0 24 24\"\n",
              "       width=\"24px\">\n",
              "    <path d=\"M0 0h24v24H0V0z\" fill=\"none\"/>\n",
              "    <path d=\"M18.56 5.44l.94 2.06.94-2.06 2.06-.94-2.06-.94-.94-2.06-.94 2.06-2.06.94zm-11 1L8.5 8.5l.94-2.06 2.06-.94-2.06-.94L8.5 2.5l-.94 2.06-2.06.94zm10 10l.94 2.06.94-2.06 2.06-.94-2.06-.94-.94-2.06-.94 2.06-2.06.94z\"/><path d=\"M17.41 7.96l-1.37-1.37c-.4-.4-.92-.59-1.43-.59-.52 0-1.04.2-1.43.59L10.3 9.45l-7.72 7.72c-.78.78-.78 2.05 0 2.83L4 21.41c.39.39.9.59 1.41.59.51 0 1.02-.2 1.41-.59l7.78-7.78 2.81-2.81c.8-.78.8-2.07 0-2.86zM5.41 20L4 18.59l7.72-7.72 1.47 1.35L5.41 20z\"/>\n",
              "  </svg>\n",
              "      </button>\n",
              "      \n",
              "  <style>\n",
              "    .colab-df-container {\n",
              "      display:flex;\n",
              "      flex-wrap:wrap;\n",
              "      gap: 12px;\n",
              "    }\n",
              "\n",
              "    .colab-df-convert {\n",
              "      background-color: #E8F0FE;\n",
              "      border: none;\n",
              "      border-radius: 50%;\n",
              "      cursor: pointer;\n",
              "      display: none;\n",
              "      fill: #1967D2;\n",
              "      height: 32px;\n",
              "      padding: 0 0 0 0;\n",
              "      width: 32px;\n",
              "    }\n",
              "\n",
              "    .colab-df-convert:hover {\n",
              "      background-color: #E2EBFA;\n",
              "      box-shadow: 0px 1px 2px rgba(60, 64, 67, 0.3), 0px 1px 3px 1px rgba(60, 64, 67, 0.15);\n",
              "      fill: #174EA6;\n",
              "    }\n",
              "\n",
              "    [theme=dark] .colab-df-convert {\n",
              "      background-color: #3B4455;\n",
              "      fill: #D2E3FC;\n",
              "    }\n",
              "\n",
              "    [theme=dark] .colab-df-convert:hover {\n",
              "      background-color: #434B5C;\n",
              "      box-shadow: 0px 1px 3px 1px rgba(0, 0, 0, 0.15);\n",
              "      filter: drop-shadow(0px 1px 2px rgba(0, 0, 0, 0.3));\n",
              "      fill: #FFFFFF;\n",
              "    }\n",
              "  </style>\n",
              "\n",
              "      <script>\n",
              "        const buttonEl =\n",
              "          document.querySelector('#df-0980e5d4-5743-42ad-9afb-0f30d3bb2090 button.colab-df-convert');\n",
              "        buttonEl.style.display =\n",
              "          google.colab.kernel.accessAllowed ? 'block' : 'none';\n",
              "\n",
              "        async function convertToInteractive(key) {\n",
              "          const element = document.querySelector('#df-0980e5d4-5743-42ad-9afb-0f30d3bb2090');\n",
              "          const dataTable =\n",
              "            await google.colab.kernel.invokeFunction('convertToInteractive',\n",
              "                                                     [key], {});\n",
              "          if (!dataTable) return;\n",
              "\n",
              "          const docLinkHtml = 'Like what you see? Visit the ' +\n",
              "            '<a target=\"_blank\" href=https://colab.research.google.com/notebooks/data_table.ipynb>data table notebook</a>'\n",
              "            + ' to learn more about interactive tables.';\n",
              "          element.innerHTML = '';\n",
              "          dataTable['output_type'] = 'display_data';\n",
              "          await google.colab.output.renderOutput(dataTable, element);\n",
              "          const docLink = document.createElement('div');\n",
              "          docLink.innerHTML = docLinkHtml;\n",
              "          element.appendChild(docLink);\n",
              "        }\n",
              "      </script>\n",
              "    </div>\n",
              "  </div>\n",
              "  "
            ]
          },
          "metadata": {},
          "execution_count": 132
        }
      ],
      "source": [
        "stop = stopwords.words('english')\n",
        "df['Title'] = df.Title.apply(lambda x: \" \".join(w for w in x.split() if w not in stop))\n",
        "df.head(10)"
      ]
    },
    {
      "cell_type": "code",
      "execution_count": null,
      "metadata": {
        "id": "48zq-c456UGU",
        "colab": {
          "base_uri": "https://localhost:8080/",
          "height": 215
        },
        "outputId": "427ac9ad-d620-4a64-f89c-b719e4828246"
      },
      "outputs": [
        {
          "output_type": "execute_result",
          "data": {
            "text/plain": [
              "(-0.5, 399.5, 199.5, -0.5)"
            ]
          },
          "metadata": {},
          "execution_count": 133
        },
        {
          "output_type": "display_data",
          "data": {
            "text/plain": [
              "<Figure size 432x288 with 1 Axes>"
            ],
            "image/png": "[encoded data removed]"
          },
          "metadata": {
            "needs_background": "light"
          }
        }
      ],
      "source": [
        "wc = WordCloud().generate('Title'.join(df['Title']))\n",
        "plt.imshow(wc, interpolation=\"bilinear\")\n",
        "plt.axis('off')"
      ]
    },
    {
      "cell_type": "code",
      "execution_count": null,
      "metadata": {
        "id": "gK4nlQn56XKK"
      },
      "outputs": [],
      "source": [
        "# genrate the token list:\n",
        "token1 = ' '.join(df.Title).split()"
      ]
    },
    {
      "cell_type": "code",
      "execution_count": null,
      "metadata": {
        "id": "wMioiVOw6aXL",
        "colab": {
          "base_uri": "https://localhost:8080/"
        },
        "outputId": "0da4250d-7f94-43ae-ab82-f29f2494e01e"
      },
      "outputs": [
        {
          "output_type": "execute_result",
          "data": {
            "text/plain": [
              "[(('joe', 'biden'), 11),\n",
              " (('bernie', 'sanders'), 9),\n",
              " (('donald', 'trump'), 9),\n",
              " (('supreme', 'court'), 6),\n",
              " (('alexandria', 'ocasiocortez'), 5),\n",
              " (('ted', 'cruz'), 5),\n",
              " (('member', 'congress'), 4),\n",
              " (('elizabeth', 'warren'), 4),\n",
              " (('capitol', 'riot'), 4),\n",
              " (('president', 'trump'), 4),\n",
              " (('trump', 'administration'), 4),\n",
              " (('ban', 'stock'), 4),\n",
              " (('president', 'donald'), 4),\n",
              " (('taylor', 'greene'), 4),\n",
              " (('marjorie', 'taylor'), 4),\n",
              " (('trump', 'campaign'), 4),\n",
              " (('election', 'day'), 3),\n",
              " (('make', 'election'), 3),\n",
              " (('white', 'house'), 3),\n",
              " (('megathread', 'president'), 3)]"
            ]
          },
          "metadata": {},
          "execution_count": 135
        }
      ],
      "source": [
        "# creating the bigrams\n",
        "ngrams_2 = nltk.bigrams(token1)\n",
        "\n",
        "# freq distribution for these\n",
        "freq_2grams = pd.Series(ngrams_2).value_counts().to_dict()\n",
        "list(freq_2grams.items())[:20]"
      ]
    },
    {
      "cell_type": "code",
      "execution_count": null,
      "metadata": {
        "id": "aYXmLa3O6eV6",
        "colab": {
          "base_uri": "https://localhost:8080/"
        },
        "outputId": "53b27e0f-1a2a-43b6-839d-a93697caa760"
      },
      "outputs": [
        {
          "output_type": "execute_result",
          "data": {
            "text/plain": [
              "[(('marjorie', 'taylor', 'greene'), 4),\n",
              " (('make', 'election', 'day'), 3),\n",
              " (('throws', 'trump', 'campaign'), 2),\n",
              " (('donald', 'j', 'trump'), 2),\n",
              " (('sen', 'elizabeth', 'warren'), 2),\n",
              " (('elizabeth', 'warren', 'want'), 2),\n",
              " (('robert', 'e', 'lee'), 2),\n",
              " (('us', 'election', 'biden'), 2),\n",
              " (('refuse', 'wear', 'mask'), 2),\n",
              " (('president', 'donald', 'j'), 2),\n",
              " (('bill', 'bar', 'lawmaker'), 2),\n",
              " (('judge', 'throws', 'trump'), 2),\n",
              " (('election', 'day', 'holiday'), 2),\n",
              " (('impeach', 'president', 'donald'), 2),\n",
              " (('votes', 'impeach', 'president'), 2),\n",
              " (('house', 'votes', 'impeach'), 2),\n",
              " (('bar', 'lawmaker', 'trading'), 2),\n",
              " (('lawmaker', 'trading', 'stock'), 2),\n",
              " (('reintroduces', 'bill', 'bar'), 2),\n",
              " (('warren', 'reintroduces', 'bill'), 2)]"
            ]
          },
          "metadata": {},
          "execution_count": 136
        }
      ],
      "source": [
        "# creating the trigrams\n",
        "ngrams_3 = nltk.trigrams(token1)\n",
        "\n",
        "# freq distribution for these\n",
        "freq_3grams = pd.Series(ngrams_3).value_counts().to_dict()\n",
        "list(freq_3grams.items())[:20]"
      ]
    },
    {
      "cell_type": "code",
      "execution_count": null,
      "metadata": {
        "id": "2Kq7TYrM6iTJ"
      },
      "outputs": [],
      "source": [
        "# model = trained word2vec model\n",
        "# data= retrieved data from Reddit\n",
        "# size = the size given at the time of word2vec embedding i.e in this case 300\n",
        "\n",
        "def prediction_data_process(model,df,size):\n",
        "    \n",
        "    prediction_data=np.asarray(list(df['Title']))\n",
        "    prediction_data=process(prediction_data)\n",
        "    cleaned_prediction_data=[]\n",
        "    for sent in prediction_data:\n",
        "        cleaned_prediction_data.append(sent.split()) \n",
        "        \n",
        "    vectors = []\n",
        "    for sent in cleaned_prediction_data:\n",
        "        sent_vec = np.zeros(size)\n",
        "        cnt_words = 0\n",
        "        for word in sent:\n",
        "            try:\n",
        "                vec = word2vec_model.wv[word]  # getting the vector corresponding to the word\n",
        "                sent_vec += vec       # Adding the vectors of all the words present in sentence\n",
        "                cnt_words += 1        # counting the number of words\n",
        "            except:\n",
        "                pass\n",
        "        if cnt_words!=0:    \n",
        "            sent_vec /= cnt_words\n",
        "        vectors.append(sent_vec)\n",
        "    \n",
        "    return np.nan_to_num(vectors)"
      ]
    },
    {
      "cell_type": "code",
      "execution_count": null,
      "metadata": {
        "id": "m7SQJhF26nq1",
        "colab": {
          "base_uri": "https://localhost:8080/"
        },
        "outputId": "f6ffb84c-644f-4714-8259-0c79a75cf898"
      },
      "outputs": [
        {
          "output_type": "stream",
          "name": "stderr",
          "text": [
            "100%|██████████| 300/300 [00:00<00:00, 13863.02it/s]\n"
          ]
        }
      ],
      "source": [
        "final_prediction_data1=prediction_data_process(word2vec_model,df,300)"
      ]
    },
    {
      "cell_type": "code",
      "execution_count": null,
      "metadata": {
        "id": "aSQuD6-v6q9O"
      },
      "outputs": [],
      "source": [
        "# Saving the processed data\n",
        "\n",
        "pd.DataFrame(final_prediction_data1).to_csv(\"Reddit_data.csv\")"
      ]
    },
    {
      "cell_type": "code",
      "execution_count": null,
      "metadata": {
        "id": "lhjzeLHI6upD",
        "colab": {
          "base_uri": "https://localhost:8080/"
        },
        "outputId": "77572b46-52fa-475d-e4cc-7f38f0a32c3e"
      },
      "outputs": [
        {
          "output_type": "execute_result",
          "data": {
            "text/plain": [
              "array([-0.04665942, -0.08577795, -0.15008999,  0.13615345, -0.01743746,\n",
              "        0.02118362,  0.11962936, -0.31247888, -0.19656156])"
            ]
          },
          "metadata": {},
          "execution_count": 140
        }
      ],
      "source": [
        "final_prediction_data1[3][1:10]"
      ]
    },
    {
      "cell_type": "code",
      "execution_count": null,
      "metadata": {
        "id": "ZqTkxhjl727F"
      },
      "outputs": [],
      "source": [
        "from joblib import Parallel, delayed\n",
        "import joblib\n",
        "  \n",
        "  \n",
        "# Load the model from the file\n",
        "\n",
        "RF_Model = joblib.load('Model_Random_Forest.pkl')"
      ]
    },
    {
      "cell_type": "code",
      "execution_count": null,
      "metadata": {
        "id": "9RL4h1B363NK",
        "colab": {
          "base_uri": "https://localhost:8080/"
        },
        "outputId": "c5963882-c54f-47f0-9262-270c001e18ee"
      },
      "outputs": [
        {
          "output_type": "execute_result",
          "data": {
            "text/plain": [
              "array([1, 1, 0, 1, 1, 0, 1, 1, 1, 0, 0, 0, 1, 1, 0, 0, 0, 0, 0, 1, 1, 1,\n",
              "       1, 1, 0, 0, 0, 1, 0, 1, 0, 1, 0, 0, 0, 0, 1, 0, 0, 0, 1, 0, 0, 1,\n",
              "       1, 0, 0, 0, 1, 0, 0, 1, 1, 0, 1, 0, 0, 0, 1, 0, 0, 0, 0, 0, 1, 0,\n",
              "       0, 1, 0, 1, 0, 0, 0, 0, 0, 0, 0, 1, 0, 0, 0, 0, 1, 0, 0, 0, 1, 0,\n",
              "       1, 0, 1, 1, 0, 0, 0, 0, 0, 0, 1, 0, 0, 0, 0, 1, 1, 1, 1, 1, 0, 0,\n",
              "       0, 0, 1, 0, 0, 0, 0, 0, 1, 0, 0, 1, 0, 0, 0, 1, 1, 0, 0, 1, 0, 0,\n",
              "       1, 0, 0, 0, 0, 0, 0, 0, 1, 0, 0, 1, 0, 0, 1, 1, 1, 0, 0, 0, 1, 0,\n",
              "       0, 1, 0, 1, 1, 0, 1, 1, 1, 1, 1, 1, 0, 0, 1, 0, 0, 1, 1, 0, 0, 0,\n",
              "       1, 0, 0, 0, 0, 0, 0, 1, 1, 0, 0, 1, 0, 0, 0, 0, 0, 0, 0, 1, 0, 0,\n",
              "       0, 0, 1, 0, 0, 1, 1, 1, 1, 0, 1, 0, 1, 0, 0, 1, 1, 1, 0, 1, 0, 1,\n",
              "       1, 1, 0, 0, 1, 0, 1, 1, 0, 0, 1, 0, 1, 0, 0, 0, 1, 0, 0, 0, 1, 1,\n",
              "       1, 1, 0, 1, 0, 0, 0, 0, 1, 1, 0, 1, 0, 0, 0, 0, 0, 1, 1, 0, 1, 0,\n",
              "       1, 0, 0, 1, 0, 0, 1, 1, 0, 1, 0, 1, 0, 0, 1, 1, 1, 0, 0, 1, 0, 0,\n",
              "       1, 0, 0, 0, 1, 1, 1, 1, 0, 0, 0, 0, 1, 0])"
            ]
          },
          "metadata": {},
          "execution_count": 142
        }
      ],
      "source": [
        "RF_Model.predict(final_prediction_data1)"
      ]
    },
    {
      "cell_type": "code",
      "execution_count": null,
      "metadata": {
        "id": "FlW8_hOW74hN"
      },
      "outputs": [],
      "source": [
        "# creating a list for new column\n",
        "RF_pred = [1, 1, 0, 1, 1, 0, 1, 1, 1, 0, 0, 0, 1, 1, 0, 0, 0, 0, 0, 1, 1, 1,\n",
        "       1, 1, 0, 0, 0, 1, 0, 1, 0, 1, 0, 0, 0, 0, 1, 0, 0, 0, 1, 0, 0, 1,\n",
        "       1, 0, 0, 0, 1, 0, 0, 1, 1, 0, 1, 0, 0, 0, 1, 0, 0, 0, 0, 0, 1, 0,\n",
        "       0, 1, 0, 1, 0, 0, 0, 0, 0, 0, 0, 1, 0, 0, 0, 0, 1, 0, 0, 0, 1, 0,\n",
        "       1, 0, 1, 1, 0, 0, 0, 0, 0, 0, 1, 0, 0, 0, 0, 1, 1, 1, 1, 1, 0, 0,\n",
        "       0, 0, 1, 0, 0, 0, 0, 0, 1, 0, 0, 1, 0, 0, 0, 1, 1, 0, 0, 1, 0, 0,\n",
        "       1, 0, 0, 0, 0, 0, 0, 0, 1, 0, 0, 1, 0, 0, 1, 1, 1, 0, 0, 0, 1, 0,\n",
        "       0, 1, 0, 1, 1, 0, 1, 1, 1, 1, 1, 1, 0, 0, 1, 0, 0, 1, 1, 0, 0, 0,\n",
        "       1, 0, 0, 0, 0, 0, 0, 1, 1, 0, 0, 1, 0, 0, 0, 0, 0, 0, 0, 1, 0, 0,\n",
        "       0, 0, 1, 0, 0, 1, 1, 1, 1, 0, 1, 0, 1, 0, 0, 1, 1, 1, 0, 1, 0, 1,\n",
        "       1, 1, 0, 0, 1, 0, 1, 1, 0, 0, 1, 0, 1, 0, 0, 0, 1, 0, 0, 0, 1, 1,\n",
        "       1, 1, 0, 1, 0, 0, 0, 0, 1, 1, 0, 1, 0, 0, 0, 0, 0, 1, 1, 0, 1, 0,\n",
        "       1, 0, 0, 1, 0, 0, 1, 1, 0, 1, 0, 1, 0, 0, 1, 1, 1, 0, 0, 1, 0, 0,\n",
        "       1, 0, 0, 0, 1, 1, 1, 1, 0, 0, 0, 0, 1, 0]\n",
        "df['RF_pred'] = RF_pred"
      ]
    },
    {
      "cell_type": "code",
      "execution_count": null,
      "metadata": {
        "id": "VGrA0cto6y8l",
        "colab": {
          "base_uri": "https://localhost:8080/",
          "height": 424
        },
        "outputId": "40202ed4-69fb-403f-fb2b-45f0892f118d"
      },
      "outputs": [
        {
          "output_type": "execute_result",
          "data": {
            "text/plain": [
              "                                                 Title  RF_pred\n",
              "0    biden sign inflation reduction act law setting...        1\n",
              "1    50 state dc certified presidential election re...        1\n",
              "2    fauci say accepted bidens offer chief medical ...        0\n",
              "3    pentagon cancel contract build trump’s border ...        1\n",
              "4    impeach justice clarence thomas petition pass ...        1\n",
              "..                                                 ...      ...\n",
              "295  forbes editor issue warning company intending ...        0\n",
              "296  gop lawmaker voted paid sick leave florida tak...        0\n",
              "297  noticed 200 million missing fired alice stebbi...        0\n",
              "298       donald trump left white house—this time good        1\n",
              "299  democrat raphael warnock defeated republican k...        0\n",
              "\n",
              "[300 rows x 2 columns]"
            ],
            "text/html": [
              "\n",
              "  <div id=\"df-97a498d6-7607-4342-8b5a-f098d558dc8f\">\n",
              "    <div class=\"colab-df-container\">\n",
              "      <div>\n",
              "<style scoped>\n",
              "    .dataframe tbody tr th:only-of-type {\n",
              "        vertical-align: middle;\n",
              "    }\n",
              "\n",
              "    .dataframe tbody tr th {\n",
              "        vertical-align: top;\n",
              "    }\n",
              "\n",
              "    .dataframe thead th {\n",
              "        text-align: right;\n",
              "    }\n",
              "</style>\n",
              "<table border=\"1\" class=\"dataframe\">\n",
              "  <thead>\n",
              "    <tr style=\"text-align: right;\">\n",
              "      <th></th>\n",
              "      <th>Title</th>\n",
              "      <th>RF_pred</th>\n",
              "    </tr>\n",
              "  </thead>\n",
              "  <tbody>\n",
              "    <tr>\n",
              "      <th>0</th>\n",
              "      <td>biden sign inflation reduction act law setting...</td>\n",
              "      <td>1</td>\n",
              "    </tr>\n",
              "    <tr>\n",
              "      <th>1</th>\n",
              "      <td>50 state dc certified presidential election re...</td>\n",
              "      <td>1</td>\n",
              "    </tr>\n",
              "    <tr>\n",
              "      <th>2</th>\n",
              "      <td>fauci say accepted bidens offer chief medical ...</td>\n",
              "      <td>0</td>\n",
              "    </tr>\n",
              "    <tr>\n",
              "      <th>3</th>\n",
              "      <td>pentagon cancel contract build trump’s border ...</td>\n",
              "      <td>1</td>\n",
              "    </tr>\n",
              "    <tr>\n",
              "      <th>4</th>\n",
              "      <td>impeach justice clarence thomas petition pass ...</td>\n",
              "      <td>1</td>\n",
              "    </tr>\n",
              "    <tr>\n",
              "      <th>...</th>\n",
              "      <td>...</td>\n",
              "      <td>...</td>\n",
              "    </tr>\n",
              "    <tr>\n",
              "      <th>295</th>\n",
              "      <td>forbes editor issue warning company intending ...</td>\n",
              "      <td>0</td>\n",
              "    </tr>\n",
              "    <tr>\n",
              "      <th>296</th>\n",
              "      <td>gop lawmaker voted paid sick leave florida tak...</td>\n",
              "      <td>0</td>\n",
              "    </tr>\n",
              "    <tr>\n",
              "      <th>297</th>\n",
              "      <td>noticed 200 million missing fired alice stebbi...</td>\n",
              "      <td>0</td>\n",
              "    </tr>\n",
              "    <tr>\n",
              "      <th>298</th>\n",
              "      <td>donald trump left white house—this time good</td>\n",
              "      <td>1</td>\n",
              "    </tr>\n",
              "    <tr>\n",
              "      <th>299</th>\n",
              "      <td>democrat raphael warnock defeated republican k...</td>\n",
              "      <td>0</td>\n",
              "    </tr>\n",
              "  </tbody>\n",
              "</table>\n",
              "<p>300 rows × 2 columns</p>\n",
              "</div>\n",
              "      <button class=\"colab-df-convert\" onclick=\"convertToInteractive('df-97a498d6-7607-4342-8b5a-f098d558dc8f')\"\n",
              "              title=\"Convert this dataframe to an interactive table.\"\n",
              "              style=\"display:none;\">\n",
              "        \n",
              "  <svg xmlns=\"http://www.w3.org/2000/svg\" height=\"24px\"viewBox=\"0 0 24 24\"\n",
              "       width=\"24px\">\n",
              "    <path d=\"M0 0h24v24H0V0z\" fill=\"none\"/>\n",
              "    <path d=\"M18.56 5.44l.94 2.06.94-2.06 2.06-.94-2.06-.94-.94-2.06-.94 2.06-2.06.94zm-11 1L8.5 8.5l.94-2.06 2.06-.94-2.06-.94L8.5 2.5l-.94 2.06-2.06.94zm10 10l.94 2.06.94-2.06 2.06-.94-2.06-.94-.94-2.06-.94 2.06-2.06.94z\"/><path d=\"M17.41 7.96l-1.37-1.37c-.4-.4-.92-.59-1.43-.59-.52 0-1.04.2-1.43.59L10.3 9.45l-7.72 7.72c-.78.78-.78 2.05 0 2.83L4 21.41c.39.39.9.59 1.41.59.51 0 1.02-.2 1.41-.59l7.78-7.78 2.81-2.81c.8-.78.8-2.07 0-2.86zM5.41 20L4 18.59l7.72-7.72 1.47 1.35L5.41 20z\"/>\n",
              "  </svg>\n",
              "      </button>\n",
              "      \n",
              "  <style>\n",
              "    .colab-df-container {\n",
              "      display:flex;\n",
              "      flex-wrap:wrap;\n",
              "      gap: 12px;\n",
              "    }\n",
              "\n",
              "    .colab-df-convert {\n",
              "      background-color: #E8F0FE;\n",
              "      border: none;\n",
              "      border-radius: 50%;\n",
              "      cursor: pointer;\n",
              "      display: none;\n",
              "      fill: #1967D2;\n",
              "      height: 32px;\n",
              "      padding: 0 0 0 0;\n",
              "      width: 32px;\n",
              "    }\n",
              "\n",
              "    .colab-df-convert:hover {\n",
              "      background-color: #E2EBFA;\n",
              "      box-shadow: 0px 1px 2px rgba(60, 64, 67, 0.3), 0px 1px 3px 1px rgba(60, 64, 67, 0.15);\n",
              "      fill: #174EA6;\n",
              "    }\n",
              "\n",
              "    [theme=dark] .colab-df-convert {\n",
              "      background-color: #3B4455;\n",
              "      fill: #D2E3FC;\n",
              "    }\n",
              "\n",
              "    [theme=dark] .colab-df-convert:hover {\n",
              "      background-color: #434B5C;\n",
              "      box-shadow: 0px 1px 3px 1px rgba(0, 0, 0, 0.15);\n",
              "      filter: drop-shadow(0px 1px 2px rgba(0, 0, 0, 0.3));\n",
              "      fill: #FFFFFF;\n",
              "    }\n",
              "  </style>\n",
              "\n",
              "      <script>\n",
              "        const buttonEl =\n",
              "          document.querySelector('#df-97a498d6-7607-4342-8b5a-f098d558dc8f button.colab-df-convert');\n",
              "        buttonEl.style.display =\n",
              "          google.colab.kernel.accessAllowed ? 'block' : 'none';\n",
              "\n",
              "        async function convertToInteractive(key) {\n",
              "          const element = document.querySelector('#df-97a498d6-7607-4342-8b5a-f098d558dc8f');\n",
              "          const dataTable =\n",
              "            await google.colab.kernel.invokeFunction('convertToInteractive',\n",
              "                                                     [key], {});\n",
              "          if (!dataTable) return;\n",
              "\n",
              "          const docLinkHtml = 'Like what you see? Visit the ' +\n",
              "            '<a target=\"_blank\" href=https://colab.research.google.com/notebooks/data_table.ipynb>data table notebook</a>'\n",
              "            + ' to learn more about interactive tables.';\n",
              "          element.innerHTML = '';\n",
              "          dataTable['output_type'] = 'display_data';\n",
              "          await google.colab.output.renderOutput(dataTable, element);\n",
              "          const docLink = document.createElement('div');\n",
              "          docLink.innerHTML = docLinkHtml;\n",
              "          element.appendChild(docLink);\n",
              "        }\n",
              "      </script>\n",
              "    </div>\n",
              "  </div>\n",
              "  "
            ]
          },
          "metadata": {},
          "execution_count": 148
        }
      ],
      "source": [
        "df"
      ]
    },
    {
      "cell_type": "code",
      "execution_count": null,
      "metadata": {
        "id": "b9RUHVHC8ITI"
      },
      "outputs": [],
      "source": [
        "Model_XGB = joblib.load('Model_XGB.pkl')"
      ]
    },
    {
      "cell_type": "code",
      "execution_count": null,
      "metadata": {
        "id": "wlhFHRfo8L-G",
        "colab": {
          "base_uri": "https://localhost:8080/"
        },
        "outputId": "4fd5a8a4-c1f6-4cac-d2d5-07f17a4e3edc"
      },
      "outputs": [
        {
          "output_type": "execute_result",
          "data": {
            "text/plain": [
              "array([1, 1, 0, 0, 0, 1, 1, 1, 1, 0, 0, 0, 1, 0, 0, 0, 0, 0, 0, 0, 1, 1,\n",
              "       1, 0, 0, 0, 0, 0, 0, 1, 0, 1, 0, 0, 0, 0, 0, 0, 0, 0, 0, 0, 0, 1,\n",
              "       1, 0, 0, 0, 1, 0, 0, 1, 1, 0, 0, 0, 0, 0, 1, 0, 0, 0, 0, 0, 1, 0,\n",
              "       1, 0, 0, 1, 0, 0, 0, 0, 0, 0, 0, 1, 0, 0, 0, 0, 1, 0, 0, 0, 1, 0,\n",
              "       1, 0, 0, 1, 0, 1, 0, 0, 0, 0, 1, 0, 0, 0, 0, 1, 0, 1, 0, 0, 0, 0,\n",
              "       0, 0, 1, 0, 1, 0, 0, 0, 1, 0, 0, 1, 0, 0, 0, 1, 1, 0, 0, 0, 0, 0,\n",
              "       1, 0, 0, 0, 0, 0, 0, 0, 0, 0, 0, 0, 0, 0, 1, 1, 0, 0, 0, 0, 1, 0,\n",
              "       0, 1, 0, 1, 0, 0, 1, 0, 0, 1, 1, 1, 0, 0, 0, 0, 0, 1, 1, 1, 0, 0,\n",
              "       1, 0, 0, 0, 0, 0, 0, 1, 0, 0, 0, 0, 0, 0, 0, 0, 0, 0, 0, 1, 0, 1,\n",
              "       0, 0, 0, 0, 0, 1, 1, 0, 1, 0, 1, 0, 1, 0, 0, 0, 0, 0, 0, 0, 0, 0,\n",
              "       1, 0, 1, 0, 0, 0, 0, 0, 0, 0, 1, 0, 1, 0, 1, 0, 0, 1, 0, 0, 1, 1,\n",
              "       1, 0, 0, 1, 0, 0, 1, 0, 0, 1, 0, 1, 0, 0, 0, 0, 0, 1, 1, 0, 1, 0,\n",
              "       1, 0, 0, 1, 0, 0, 1, 1, 0, 0, 0, 1, 0, 0, 1, 1, 1, 0, 0, 0, 0, 0,\n",
              "       0, 1, 0, 0, 0, 0, 0, 1, 0, 0, 0, 0, 1, 0])"
            ]
          },
          "metadata": {},
          "execution_count": 150
        }
      ],
      "source": [
        "Model_XGB.predict(final_prediction_data1)"
      ]
    },
    {
      "cell_type": "code",
      "execution_count": null,
      "metadata": {
        "id": "TKlwoeNk8OgW"
      },
      "outputs": [],
      "source": [
        "XGB_pred = [1, 1, 0, 0, 0, 1, 1, 1, 1, 0, 0, 0, 1, 0, 0, 0, 0, 0, 0, 0, 1, 1,\n",
        "       1, 0, 0, 0, 0, 0, 0, 1, 0, 1, 0, 0, 0, 0, 0, 0, 0, 0, 0, 0, 0, 1,\n",
        "       1, 0, 0, 0, 1, 0, 0, 1, 1, 0, 0, 0, 0, 0, 1, 0, 0, 0, 0, 0, 1, 0,\n",
        "       1, 0, 0, 1, 0, 0, 0, 0, 0, 0, 0, 1, 0, 0, 0, 0, 1, 0, 0, 0, 1, 0,\n",
        "       1, 0, 0, 1, 0, 1, 0, 0, 0, 0, 1, 0, 0, 0, 0, 1, 0, 1, 0, 0, 0, 0,\n",
        "       0, 0, 1, 0, 1, 0, 0, 0, 1, 0, 0, 1, 0, 0, 0, 1, 1, 0, 0, 0, 0, 0,\n",
        "       1, 0, 0, 0, 0, 0, 0, 0, 0, 0, 0, 0, 0, 0, 1, 1, 0, 0, 0, 0, 1, 0,\n",
        "       0, 1, 0, 1, 0, 0, 1, 0, 0, 1, 1, 1, 0, 0, 0, 0, 0, 1, 1, 1, 0, 0,\n",
        "       1, 0, 0, 0, 0, 0, 0, 1, 0, 0, 0, 0, 0, 0, 0, 0, 0, 0, 0, 1, 0, 1,\n",
        "       0, 0, 0, 0, 0, 1, 1, 0, 1, 0, 1, 0, 1, 0, 0, 0, 0, 0, 0, 0, 0, 0,\n",
        "       1, 0, 1, 0, 0, 0, 0, 0, 0, 0, 1, 0, 1, 0, 1, 0, 0, 1, 0, 0, 1, 1,\n",
        "       1, 0, 0, 1, 0, 0, 1, 0, 0, 1, 0, 1, 0, 0, 0, 0, 0, 1, 1, 0, 1, 0,\n",
        "       1, 0, 0, 1, 0, 0, 1, 1, 0, 0, 0, 1, 0, 0, 1, 1, 1, 0, 0, 0, 0, 0,\n",
        "       0, 1, 0, 0, 0, 0, 0, 1, 0, 0, 0, 0, 1, 0]\n",
        "df['XGB_pred'] = XGB_pred"
      ]
    },
    {
      "cell_type": "code",
      "execution_count": null,
      "metadata": {
        "id": "CD6j9HdL8TVW",
        "colab": {
          "base_uri": "https://localhost:8080/",
          "height": 424
        },
        "outputId": "f22080b5-d636-4e3d-c1c0-afe2a918240a"
      },
      "outputs": [
        {
          "output_type": "execute_result",
          "data": {
            "text/plain": [
              "                                                 Title  RF_pred  XGB_pred\n",
              "0    biden sign inflation reduction act law setting...        1         1\n",
              "1    50 state dc certified presidential election re...        1         1\n",
              "2    fauci say accepted bidens offer chief medical ...        0         0\n",
              "3    pentagon cancel contract build trump’s border ...        1         0\n",
              "4    impeach justice clarence thomas petition pass ...        1         0\n",
              "..                                                 ...      ...       ...\n",
              "295  forbes editor issue warning company intending ...        0         0\n",
              "296  gop lawmaker voted paid sick leave florida tak...        0         0\n",
              "297  noticed 200 million missing fired alice stebbi...        0         0\n",
              "298       donald trump left white house—this time good        1         1\n",
              "299  democrat raphael warnock defeated republican k...        0         0\n",
              "\n",
              "[300 rows x 3 columns]"
            ],
            "text/html": [
              "\n",
              "  <div id=\"df-5d3225a3-f50f-4a25-8185-43b42b1e8ba7\">\n",
              "    <div class=\"colab-df-container\">\n",
              "      <div>\n",
              "<style scoped>\n",
              "    .dataframe tbody tr th:only-of-type {\n",
              "        vertical-align: middle;\n",
              "    }\n",
              "\n",
              "    .dataframe tbody tr th {\n",
              "        vertical-align: top;\n",
              "    }\n",
              "\n",
              "    .dataframe thead th {\n",
              "        text-align: right;\n",
              "    }\n",
              "</style>\n",
              "<table border=\"1\" class=\"dataframe\">\n",
              "  <thead>\n",
              "    <tr style=\"text-align: right;\">\n",
              "      <th></th>\n",
              "      <th>Title</th>\n",
              "      <th>RF_pred</th>\n",
              "      <th>XGB_pred</th>\n",
              "    </tr>\n",
              "  </thead>\n",
              "  <tbody>\n",
              "    <tr>\n",
              "      <th>0</th>\n",
              "      <td>biden sign inflation reduction act law setting...</td>\n",
              "      <td>1</td>\n",
              "      <td>1</td>\n",
              "    </tr>\n",
              "    <tr>\n",
              "      <th>1</th>\n",
              "      <td>50 state dc certified presidential election re...</td>\n",
              "      <td>1</td>\n",
              "      <td>1</td>\n",
              "    </tr>\n",
              "    <tr>\n",
              "      <th>2</th>\n",
              "      <td>fauci say accepted bidens offer chief medical ...</td>\n",
              "      <td>0</td>\n",
              "      <td>0</td>\n",
              "    </tr>\n",
              "    <tr>\n",
              "      <th>3</th>\n",
              "      <td>pentagon cancel contract build trump’s border ...</td>\n",
              "      <td>1</td>\n",
              "      <td>0</td>\n",
              "    </tr>\n",
              "    <tr>\n",
              "      <th>4</th>\n",
              "      <td>impeach justice clarence thomas petition pass ...</td>\n",
              "      <td>1</td>\n",
              "      <td>0</td>\n",
              "    </tr>\n",
              "    <tr>\n",
              "      <th>...</th>\n",
              "      <td>...</td>\n",
              "      <td>...</td>\n",
              "      <td>...</td>\n",
              "    </tr>\n",
              "    <tr>\n",
              "      <th>295</th>\n",
              "      <td>forbes editor issue warning company intending ...</td>\n",
              "      <td>0</td>\n",
              "      <td>0</td>\n",
              "    </tr>\n",
              "    <tr>\n",
              "      <th>296</th>\n",
              "      <td>gop lawmaker voted paid sick leave florida tak...</td>\n",
              "      <td>0</td>\n",
              "      <td>0</td>\n",
              "    </tr>\n",
              "    <tr>\n",
              "      <th>297</th>\n",
              "      <td>noticed 200 million missing fired alice stebbi...</td>\n",
              "      <td>0</td>\n",
              "      <td>0</td>\n",
              "    </tr>\n",
              "    <tr>\n",
              "      <th>298</th>\n",
              "      <td>donald trump left white house—this time good</td>\n",
              "      <td>1</td>\n",
              "      <td>1</td>\n",
              "    </tr>\n",
              "    <tr>\n",
              "      <th>299</th>\n",
              "      <td>democrat raphael warnock defeated republican k...</td>\n",
              "      <td>0</td>\n",
              "      <td>0</td>\n",
              "    </tr>\n",
              "  </tbody>\n",
              "</table>\n",
              "<p>300 rows × 3 columns</p>\n",
              "</div>\n",
              "      <button class=\"colab-df-convert\" onclick=\"convertToInteractive('df-5d3225a3-f50f-4a25-8185-43b42b1e8ba7')\"\n",
              "              title=\"Convert this dataframe to an interactive table.\"\n",
              "              style=\"display:none;\">\n",
              "        \n",
              "  <svg xmlns=\"http://www.w3.org/2000/svg\" height=\"24px\"viewBox=\"0 0 24 24\"\n",
              "       width=\"24px\">\n",
              "    <path d=\"M0 0h24v24H0V0z\" fill=\"none\"/>\n",
              "    <path d=\"M18.56 5.44l.94 2.06.94-2.06 2.06-.94-2.06-.94-.94-2.06-.94 2.06-2.06.94zm-11 1L8.5 8.5l.94-2.06 2.06-.94-2.06-.94L8.5 2.5l-.94 2.06-2.06.94zm10 10l.94 2.06.94-2.06 2.06-.94-2.06-.94-.94-2.06-.94 2.06-2.06.94z\"/><path d=\"M17.41 7.96l-1.37-1.37c-.4-.4-.92-.59-1.43-.59-.52 0-1.04.2-1.43.59L10.3 9.45l-7.72 7.72c-.78.78-.78 2.05 0 2.83L4 21.41c.39.39.9.59 1.41.59.51 0 1.02-.2 1.41-.59l7.78-7.78 2.81-2.81c.8-.78.8-2.07 0-2.86zM5.41 20L4 18.59l7.72-7.72 1.47 1.35L5.41 20z\"/>\n",
              "  </svg>\n",
              "      </button>\n",
              "      \n",
              "  <style>\n",
              "    .colab-df-container {\n",
              "      display:flex;\n",
              "      flex-wrap:wrap;\n",
              "      gap: 12px;\n",
              "    }\n",
              "\n",
              "    .colab-df-convert {\n",
              "      background-color: #E8F0FE;\n",
              "      border: none;\n",
              "      border-radius: 50%;\n",
              "      cursor: pointer;\n",
              "      display: none;\n",
              "      fill: #1967D2;\n",
              "      height: 32px;\n",
              "      padding: 0 0 0 0;\n",
              "      width: 32px;\n",
              "    }\n",
              "\n",
              "    .colab-df-convert:hover {\n",
              "      background-color: #E2EBFA;\n",
              "      box-shadow: 0px 1px 2px rgba(60, 64, 67, 0.3), 0px 1px 3px 1px rgba(60, 64, 67, 0.15);\n",
              "      fill: #174EA6;\n",
              "    }\n",
              "\n",
              "    [theme=dark] .colab-df-convert {\n",
              "      background-color: #3B4455;\n",
              "      fill: #D2E3FC;\n",
              "    }\n",
              "\n",
              "    [theme=dark] .colab-df-convert:hover {\n",
              "      background-color: #434B5C;\n",
              "      box-shadow: 0px 1px 3px 1px rgba(0, 0, 0, 0.15);\n",
              "      filter: drop-shadow(0px 1px 2px rgba(0, 0, 0, 0.3));\n",
              "      fill: #FFFFFF;\n",
              "    }\n",
              "  </style>\n",
              "\n",
              "      <script>\n",
              "        const buttonEl =\n",
              "          document.querySelector('#df-5d3225a3-f50f-4a25-8185-43b42b1e8ba7 button.colab-df-convert');\n",
              "        buttonEl.style.display =\n",
              "          google.colab.kernel.accessAllowed ? 'block' : 'none';\n",
              "\n",
              "        async function convertToInteractive(key) {\n",
              "          const element = document.querySelector('#df-5d3225a3-f50f-4a25-8185-43b42b1e8ba7');\n",
              "          const dataTable =\n",
              "            await google.colab.kernel.invokeFunction('convertToInteractive',\n",
              "                                                     [key], {});\n",
              "          if (!dataTable) return;\n",
              "\n",
              "          const docLinkHtml = 'Like what you see? Visit the ' +\n",
              "            '<a target=\"_blank\" href=https://colab.research.google.com/notebooks/data_table.ipynb>data table notebook</a>'\n",
              "            + ' to learn more about interactive tables.';\n",
              "          element.innerHTML = '';\n",
              "          dataTable['output_type'] = 'display_data';\n",
              "          await google.colab.output.renderOutput(dataTable, element);\n",
              "          const docLink = document.createElement('div');\n",
              "          docLink.innerHTML = docLinkHtml;\n",
              "          element.appendChild(docLink);\n",
              "        }\n",
              "      </script>\n",
              "    </div>\n",
              "  </div>\n",
              "  "
            ]
          },
          "metadata": {},
          "execution_count": 152
        }
      ],
      "source": [
        "df"
      ]
    },
    {
      "cell_type": "code",
      "execution_count": null,
      "metadata": {
        "id": "PBtA0xvl8W2v"
      },
      "outputs": [],
      "source": [
        "logreg = joblib.load('Model_logreg.pkl')"
      ]
    },
    {
      "cell_type": "code",
      "execution_count": null,
      "metadata": {
        "id": "-GJXY89z8eb7",
        "colab": {
          "base_uri": "https://localhost:8080/"
        },
        "outputId": "e1cbb142-3680-4748-b16f-a8b8623d1c4a"
      },
      "outputs": [
        {
          "output_type": "execute_result",
          "data": {
            "text/plain": [
              "array([1, 1, 0, 0, 0, 0, 1, 1, 1, 0, 0, 0, 1, 0, 0, 0, 0, 0, 0, 1, 1, 1,\n",
              "       1, 1, 0, 0, 0, 0, 0, 1, 0, 1, 0, 0, 0, 0, 1, 0, 0, 0, 0, 0, 0, 1,\n",
              "       1, 0, 0, 0, 1, 0, 0, 1, 0, 0, 0, 0, 0, 0, 1, 0, 0, 0, 0, 0, 1, 0,\n",
              "       0, 0, 0, 1, 1, 0, 0, 0, 0, 0, 0, 1, 0, 0, 0, 0, 1, 0, 0, 0, 0, 0,\n",
              "       1, 0, 1, 1, 1, 1, 0, 0, 0, 0, 1, 0, 0, 0, 0, 1, 1, 0, 1, 1, 0, 1,\n",
              "       0, 0, 1, 0, 1, 0, 0, 0, 1, 0, 0, 1, 0, 1, 0, 0, 1, 0, 0, 0, 1, 0,\n",
              "       1, 0, 0, 0, 0, 0, 0, 0, 0, 1, 0, 0, 0, 0, 0, 1, 1, 0, 0, 0, 1, 0,\n",
              "       0, 1, 0, 1, 1, 0, 1, 0, 0, 1, 1, 0, 0, 0, 1, 0, 0, 1, 1, 0, 0, 0,\n",
              "       1, 0, 0, 0, 0, 0, 0, 1, 0, 0, 0, 0, 0, 0, 0, 0, 0, 0, 0, 1, 0, 0,\n",
              "       0, 0, 0, 0, 0, 1, 0, 1, 1, 0, 0, 0, 0, 0, 0, 0, 1, 0, 0, 0, 1, 0,\n",
              "       0, 0, 0, 0, 1, 0, 1, 1, 0, 0, 1, 0, 1, 0, 1, 0, 0, 1, 0, 0, 0, 1,\n",
              "       1, 0, 0, 1, 0, 0, 0, 1, 1, 1, 0, 1, 0, 0, 0, 1, 0, 1, 1, 0, 0, 0,\n",
              "       1, 0, 0, 1, 0, 0, 0, 1, 0, 0, 0, 1, 0, 0, 1, 1, 1, 1, 0, 1, 0, 0,\n",
              "       1, 1, 0, 0, 0, 0, 0, 1, 0, 0, 0, 0, 1, 1])"
            ]
          },
          "metadata": {},
          "execution_count": 154
        }
      ],
      "source": [
        "logreg.predict(final_prediction_data1)"
      ]
    },
    {
      "cell_type": "code",
      "execution_count": null,
      "metadata": {
        "id": "0vt223nt8hgq"
      },
      "outputs": [],
      "source": [
        "LR_pred = [1, 1, 0, 0, 0, 0, 1, 1, 1, 0, 0, 0, 1, 0, 0, 0, 0, 0, 0, 1, 1, 1,\n",
        "       1, 1, 0, 0, 0, 0, 0, 1, 0, 1, 0, 0, 0, 0, 1, 0, 0, 0, 0, 0, 0, 1,\n",
        "       1, 0, 0, 0, 1, 0, 0, 1, 0, 0, 0, 0, 0, 0, 1, 0, 0, 0, 0, 0, 1, 0,\n",
        "       0, 0, 0, 1, 1, 0, 0, 0, 0, 0, 0, 1, 0, 0, 0, 0, 1, 0, 0, 0, 0, 0,\n",
        "       1, 0, 1, 1, 1, 1, 0, 0, 0, 0, 1, 0, 0, 0, 0, 1, 1, 0, 1, 1, 0, 1,\n",
        "       0, 0, 1, 0, 1, 0, 0, 0, 1, 0, 0, 1, 0, 1, 0, 0, 1, 0, 0, 0, 1, 0,\n",
        "       1, 0, 0, 0, 0, 0, 0, 0, 0, 1, 0, 0, 0, 0, 0, 1, 1, 0, 0, 0, 1, 0,\n",
        "       0, 1, 0, 1, 1, 0, 1, 0, 0, 1, 1, 0, 0, 0, 1, 0, 0, 1, 1, 0, 0, 0,\n",
        "       1, 0, 0, 0, 0, 0, 0, 1, 0, 0, 0, 0, 0, 0, 0, 0, 0, 0, 0, 1, 0, 0,\n",
        "       0, 0, 0, 0, 0, 1, 0, 1, 1, 0, 0, 0, 0, 0, 0, 0, 1, 0, 0, 0, 1, 0,\n",
        "       0, 0, 0, 0, 1, 0, 1, 1, 0, 0, 1, 0, 1, 0, 1, 0, 0, 1, 0, 0, 0, 1,\n",
        "       1, 0, 0, 1, 0, 0, 0, 1, 1, 1, 0, 1, 0, 0, 0, 1, 0, 1, 1, 0, 0, 0,\n",
        "       1, 0, 0, 1, 0, 0, 0, 1, 0, 0, 0, 1, 0, 0, 1, 1, 1, 1, 0, 1, 0, 0,\n",
        "       1, 1, 0, 0, 0, 0, 0, 1, 0, 0, 0, 0, 1, 1]\n",
        "df['LR_pred'] = LR_pred"
      ]
    },
    {
      "cell_type": "code",
      "execution_count": null,
      "metadata": {
        "id": "0T5ZMpK28mOD",
        "colab": {
          "base_uri": "https://localhost:8080/",
          "height": 424
        },
        "outputId": "4981f595-aebe-4ffa-cb57-37a7958496b4"
      },
      "outputs": [
        {
          "output_type": "execute_result",
          "data": {
            "text/plain": [
              "                                                 Title  RF_pred  XGB_pred  \\\n",
              "0    biden sign inflation reduction act law setting...        1         1   \n",
              "1    50 state dc certified presidential election re...        1         1   \n",
              "2    fauci say accepted bidens offer chief medical ...        0         0   \n",
              "3    pentagon cancel contract build trump’s border ...        1         0   \n",
              "4    impeach justice clarence thomas petition pass ...        1         0   \n",
              "..                                                 ...      ...       ...   \n",
              "295  forbes editor issue warning company intending ...        0         0   \n",
              "296  gop lawmaker voted paid sick leave florida tak...        0         0   \n",
              "297  noticed 200 million missing fired alice stebbi...        0         0   \n",
              "298       donald trump left white house—this time good        1         1   \n",
              "299  democrat raphael warnock defeated republican k...        0         0   \n",
              "\n",
              "     LR_pred  \n",
              "0          1  \n",
              "1          1  \n",
              "2          0  \n",
              "3          0  \n",
              "4          0  \n",
              "..       ...  \n",
              "295        0  \n",
              "296        0  \n",
              "297        0  \n",
              "298        1  \n",
              "299        1  \n",
              "\n",
              "[300 rows x 4 columns]"
            ],
            "text/html": [
              "\n",
              "  <div id=\"df-bc4ecff6-79cf-44a8-a909-c85e79007b6e\">\n",
              "    <div class=\"colab-df-container\">\n",
              "      <div>\n",
              "<style scoped>\n",
              "    .dataframe tbody tr th:only-of-type {\n",
              "        vertical-align: middle;\n",
              "    }\n",
              "\n",
              "    .dataframe tbody tr th {\n",
              "        vertical-align: top;\n",
              "    }\n",
              "\n",
              "    .dataframe thead th {\n",
              "        text-align: right;\n",
              "    }\n",
              "</style>\n",
              "<table border=\"1\" class=\"dataframe\">\n",
              "  <thead>\n",
              "    <tr style=\"text-align: right;\">\n",
              "      <th></th>\n",
              "      <th>Title</th>\n",
              "      <th>RF_pred</th>\n",
              "      <th>XGB_pred</th>\n",
              "      <th>LR_pred</th>\n",
              "    </tr>\n",
              "  </thead>\n",
              "  <tbody>\n",
              "    <tr>\n",
              "      <th>0</th>\n",
              "      <td>biden sign inflation reduction act law setting...</td>\n",
              "      <td>1</td>\n",
              "      <td>1</td>\n",
              "      <td>1</td>\n",
              "    </tr>\n",
              "    <tr>\n",
              "      <th>1</th>\n",
              "      <td>50 state dc certified presidential election re...</td>\n",
              "      <td>1</td>\n",
              "      <td>1</td>\n",
              "      <td>1</td>\n",
              "    </tr>\n",
              "    <tr>\n",
              "      <th>2</th>\n",
              "      <td>fauci say accepted bidens offer chief medical ...</td>\n",
              "      <td>0</td>\n",
              "      <td>0</td>\n",
              "      <td>0</td>\n",
              "    </tr>\n",
              "    <tr>\n",
              "      <th>3</th>\n",
              "      <td>pentagon cancel contract build trump’s border ...</td>\n",
              "      <td>1</td>\n",
              "      <td>0</td>\n",
              "      <td>0</td>\n",
              "    </tr>\n",
              "    <tr>\n",
              "      <th>4</th>\n",
              "      <td>impeach justice clarence thomas petition pass ...</td>\n",
              "      <td>1</td>\n",
              "      <td>0</td>\n",
              "      <td>0</td>\n",
              "    </tr>\n",
              "    <tr>\n",
              "      <th>...</th>\n",
              "      <td>...</td>\n",
              "      <td>...</td>\n",
              "      <td>...</td>\n",
              "      <td>...</td>\n",
              "    </tr>\n",
              "    <tr>\n",
              "      <th>295</th>\n",
              "      <td>forbes editor issue warning company intending ...</td>\n",
              "      <td>0</td>\n",
              "      <td>0</td>\n",
              "      <td>0</td>\n",
              "    </tr>\n",
              "    <tr>\n",
              "      <th>296</th>\n",
              "      <td>gop lawmaker voted paid sick leave florida tak...</td>\n",
              "      <td>0</td>\n",
              "      <td>0</td>\n",
              "      <td>0</td>\n",
              "    </tr>\n",
              "    <tr>\n",
              "      <th>297</th>\n",
              "      <td>noticed 200 million missing fired alice stebbi...</td>\n",
              "      <td>0</td>\n",
              "      <td>0</td>\n",
              "      <td>0</td>\n",
              "    </tr>\n",
              "    <tr>\n",
              "      <th>298</th>\n",
              "      <td>donald trump left white house—this time good</td>\n",
              "      <td>1</td>\n",
              "      <td>1</td>\n",
              "      <td>1</td>\n",
              "    </tr>\n",
              "    <tr>\n",
              "      <th>299</th>\n",
              "      <td>democrat raphael warnock defeated republican k...</td>\n",
              "      <td>0</td>\n",
              "      <td>0</td>\n",
              "      <td>1</td>\n",
              "    </tr>\n",
              "  </tbody>\n",
              "</table>\n",
              "<p>300 rows × 4 columns</p>\n",
              "</div>\n",
              "      <button class=\"colab-df-convert\" onclick=\"convertToInteractive('df-bc4ecff6-79cf-44a8-a909-c85e79007b6e')\"\n",
              "              title=\"Convert this dataframe to an interactive table.\"\n",
              "              style=\"display:none;\">\n",
              "        \n",
              "  <svg xmlns=\"http://www.w3.org/2000/svg\" height=\"24px\"viewBox=\"0 0 24 24\"\n",
              "       width=\"24px\">\n",
              "    <path d=\"M0 0h24v24H0V0z\" fill=\"none\"/>\n",
              "    <path d=\"M18.56 5.44l.94 2.06.94-2.06 2.06-.94-2.06-.94-.94-2.06-.94 2.06-2.06.94zm-11 1L8.5 8.5l.94-2.06 2.06-.94-2.06-.94L8.5 2.5l-.94 2.06-2.06.94zm10 10l.94 2.06.94-2.06 2.06-.94-2.06-.94-.94-2.06-.94 2.06-2.06.94z\"/><path d=\"M17.41 7.96l-1.37-1.37c-.4-.4-.92-.59-1.43-.59-.52 0-1.04.2-1.43.59L10.3 9.45l-7.72 7.72c-.78.78-.78 2.05 0 2.83L4 21.41c.39.39.9.59 1.41.59.51 0 1.02-.2 1.41-.59l7.78-7.78 2.81-2.81c.8-.78.8-2.07 0-2.86zM5.41 20L4 18.59l7.72-7.72 1.47 1.35L5.41 20z\"/>\n",
              "  </svg>\n",
              "      </button>\n",
              "      \n",
              "  <style>\n",
              "    .colab-df-container {\n",
              "      display:flex;\n",
              "      flex-wrap:wrap;\n",
              "      gap: 12px;\n",
              "    }\n",
              "\n",
              "    .colab-df-convert {\n",
              "      background-color: #E8F0FE;\n",
              "      border: none;\n",
              "      border-radius: 50%;\n",
              "      cursor: pointer;\n",
              "      display: none;\n",
              "      fill: #1967D2;\n",
              "      height: 32px;\n",
              "      padding: 0 0 0 0;\n",
              "      width: 32px;\n",
              "    }\n",
              "\n",
              "    .colab-df-convert:hover {\n",
              "      background-color: #E2EBFA;\n",
              "      box-shadow: 0px 1px 2px rgba(60, 64, 67, 0.3), 0px 1px 3px 1px rgba(60, 64, 67, 0.15);\n",
              "      fill: #174EA6;\n",
              "    }\n",
              "\n",
              "    [theme=dark] .colab-df-convert {\n",
              "      background-color: #3B4455;\n",
              "      fill: #D2E3FC;\n",
              "    }\n",
              "\n",
              "    [theme=dark] .colab-df-convert:hover {\n",
              "      background-color: #434B5C;\n",
              "      box-shadow: 0px 1px 3px 1px rgba(0, 0, 0, 0.15);\n",
              "      filter: drop-shadow(0px 1px 2px rgba(0, 0, 0, 0.3));\n",
              "      fill: #FFFFFF;\n",
              "    }\n",
              "  </style>\n",
              "\n",
              "      <script>\n",
              "        const buttonEl =\n",
              "          document.querySelector('#df-bc4ecff6-79cf-44a8-a909-c85e79007b6e button.colab-df-convert');\n",
              "        buttonEl.style.display =\n",
              "          google.colab.kernel.accessAllowed ? 'block' : 'none';\n",
              "\n",
              "        async function convertToInteractive(key) {\n",
              "          const element = document.querySelector('#df-bc4ecff6-79cf-44a8-a909-c85e79007b6e');\n",
              "          const dataTable =\n",
              "            await google.colab.kernel.invokeFunction('convertToInteractive',\n",
              "                                                     [key], {});\n",
              "          if (!dataTable) return;\n",
              "\n",
              "          const docLinkHtml = 'Like what you see? Visit the ' +\n",
              "            '<a target=\"_blank\" href=https://colab.research.google.com/notebooks/data_table.ipynb>data table notebook</a>'\n",
              "            + ' to learn more about interactive tables.';\n",
              "          element.innerHTML = '';\n",
              "          dataTable['output_type'] = 'display_data';\n",
              "          await google.colab.output.renderOutput(dataTable, element);\n",
              "          const docLink = document.createElement('div');\n",
              "          docLink.innerHTML = docLinkHtml;\n",
              "          element.appendChild(docLink);\n",
              "        }\n",
              "      </script>\n",
              "    </div>\n",
              "  </div>\n",
              "  "
            ]
          },
          "metadata": {},
          "execution_count": 156
        }
      ],
      "source": [
        "df"
      ]
    },
    {
      "cell_type": "code",
      "execution_count": null,
      "metadata": {
        "id": "NHkyFu_A8pUj",
        "colab": {
          "base_uri": "https://localhost:8080/",
          "height": 353
        },
        "outputId": "0159e82f-a13e-4bd4-8d2b-75772218e8a2"
      },
      "outputs": [
        {
          "output_type": "stream",
          "name": "stdout",
          "text": [
            "0    182\n",
            "1    118\n",
            "Name: RF_pred, dtype: int64\n"
          ]
        },
        {
          "output_type": "display_data",
          "data": {
            "text/plain": [
              "<Figure size 1368x360 with 2 Axes>"
            ],
            "image/png": "[encoded data removed]"
          },
          "metadata": {
            "needs_background": "light"
          }
        }
      ],
      "source": [
        "print(df[\"RF_pred\"].value_counts())\n",
        "fig, ax = plt.subplots(1,2, figsize=(19, 5))\n",
        "g1 = sns.countplot(df.RF_pred,ax=ax[0],palette=\"pastel\");\n",
        "g1.set_title(\"Count of real and fake data\")\n",
        "g1.set_ylabel(\"Count\")\n",
        "g1.set_xlabel(\"RF_model\")\n",
        "g2 = plt.pie(df[\"RF_pred\"].value_counts().values,explode=[0,0],labels=df.RF_pred.value_counts().index, autopct='%1.1f%%',colors=['SkyBlue','PeachPuff'])\n",
        "fig.show()"
      ]
    },
    {
      "cell_type": "code",
      "execution_count": null,
      "metadata": {
        "id": "nfZuB-qc8uCf",
        "colab": {
          "base_uri": "https://localhost:8080/",
          "height": 353
        },
        "outputId": "c32c16b1-c7b3-443f-ac27-134b5ce68977"
      },
      "outputs": [
        {
          "output_type": "stream",
          "name": "stdout",
          "text": [
            "0    215\n",
            "1     85\n",
            "Name: XGB_pred, dtype: int64\n"
          ]
        },
        {
          "output_type": "display_data",
          "data": {
            "text/plain": [
              "<Figure size 1368x360 with 2 Axes>"
            ],
            "image/png": "[encoded data removed]"
          },
          "metadata": {
            "needs_background": "light"
          }
        }
      ],
      "source": [
        "print(df[\"XGB_pred\"].value_counts())\n",
        "fig, ax = plt.subplots(1,2, figsize=(19, 5))\n",
        "g1 = sns.countplot(df.XGB_pred,ax=ax[0],palette=\"pastel\");\n",
        "g1.set_title(\"Count of real and fake data\")\n",
        "g1.set_ylabel(\"Count\")\n",
        "g1.set_xlabel(\"XGB_pred\")\n",
        "g2 = plt.pie(df[\"XGB_pred\"].value_counts().values,explode=[0,0],labels=df.XGB_pred.value_counts().index, autopct='%1.1f%%',colors=['Blue','PeachPuff'])\n",
        "fig.show()"
      ]
    },
    {
      "cell_type": "code",
      "execution_count": null,
      "metadata": {
        "id": "RCAesTSZ8x5_",
        "colab": {
          "base_uri": "https://localhost:8080/",
          "height": 353
        },
        "outputId": "4164212f-13fb-417d-bda0-3c265c21eb01"
      },
      "outputs": [
        {
          "output_type": "stream",
          "name": "stdout",
          "text": [
            "0    205\n",
            "1     95\n",
            "Name: LR_pred, dtype: int64\n"
          ]
        },
        {
          "output_type": "display_data",
          "data": {
            "text/plain": [
              "<Figure size 1368x360 with 2 Axes>"
            ],
            "image/png": "[encoded data removed]"
          },
          "metadata": {
            "needs_background": "light"
          }
        }
      ],
      "source": [
        "print(df[\"LR_pred\"].value_counts())\n",
        "fig, ax = plt.subplots(1,2, figsize=(19, 5))\n",
        "g1 = sns.countplot(df.XGB_pred,ax=ax[0],palette=\"pastel\");\n",
        "g1.set_title(\"Count of real and fake data\")\n",
        "g1.set_ylabel(\"Count\")\n",
        "g1.set_xlabel(\"LR_pred\")\n",
        "g2 = plt.pie(df[\"LR_pred\"].value_counts().values,explode=[0,0],labels=df.LR_pred.value_counts().index, autopct='%1.1f%%',colors=['Red','PeachPuff'])\n",
        "fig.show()"
      ]
    }
  ],
  "metadata": {
    "colab": {
      "provenance": []
    },
    "kernelspec": {
      "display_name": "Python 3",
      "name": "python3"
    },
    "language_info": {
      "name": "python"
    }
  },
  "nbformat": 4,
  "nbformat_minor": 0
}